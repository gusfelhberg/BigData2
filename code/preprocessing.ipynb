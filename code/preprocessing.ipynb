{
 "cells": [
  {
   "cell_type": "code",
   "execution_count": 1,
   "metadata": {},
   "outputs": [],
   "source": [
    "import pandas as pd\n",
    "import numpy as np\n",
    "import matplotlib.pyplot as plt\n",
    "import pickle\n",
    "import glob, os\n",
    "import datetime\n",
    "%matplotlib inline"
   ]
  },
  {
   "cell_type": "markdown",
   "metadata": {},
   "source": [
    "# Reading and consolidating excel files"
   ]
  },
  {
   "cell_type": "code",
   "execution_count": 2,
   "metadata": {},
   "outputs": [],
   "source": [
    "# files_path = '../data/IMU Dataset'\n",
    "# files = glob.glob(files_path)\n",
    "# folders = ['ADLs', 'Falls', 'Near_Falls']\n",
    "\n",
    "# df = pd.DataFrame()\n",
    "\n",
    "# for i in range(1,11):\n",
    "#     print('Subject: '+str(i))\n",
    "#     for folder in folders:\n",
    "#         print('-- Trial Type: '+str(folder))\n",
    "#         path = files_path+'/sub'+str(i)+'/'+str(folder)+'/*.xlsx'\n",
    "#         files = glob.glob(path)\n",
    "\n",
    "#         # create a list of dataframes, one for each file, and assign a column with the name of the file\n",
    "#         dfs_list = [pd.read_excel(fp).assign(FileName = os.path.basename(fp)) for fp in files]\n",
    "\n",
    "#         df_temp = pd.DataFrame()\n",
    "#         df_temp = pd.concat(dfs_list)\n",
    "#         df_temp['subject'] = i\n",
    "#         df_temp['trial_type'] = folder\n",
    "        \n",
    "#         df = df.append(df_temp)"
   ]
  },
  {
   "cell_type": "code",
   "execution_count": 2,
   "metadata": {
    "collapsed": true
   },
   "outputs": [],
   "source": [
    "# save the dataframe in a Pickle file\n",
    "# pickle.dump(df, open(\"full_dataset.p\", \"wb\"))\n",
    "\n",
    "# load the dataframe\n",
    "df = pickle.load(open(\"full_dataset.p\", \"rb\"))"
   ]
  },
  {
   "cell_type": "code",
   "execution_count": 2,
   "metadata": {},
   "outputs": [],
   "source": [
    "# Load metadata (file genenerated in notebook exploratory_data_analysis)\n",
    "meta = pickle.load(open(\"./metadata.p\", \"rb\"))\n",
    "meta_acceletarion = list(meta[meta.measure=='acceleration'].index)"
   ]
  },
  {
   "cell_type": "markdown",
   "metadata": {},
   "source": [
    "# Dimensionality Reduction\n",
    "\n",
    "Remove columns with independent readings of X, Y and Z to use only those consolidated using the formula:\n",
    "\n",
    "$\\sqrt{x^2 + y^2 + z^2}$"
   ]
  },
  {
   "cell_type": "markdown",
   "metadata": {},
   "source": [
    "# Approach 1 - **NOT** grouping data in 2.5-second windows"
   ]
  },
  {
   "cell_type": "markdown",
   "metadata": {},
   "source": [
    "### Example of a graph, similar to the ones in the paper\n",
    "\n",
    "#### OBS: Here there is one trial (trial1), from Subject 1, subtype 'slip' from the Fall dataset"
   ]
  },
  {
   "cell_type": "code",
   "execution_count": 8,
   "metadata": {},
   "outputs": [
    {
     "data": {
      "text/plain": [
       "<matplotlib.legend.Legend at 0x108884710>"
      ]
     },
     "execution_count": 8,
     "metadata": {},
     "output_type": "execute_result"
    },
    {
     "data": {
      "image/png": "[encoded data removed]",
      "text/plain": [
       "<matplotlib.figure.Figure at 0x10386d470>"
      ]
     },
     "metadata": {},
     "output_type": "display_data"
    }
   ],
   "source": [
    "subtype = 'slip'\n",
    "trial = 'trial1'\n",
    "subject = 1\n",
    "trial_type = 'Falls'\n",
    "df_graph = df[(df.trial_subtype == subtype) & \n",
    "              (df.trial_num == trial) &\n",
    "              (df.subject == subject) &\n",
    "              (df['trial_type'] == trial_type)\n",
    "             ][['Time']+meta_acceletarion]\n",
    "\n",
    "initial_time = df_graph.Time.min()\n",
    "# Setting the time in seconds and restart the time counting from the first measeure of this trial\n",
    "df_graph['time_seconds'] = df_graph.Time.apply(lambda x: (x-initial_time)/1000000)\n",
    "\n",
    "fig, ax = plt.subplots()\n",
    "df_graph.set_index('time_seconds')['waist Acceleration X (m/s^2)'].plot(color='steelblue', ax=ax, label='waist Acc X (m/$s^2$)')\n",
    "df_graph.set_index('time_seconds')['waist Acceleration Y (m/s^2)'].plot(color='red',ax=ax, label='waist Acc Y (m/$s^2$)')\n",
    "df_graph.set_index('time_seconds')['waist Acceleration Z (m/s^2)'].plot(color='green',ax=ax, label='waist Acc Z (m/$s^2$)')\n",
    "plt.ylabel('Acc. (m/$s^2$)')\n",
    "ax.legend()"
   ]
  },
  {
   "cell_type": "code",
   "execution_count": 16,
   "metadata": {},
   "outputs": [
    {
     "data": {
      "text/plain": [
       "['r.ankle Acceleration X (m/s^2)',\n",
       " 'r.ankle Acceleration Y (m/s^2)',\n",
       " 'r.ankle Acceleration Z (m/s^2)',\n",
       " 'r.ankle Angular Velocity X (rad/s)',\n",
       " 'r.ankle Angular Velocity Y (rad/s)',\n",
       " 'r.ankle Angular Velocity Z (rad/s)',\n",
       " 'r.ankle Magnetic Field X (uT)',\n",
       " 'r.ankle Magnetic Field Y (uT)',\n",
       " 'r.ankle Magnetic Field Z (uT)',\n",
       " 'l.ankle Acceleration X (m/s^2)',\n",
       " 'l.ankle Acceleration Y (m/s^2)',\n",
       " 'l.ankle Acceleration Z (m/s^2)',\n",
       " 'l.ankle Angular Velocity X (rad/s)',\n",
       " 'l.ankle Angular Velocity Y (rad/s)',\n",
       " 'l.ankle Angular Velocity Z (rad/s)',\n",
       " 'l.ankle Magnetic Field X (uT)',\n",
       " 'l.ankle Magnetic Field Y (uT)',\n",
       " 'l.ankle Magnetic Field Z (uT)',\n",
       " 'r.thigh Acceleration X (m/s^2)',\n",
       " 'r.thigh Acceleration Y (m/s^2)',\n",
       " 'r.thigh Acceleration Z (m/s^2)',\n",
       " 'r.thigh Angular Velocity X (rad/s)',\n",
       " 'r.thigh Angular Velocity Y (rad/s)',\n",
       " 'r.thigh Angular Velocity Z (rad/s)',\n",
       " 'r.thigh Magnetic Field X (uT)',\n",
       " 'r.thigh Magnetic Field Y (uT)',\n",
       " 'r.thigh Magnetic Field Z (uT)',\n",
       " 'l.thigh Acceleration X (m/s^2)',\n",
       " 'l.thigh Acceleration Y (m/s^2)',\n",
       " 'l.thigh Acceleration Z (m/s^2)',\n",
       " 'l.thigh Angular Velocity X (rad/s)',\n",
       " 'l.thigh Angular Velocity Y (rad/s)',\n",
       " 'l.thigh Angular Velocity Z (rad/s)',\n",
       " 'l.thigh Magnetic Field X (uT)',\n",
       " 'l.thigh Magnetic Field Y (uT)',\n",
       " 'l.thigh Magnetic Field Z (uT)',\n",
       " 'head Acceleration X (m/s^2)',\n",
       " 'head Acceleration Y (m/s^2)',\n",
       " 'head Acceleration Z (m/s^2)',\n",
       " 'head Angular Velocity X (rad/s)',\n",
       " 'head Angular Velocity Y (rad/s)',\n",
       " 'head Angular Velocity Z (rad/s)',\n",
       " 'head Magnetic Field X (uT)',\n",
       " 'head Magnetic Field Y (uT)',\n",
       " 'head Magnetic Field Z (uT)',\n",
       " 'sternum Acceleration X (m/s^2)',\n",
       " 'sternum Acceleration Y (m/s^2)',\n",
       " 'sternum Acceleration Z (m/s^2)',\n",
       " 'sternum Angular Velocity X (rad/s)',\n",
       " 'sternum Angular Velocity Y (rad/s)',\n",
       " 'sternum Angular Velocity Z (rad/s)',\n",
       " 'sternum Magnetic Field X (uT)',\n",
       " 'sternum Magnetic Field Y (uT)',\n",
       " 'sternum Magnetic Field Z (uT)',\n",
       " 'waist Acceleration X (m/s^2)',\n",
       " 'waist Acceleration Y (m/s^2)',\n",
       " 'waist Acceleration Z (m/s^2)',\n",
       " 'waist Angular Velocity X (rad/s)',\n",
       " 'waist Angular Velocity Y (rad/s)',\n",
       " 'waist Angular Velocity Z (rad/s)',\n",
       " 'waist Magnetic Field X (uT)',\n",
       " 'waist Magnetic Field Y (uT)',\n",
       " 'waist Magnetic Field Z (uT)']"
      ]
     },
     "execution_count": 16,
     "metadata": {},
     "output_type": "execute_result"
    }
   ],
   "source": [
    "# the columns whose metadata axis = XYZ are those with the consolidation of the values\n",
    "cols_to_remove = list(meta[meta.axis != 'XYZ'].index) \n",
    "cols_to_remove\n"
   ]
  },
  {
   "cell_type": "code",
   "execution_count": 17,
   "metadata": {
    "collapsed": true
   },
   "outputs": [],
   "source": [
    "df.drop(cols_to_remove, axis=1, inplace=True)"
   ]
  },
  {
   "cell_type": "markdown",
   "metadata": {},
   "source": [
    "# Marking rows with peak\n",
    "\n",
    "For each consolidated measure (ex: 'waist resultant acceleration') another column is created to mark the peaks.\n",
    "\n",
    "For each trial and for each one of the measures, the column will have value 1 for the peak and value 0 for the rest."
   ]
  },
  {
   "cell_type": "code",
   "execution_count": 4,
   "metadata": {},
   "outputs": [
    {
     "data": {
      "text/plain": [
       "['r.ankle resultant acceleration',\n",
       " 'r.ankle resultant angular velocity',\n",
       " 'r.ankle resultant magnetic field',\n",
       " 'l.ankle resultant acceleration',\n",
       " 'l.ankle resultant angular velocity',\n",
       " 'l.ankle resultant magnetic field',\n",
       " 'r.thigh resultant acceleration',\n",
       " 'r.thigh resultant angular velocity',\n",
       " 'r.thigh resultant magnetic field',\n",
       " 'l.thigh resultant acceleration',\n",
       " 'l.thigh resultant angular velocity',\n",
       " 'l.thigh resultant magnetic field',\n",
       " 'head resultant acceleration',\n",
       " 'head resultant angular velocity',\n",
       " 'head resultant magnetic field',\n",
       " 'sternum resultant acceleration',\n",
       " 'sternum resultant angular velocity',\n",
       " 'sternum resultant magnetic field',\n",
       " 'waist resultant acceleration',\n",
       " 'waist resultant angular velocity',\n",
       " 'waist resultant magnetic field']"
      ]
     },
     "execution_count": 4,
     "metadata": {},
     "output_type": "execute_result"
    }
   ],
   "source": [
    "# columns to get the peak\n",
    "columns_to_get_peak = list(meta[meta.axis=='XYZ'].index)\n",
    "columns_to_get_peak"
   ]
  },
  {
   "cell_type": "code",
   "execution_count": 5,
   "metadata": {
    "collapsed": true
   },
   "outputs": [],
   "source": [
    "# create the columns (add suffix ' - peak') and set value 0 by default\n",
    "for col in columns_to_get_peak:\n",
    "    df[col+' - peak'] = 0"
   ]
  },
  {
   "cell_type": "code",
   "execution_count": 6,
   "metadata": {
    "collapsed": true
   },
   "outputs": [],
   "source": [
    "files = list(df.FileName.unique())\n",
    "for file in files:\n",
    "    df_file = df[df.FileName == file]\n",
    "    \n",
    "    for col in columns_to_get_peak:\n",
    "        \n",
    "        peak = df_file[col].idxmax()\n",
    "        \n",
    "        #store 1 in the row with the max value (the peak)\n",
    "        df.iloc[peak, df.columns.get_loc(str(col+' - peak'))] = 1"
   ]
  },
  {
   "cell_type": "code",
   "execution_count": 3,
   "metadata": {},
   "outputs": [],
   "source": [
    "# # save the dataframe in a Pickle file\n",
    "# pickle.dump(df, open(\"../data/dataset_consolidated_peak.p\", \"wb\"))\n",
    "\n",
    "# load the dataframe\n",
    "df = pickle.load(open(\"../data/dataset_consolidated_peak.p\", \"rb\"))"
   ]
  },
  {
   "cell_type": "code",
   "execution_count": 4,
   "metadata": {},
   "outputs": [],
   "source": [
    "# df.FileName.unique()[0]\n",
    "files = ['JXL_SQ_trial1.xlsx', 'HXE_DS_trial1.xlsx']"
   ]
  },
  {
   "cell_type": "code",
   "execution_count": 6,
   "metadata": {},
   "outputs": [],
   "source": [
    "cols = ['Time', 'time_datetime', 'time_seconds', 'subject', 'trial_type',\n",
    "       'trial_num', 'trial_num_original', 'trial_subtype','waist Acceleration X (m/s^2)', 'waist Acceleration Y (m/s^2)',\n",
    "       'waist Acceleration Z (m/s^2)', 'waist resultant acceleration', 'waist resultant acceleration - peak', \n",
    "        'head Acceleration X (m/s^2)', 'head Acceleration Y (m/s^2)',\n",
    "       'head Acceleration Z (m/s^2)', 'head resultant acceleration', 'head resultant acceleration - peak',\n",
    "        'FileName']"
   ]
  },
  {
   "cell_type": "code",
   "execution_count": 7,
   "metadata": {},
   "outputs": [],
   "source": [
    "df2 = df[(df.FileName == 'AXM_AS_trial1.xlsx') | \n",
    "         (df.FileName == 'HXE_DS_trial1.xlsx')][cols].sort_values(['FileName','time_seconds']).to_csv('dataset_w_peaks_full_file2.csv',index=False)"
   ]
  },
  {
   "cell_type": "code",
   "execution_count": null,
   "metadata": {
    "collapsed": true
   },
   "outputs": [],
   "source": []
  },
  {
   "cell_type": "code",
   "execution_count": 8,
   "metadata": {
    "collapsed": true
   },
   "outputs": [],
   "source": [
    "df[df.FileName == list(df.FileName.unique())[0]].to_csv('dataset_w_peaks_file1.csv')"
   ]
  },
  {
   "cell_type": "code",
   "execution_count": null,
   "metadata": {
    "collapsed": true
   },
   "outputs": [],
   "source": []
  },
  {
   "cell_type": "code",
   "execution_count": null,
   "metadata": {
    "collapsed": true
   },
   "outputs": [],
   "source": []
  },
  {
   "cell_type": "code",
   "execution_count": null,
   "metadata": {
    "collapsed": true
   },
   "outputs": [],
   "source": []
  },
  {
   "cell_type": "code",
   "execution_count": null,
   "metadata": {
    "collapsed": true
   },
   "outputs": [],
   "source": []
  },
  {
   "cell_type": "code",
   "execution_count": null,
   "metadata": {
    "collapsed": true
   },
   "outputs": [],
   "source": []
  },
  {
   "cell_type": "code",
   "execution_count": null,
   "metadata": {
    "collapsed": true
   },
   "outputs": [],
   "source": []
  },
  {
   "cell_type": "code",
   "execution_count": null,
   "metadata": {
    "collapsed": true
   },
   "outputs": [],
   "source": []
  },
  {
   "cell_type": "code",
   "execution_count": null,
   "metadata": {
    "collapsed": true
   },
   "outputs": [],
   "source": []
  },
  {
   "cell_type": "code",
   "execution_count": null,
   "metadata": {
    "collapsed": true
   },
   "outputs": [],
   "source": []
  },
  {
   "cell_type": "code",
   "execution_count": null,
   "metadata": {
    "collapsed": true
   },
   "outputs": [],
   "source": []
  },
  {
   "cell_type": "code",
   "execution_count": 9,
   "metadata": {},
   "outputs": [
    {
     "data": {
      "text/plain": [
       "Index(['Time', 'time_datetime', 'time_seconds', 'subject', 'trial_type',\n",
       "       'trial_num', 'trial_num_original', 'trial_subtype',\n",
       "       'r.ankle Acceleration X (m/s^2)', 'r.ankle Acceleration Y (m/s^2)',\n",
       "       ...\n",
       "       'l.thigh resultant magnetic field - peak',\n",
       "       'head resultant acceleration - peak',\n",
       "       'head resultant angular velocity - peak',\n",
       "       'head resultant magnetic field - peak',\n",
       "       'sternum resultant acceleration - peak',\n",
       "       'sternum resultant angular velocity - peak',\n",
       "       'sternum resultant magnetic field - peak',\n",
       "       'waist resultant acceleration - peak',\n",
       "       'waist resultant angular velocity - peak',\n",
       "       'waist resultant magnetic field - peak'],\n",
       "      dtype='object', length=115)"
      ]
     },
     "execution_count": 9,
     "metadata": {},
     "output_type": "execute_result"
    }
   ],
   "source": [
    "df.columns"
   ]
  },
  {
   "cell_type": "markdown",
   "metadata": {},
   "source": [
    "### Example of graph highlighting the surrounding of the peak "
   ]
  },
  {
   "cell_type": "code",
   "execution_count": 10,
   "metadata": {
    "collapsed": true
   },
   "outputs": [],
   "source": [
    "df_graph = df[(df.trial_num == 1) & (df.trial_subtype == 'AS') & (df.subject==1)]"
   ]
  },
  {
   "cell_type": "code",
   "execution_count": 11,
   "metadata": {
    "collapsed": true
   },
   "outputs": [],
   "source": [
    "peak_index = df_graph['waist resultant acceleration'].idxmax()\n",
    "time_peak = df_graph.iloc[peak_index,df.columns.get_loc('time_seconds')]\n",
    "interval = 4"
   ]
  },
  {
   "cell_type": "code",
   "execution_count": 12,
   "metadata": {},
   "outputs": [
    {
     "data": {
      "text/plain": [
       "<matplotlib.legend.Legend at 0x10c6c3ac8>"
      ]
     },
     "execution_count": 12,
     "metadata": {},
     "output_type": "execute_result"
    },
    {
     "data": {
      "image/png": "[encoded data removed]",
      "text/plain": [
       "<matplotlib.figure.Figure at 0x10d9b94a8>"
      ]
     },
     "metadata": {},
     "output_type": "display_data"
    }
   ],
   "source": [
    "fig, ax = plt.subplots( figsize=(15,5))\n",
    "df_graph.set_index('time_seconds')['waist resultant acceleration'].plot()\n",
    "plt.axvspan(time_peak - interval/2.0, time_peak + interval/2.0, color='yellow', alpha=0.3)\n",
    "ax.legend()"
   ]
  },
  {
   "cell_type": "markdown",
   "metadata": {},
   "source": [
    "## Deletion of rows outsite range\n",
    "\n",
    "Initially this will be done"
   ]
  },
  {
   "cell_type": "code",
   "execution_count": 1,
   "metadata": {
    "collapsed": true
   },
   "outputs": [],
   "source": [
    "interval = 4 # all rows round this interval will be removed"
   ]
  },
  {
   "cell_type": "code",
   "execution_count": null,
   "metadata": {
    "collapsed": true
   },
   "outputs": [],
   "source": [
    "files = list(df.FileName.unique())\n",
    "for file in files:\n",
    "    df_file = df[df.FileName == file]\n",
    "    \n",
    "    for col in columns_to_get_peak:\n",
    "        \n",
    "        peak = df_file[col].idxmax()\n",
    "        \n",
    "        #store 1 in the row with the max value (the peak)\n",
    "        df.iloc[peak, df.columns.get_loc(str(col+' - peak'))] = 1"
   ]
  },
  {
   "cell_type": "code",
   "execution_count": null,
   "metadata": {
    "collapsed": true
   },
   "outputs": [],
   "source": [
    "def remove_data_around_peak(df, body_location, interval):\n",
    "    columns = list(meta[(meta.body_location == body_location) & (meta.axis == 'XYZ')].index)\n",
    "    df = "
   ]
  },
  {
   "cell_type": "code",
   "execution_count": null,
   "metadata": {
    "collapsed": true
   },
   "outputs": [],
   "source": []
  }
 ],
 "metadata": {
  "kernelspec": {
   "display_name": "Python 3",
   "language": "python",
   "name": "python3"
  },
  "language_info": {
   "codemirror_mode": {
    "name": "ipython",
    "version": 3
   },
   "file_extension": ".py",
   "mimetype": "text/x-python",
   "name": "python",
   "nbconvert_exporter": "python",
   "pygments_lexer": "ipython3",
   "version": "3.6.4"
  }
 },
 "nbformat": 4,
 "nbformat_minor": 2
}
