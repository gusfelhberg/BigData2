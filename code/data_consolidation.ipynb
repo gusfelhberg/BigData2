{
 "cells": [
  {
   "cell_type": "code",
   "execution_count": 1,
   "metadata": {
    "collapsed": true
   },
   "outputs": [],
   "source": [
    "import pandas as pd\n",
    "import numpy as np\n",
    "import matplotlib.pyplot as plt\n",
    "import pickle\n",
    "import glob, os\n",
    "import datetime\n",
    "%matplotlib inline"
   ]
  },
  {
   "cell_type": "code",
   "execution_count": 2,
   "metadata": {
    "collapsed": true
   },
   "outputs": [],
   "source": [
    "import warnings\n",
    "warnings.filterwarnings(\"ignore\")"
   ]
  },
  {
   "cell_type": "markdown",
   "metadata": {},
   "source": [
    "# Reading and consolidating original excel files\n",
    "\n",
    "The original files were organized in folders, each one by the type of trial (ADLs, Falls, Near_Falls). This next step consolidate all the files in a Pandas Dataframe.\n",
    "\n",
    "Since the time to load all the files is long, we created a picke file \"dataset_raw.p\" containing the consolidated original data."
   ]
  },
  {
   "cell_type": "code",
   "execution_count": 3,
   "metadata": {
    "collapsed": true
   },
   "outputs": [],
   "source": [
    "from pathlib import Path\n",
    "dataset_pickle_file = Path(\"../data/dataset_raw.p\")\n",
    "if dataset_pickle_file.is_file():\n",
    "    # load the dataframe\n",
    "    df = pickle.load(open(\"../data/dataset_raw.p\", \"rb\"))\n",
    "else:    \n",
    "    files_path = '../data/IMU Dataset'\n",
    "    files = glob.glob(files_path)\n",
    "    folders = ['ADLs', 'Falls', 'Near_Falls']\n",
    "\n",
    "    df = pd.DataFrame()\n",
    "\n",
    "    for i in range(1,11):\n",
    "        print('Subject: '+str(i))\n",
    "        for folder in folders:\n",
    "            print('-- Trial Type: '+str(folder))\n",
    "            path = files_path+'/sub'+str(i)+'/'+str(folder)+'/*.xlsx'\n",
    "            files = glob.glob(path)\n",
    "\n",
    "            # create a list of dataframes, one for each file, and assign a column with the name of the file\n",
    "            dfs_list = [pd.read_excel(fp).assign(FileName = os.path.basename(fp)) for fp in files]\n",
    "\n",
    "            df_temp = pd.DataFrame()\n",
    "            df_temp = pd.concat(dfs_list)\n",
    "            df_temp['subject'] = i\n",
    "            df_temp['trial_type'] = folder\n",
    "\n",
    "            df = df.append(df_temp)\n",
    "\n",
    "    ## save the dataframe in a Pickle file\n",
    "    pickle.dump(df, open(\"../data/dataset_raw.p\", \"wb\"))"
   ]
  },
  {
   "cell_type": "markdown",
   "metadata": {},
   "source": [
    "## Including implicit features\n",
    "\n",
    "In this step we include the following features that are not in the original data files, but that can be retrieved by the file names.\n",
    "\n",
    "**trial_type:** ADLs, Near Falls or Falls\n",
    "\n",
    "**trial_subtypes:** SQ, DS, AS, POG, NW, RSS, DSL, DSS, HB, LCC, ITCS, trip, ITRS, ITDS, slip\n",
    "\n",
    "**trial_number:** 1 to 3\n",
    "\n",
    "**subject:** 1 to 10\n",
    "\n",
    "**time_datetime:** time of the reading in format YYYY-MM-DD HH:MM:SS.SSSSSS"
   ]
  },
  {
   "cell_type": "code",
   "execution_count": 4,
   "metadata": {},
   "outputs": [
    {
     "data": {
      "text/plain": [
       "ADLs          498810\n",
       "Falls         403402\n",
       "Near_Falls    288157\n",
       "Name: trial_type, dtype: int64"
      ]
     },
     "execution_count": 4,
     "metadata": {},
     "output_type": "execute_result"
    }
   ],
   "source": [
    "df['trial_type'].value_counts()"
   ]
  },
  {
   "cell_type": "code",
   "execution_count": 5,
   "metadata": {},
   "outputs": [
    {
     "data": {
      "text/plain": [
       "0      SQ\n",
       "0      DS\n",
       "0      AS\n",
       "0     POG\n",
       "0      NW\n",
       "0     RSS\n",
       "0     DSL\n",
       "0     DSS\n",
       "0      HB\n",
       "0     LCC\n",
       "0    ITCS\n",
       "0    trip\n",
       "0    ITRS\n",
       "0    ITDS\n",
       "0    slip\n",
       "0      CS\n",
       "Name: FileName, dtype: object"
      ]
     },
     "execution_count": 5,
     "metadata": {},
     "output_type": "execute_result"
    }
   ],
   "source": [
    "df['FileName'].apply(lambda x: x.split('_')[1]).drop_duplicates()"
   ]
  },
  {
   "cell_type": "code",
   "execution_count": 6,
   "metadata": {},
   "outputs": [
    {
     "data": {
      "text/html": [
       "<div>\n",
       "<style>\n",
       "    .dataframe thead tr:only-child th {\n",
       "        text-align: right;\n",
       "    }\n",
       "\n",
       "    .dataframe thead th {\n",
       "        text-align: left;\n",
       "    }\n",
       "\n",
       "    .dataframe tbody tr th {\n",
       "        vertical-align: top;\n",
       "    }\n",
       "</style>\n",
       "<table border=\"1\" class=\"dataframe\">\n",
       "  <thead>\n",
       "    <tr style=\"text-align: right;\">\n",
       "      <th></th>\n",
       "      <th>Time</th>\n",
       "      <th>r.ankle Acceleration X (m/s^2)</th>\n",
       "      <th>r.ankle Acceleration Y (m/s^2)</th>\n",
       "      <th>r.ankle Acceleration Z (m/s^2)</th>\n",
       "      <th>r.ankle Angular Velocity X (rad/s)</th>\n",
       "      <th>r.ankle Angular Velocity Y (rad/s)</th>\n",
       "      <th>r.ankle Angular Velocity Z (rad/s)</th>\n",
       "      <th>r.ankle Magnetic Field X (uT)</th>\n",
       "      <th>r.ankle Magnetic Field Y (uT)</th>\n",
       "      <th>r.ankle Magnetic Field Z (uT)</th>\n",
       "      <th>...</th>\n",
       "      <th>waist Magnetic Field X (uT)</th>\n",
       "      <th>waist Magnetic Field Y (uT)</th>\n",
       "      <th>waist Magnetic Field Z (uT)</th>\n",
       "      <th>FileName</th>\n",
       "      <th>subject</th>\n",
       "      <th>trial_type</th>\n",
       "      <th>trial_num_original</th>\n",
       "      <th>trial_subtype</th>\n",
       "      <th>time_datetime</th>\n",
       "      <th>target</th>\n",
       "    </tr>\n",
       "  </thead>\n",
       "  <tbody>\n",
       "    <tr>\n",
       "      <th>0</th>\n",
       "      <td>1304799112429680</td>\n",
       "      <td>-9.691464</td>\n",
       "      <td>-0.240769</td>\n",
       "      <td>-1.514349</td>\n",
       "      <td>0.218779</td>\n",
       "      <td>0.055136</td>\n",
       "      <td>-0.011516</td>\n",
       "      <td>33.449158</td>\n",
       "      <td>19.266598</td>\n",
       "      <td>15.818048</td>\n",
       "      <td>...</td>\n",
       "      <td>45.724129</td>\n",
       "      <td>-24.729599</td>\n",
       "      <td>-24.925210</td>\n",
       "      <td>JXL_SQ_trial1.xlsx</td>\n",
       "      <td>1</td>\n",
       "      <td>ADLs</td>\n",
       "      <td>1</td>\n",
       "      <td>SQ</td>\n",
       "      <td>2011-05-07 20:11:52.429680</td>\n",
       "      <td>0</td>\n",
       "    </tr>\n",
       "    <tr>\n",
       "      <th>1</th>\n",
       "      <td>1304799112437500</td>\n",
       "      <td>-9.698196</td>\n",
       "      <td>-0.245077</td>\n",
       "      <td>-1.509888</td>\n",
       "      <td>0.213975</td>\n",
       "      <td>0.059683</td>\n",
       "      <td>-0.016308</td>\n",
       "      <td>33.449158</td>\n",
       "      <td>19.266598</td>\n",
       "      <td>15.818048</td>\n",
       "      <td>...</td>\n",
       "      <td>43.054999</td>\n",
       "      <td>-27.175334</td>\n",
       "      <td>-17.818824</td>\n",
       "      <td>JXL_SQ_trial1.xlsx</td>\n",
       "      <td>1</td>\n",
       "      <td>ADLs</td>\n",
       "      <td>1</td>\n",
       "      <td>SQ</td>\n",
       "      <td>2011-05-07 20:11:52.437500</td>\n",
       "      <td>0</td>\n",
       "    </tr>\n",
       "  </tbody>\n",
       "</table>\n",
       "<p>2 rows × 71 columns</p>\n",
       "</div>"
      ],
      "text/plain": [
       "               Time  r.ankle Acceleration X (m/s^2)  \\\n",
       "0  1304799112429680                       -9.691464   \n",
       "1  1304799112437500                       -9.698196   \n",
       "\n",
       "   r.ankle Acceleration Y (m/s^2)  r.ankle Acceleration Z (m/s^2)  \\\n",
       "0                       -0.240769                       -1.514349   \n",
       "1                       -0.245077                       -1.509888   \n",
       "\n",
       "   r.ankle Angular Velocity X (rad/s)  r.ankle Angular Velocity Y (rad/s)  \\\n",
       "0                            0.218779                            0.055136   \n",
       "1                            0.213975                            0.059683   \n",
       "\n",
       "   r.ankle Angular Velocity Z (rad/s)  r.ankle Magnetic Field X (uT)  \\\n",
       "0                           -0.011516                      33.449158   \n",
       "1                           -0.016308                      33.449158   \n",
       "\n",
       "   r.ankle Magnetic Field Y (uT)  r.ankle Magnetic Field Z (uT)   ...    \\\n",
       "0                      19.266598                      15.818048   ...     \n",
       "1                      19.266598                      15.818048   ...     \n",
       "\n",
       "   waist Magnetic Field X (uT)  waist Magnetic Field Y (uT)  \\\n",
       "0                    45.724129                   -24.729599   \n",
       "1                    43.054999                   -27.175334   \n",
       "\n",
       "   waist Magnetic Field Z (uT)            FileName  subject  trial_type  \\\n",
       "0                   -24.925210  JXL_SQ_trial1.xlsx        1        ADLs   \n",
       "1                   -17.818824  JXL_SQ_trial1.xlsx        1        ADLs   \n",
       "\n",
       "   trial_num_original  trial_subtype              time_datetime  target  \n",
       "0                   1             SQ 2011-05-07 20:11:52.429680       0  \n",
       "1                   1             SQ 2011-05-07 20:11:52.437500       0  \n",
       "\n",
       "[2 rows x 71 columns]"
      ]
     },
     "execution_count": 6,
     "metadata": {},
     "output_type": "execute_result"
    }
   ],
   "source": [
    "# 'Trial Type' is not ordinal, so we will need dummy variables\n",
    "\n",
    "# extraction of the trial number from the file name\n",
    "# Not Ordinal: necessary dummy variables\n",
    "df['trial_num_original'] = df['FileName'].apply(lambda x: x.replace('.xlsx','').replace('trial','').split('_')[-1]).astype(int)\n",
    "\n",
    "# extraction of the trial subtype (slip, trip, pick object from ground, etc) from the file name\n",
    "# Necessary dummy variables\n",
    "df['trial_subtype'] = df['FileName'].apply(lambda x: x.split('_')[1])\n",
    "\n",
    "# column with the real date and time of the measurement\n",
    "# according to the README.txt, the Time column is the number of microseconds from 01/01/1970\n",
    "initial = datetime.datetime(1970,1,1,0,0,0)\n",
    "df['time_datetime'] = df.Time.apply(lambda x: (initial + datetime.timedelta(microseconds=x)))\n",
    "# creating the column 'Time_datetime' in a pandas datetime format\n",
    "df['time_datetime'] = df.time_datetime.apply(lambda t: pd.datetime(t.year,t.month,t.day,t.hour,t.minute,t.second,t.microsecond))\n",
    "\n",
    "###### The first 3 characters of the file name seems to be a supercategory of the trial_subtype.\n",
    "###### This way, I believe we can discard it and use just trial_subtype\n",
    "df['target'] = np.where(df['trial_type'] == 'Falls', 1, 0)\n",
    "df.head(2)"
   ]
  },
  {
   "cell_type": "markdown",
   "metadata": {},
   "source": [
    "This following step changes the value 'CS' to 'ITCS', the correct name of the subtype"
   ]
  },
  {
   "cell_type": "code",
   "execution_count": 7,
   "metadata": {
    "collapsed": true
   },
   "outputs": [],
   "source": [
    "df.trial_subtype = np.where(df.trial_subtype == 'CS', 'ITCS', df.trial_subtype)"
   ]
  },
  {
   "cell_type": "markdown",
   "metadata": {},
   "source": [
    "## Create column with counting of time starting from 0 for each trial\n",
    "\n",
    "The original data files have a column with the value of microseconds of the reading. For instance, the first reading of some trial is 1304799112429680. This value means the number of microseconds from the date 01/01/1970 until the moment of the reading. For this particular case, the datetime in a human legible way is 2011-05-07 20:11:52.429680.\n",
    "\n",
    "The following code creates a column 'time_seconds' to store the value in seconds for each of the readings, always restarting in 0 for each trial."
   ]
  },
  {
   "cell_type": "code",
   "execution_count": 8,
   "metadata": {
    "collapsed": true
   },
   "outputs": [],
   "source": [
    "# get the minimum time for each file/trial\n",
    "times = df.groupby('FileName').min()['Time']"
   ]
  },
  {
   "cell_type": "code",
   "execution_count": 9,
   "metadata": {
    "collapsed": true
   },
   "outputs": [],
   "source": [
    "df['min_time'] = df.FileName.apply(lambda x: times[x])\n",
    "df['time_seconds'] = (df.Time - df.min_time)/1000000"
   ]
  },
  {
   "cell_type": "code",
   "execution_count": 10,
   "metadata": {
    "collapsed": true
   },
   "outputs": [],
   "source": [
    "df.drop('min_time',axis=1,inplace=True)"
   ]
  },
  {
   "cell_type": "markdown",
   "metadata": {},
   "source": [
    "<hr>"
   ]
  },
  {
   "cell_type": "markdown",
   "metadata": {},
   "source": [
    "## Resetting trial_num values\n",
    "\n",
    "After extracting some of the features from the files names, we noted that for some trials, the numbering of the trial numbers do not follow the pattern 1,2,3. Some have a sequence as '2','4','5' for example. The code below restart the counting of the trials in 1 to 3 and store it in the column 'trial_num'. The original number of trials are stored in the column 'trial_num_original'."
   ]
  },
  {
   "cell_type": "code",
   "execution_count": 11,
   "metadata": {
    "collapsed": true
   },
   "outputs": [],
   "source": [
    "list_trial_nums = []\n",
    "for type in list(df.trial_type.unique()):\n",
    "    for subtype in list(df[df.trial_type == type].trial_subtype.unique()):\n",
    "        for subject in list(df[(df.trial_type == type) & (df.trial_subtype == subtype)].subject.unique()):\n",
    "#             print(subject)\n",
    "            trials = list(df[(df.trial_type == type) & (df.trial_subtype == subtype) & (df.subject == subject)].trial_num_original.unique())\n",
    "            trials = sorted(trials)\n",
    "            trials = [int(x) for x in trials]\n",
    "            \n",
    "            trials_correct = [i+1 for i in range(len(trials))]\n",
    "            trial_dict = dict()\n",
    "            for i in range(3):\n",
    "                trial_dict[trials[i]] = trials_correct[i]\n",
    "                \n",
    "            list_trial_nums.append([type, subtype, subject, trial_dict])"
   ]
  },
  {
   "cell_type": "code",
   "execution_count": 12,
   "metadata": {
    "collapsed": true
   },
   "outputs": [],
   "source": [
    "list_dfs = []\n",
    "for index, item in enumerate(list_trial_nums):\n",
    "    df_adjusts = df[(df.trial_type == item[0])&\n",
    "                    (df.trial_subtype == item[1])&\n",
    "                    (df.subject == item[2])                    \n",
    "                    ]\n",
    "    df_adjusts['trial_num'] = df_adjusts.trial_num_original.apply(lambda x: item[3][x])\n",
    "    \n",
    "    list_dfs.append(df_adjusts)"
   ]
  },
  {
   "cell_type": "code",
   "execution_count": 13,
   "metadata": {
    "collapsed": true
   },
   "outputs": [],
   "source": [
    "df_new = pd.concat(list_dfs, axis=0)"
   ]
  },
  {
   "cell_type": "code",
   "execution_count": 14,
   "metadata": {},
   "outputs": [
    {
     "data": {
      "text/plain": [
       "(1190369, 73)"
      ]
     },
     "execution_count": 14,
     "metadata": {},
     "output_type": "execute_result"
    }
   ],
   "source": [
    "df_new.shape"
   ]
  },
  {
   "cell_type": "markdown",
   "metadata": {},
   "source": [
    "<hr>"
   ]
  },
  {
   "cell_type": "markdown",
   "metadata": {},
   "source": [
    "# Metadata\n",
    "\n",
    "To facilitate the data management, we'll store meta-information about the variables in a DataFrame. This will be helpful when we want to select specific variables for analysis, visualization, modeling, ...\n",
    "\n",
    "Concretely we will store:\n",
    "\n",
    "* Body Location: r.ankle, l.ankle, r.thigh, l.thigh, head, sternum, waist\n",
    "* Axes: X, Y, Z\n",
    "* Unit: m/s^2, rad/s, uT\n",
    "* Measurements: aceleration, angular Velocity, magnetic field\n",
    "* dtype: int, float, str"
   ]
  },
  {
   "cell_type": "code",
   "execution_count": 15,
   "metadata": {
    "collapsed": true
   },
   "outputs": [],
   "source": [
    "data = []\n",
    "for f in df.columns:\n",
    "\n",
    "    measure = ''\n",
    "    # Defining the measure\n",
    "    if 'cceleration' in f:\n",
    "        measure = 'acceleration'\n",
    "    elif 'ngular' in f:\n",
    "        measure = 'angular velocity'\n",
    "    elif 'agnetic' in f:\n",
    "        measure = 'magnetic field'\n",
    "         \n",
    "    # Defining the body location\n",
    "    body_location = ''\n",
    "    if 'r.ankle' in f:\n",
    "        body_location = 'r.ankle'\n",
    "    elif 'l.ankle' in f:\n",
    "        body_location = 'l.ankle'\n",
    "    elif 'r.thigh' in f:\n",
    "        body_location = 'r.thigh'\n",
    "    elif 'l.thigh' in f:\n",
    "        body_location = 'l.thigh'\n",
    "    elif 'head' in f:\n",
    "        body_location = 'head'\n",
    "    elif 'sternum' in f:\n",
    "        body_location = 'sternum'\n",
    "    elif 'waist' in f:\n",
    "        body_location = 'waist'\n",
    "\n",
    "    axis = ''\n",
    "    # Defining the Axes\n",
    "    if ' X ' in f:\n",
    "        axis = 'X'\n",
    "    elif ' Y ' in f:\n",
    "        axis = 'Y'\n",
    "    elif ' Z ' in f:\n",
    "        axis = 'Z'  \n",
    "    elif ' resultant ' in f:\n",
    "        axis = 'XYZ'\n",
    "        \n",
    "    # Defining the data type \n",
    "    dtype = df_new[f].dtype\n",
    "    \n",
    "    # Creating a Dict that contains all the metadata for the variable\n",
    "    f_dict = {\n",
    "        'varname': f,\n",
    "        'body_location': body_location,\n",
    "        'axis': axis,\n",
    "        'measure': measure,\n",
    "        'dtype': dtype\n",
    "    }\n",
    "    data.append(f_dict)\n",
    "    \n",
    "meta = pd.DataFrame(data, columns=['varname', 'body_location', 'axis', 'measure', 'dtype'])\n",
    "meta.set_index('varname', inplace=True)"
   ]
  },
  {
   "cell_type": "markdown",
   "metadata": {},
   "source": [
    "<hr>"
   ]
  },
  {
   "cell_type": "markdown",
   "metadata": {},
   "source": [
    "## Calculating resultant measures\n",
    "\n",
    "Consolidate the readings of the 3 axis using the equation below (example with waist acceleration)\n",
    "\n",
    "df[\"waist resultant acceleration\"] = $\\sqrt{Acc_x^2 + Acc_y^2 + Acc_z^2}$"
   ]
  },
  {
   "cell_type": "code",
   "execution_count": 16,
   "metadata": {},
   "outputs": [
    {
     "name": "stdout",
     "output_type": "stream",
     "text": [
      "r.ankle\n",
      "l.ankle\n",
      "r.thigh\n",
      "l.thigh\n",
      "head\n",
      "sternum\n",
      "waist\n"
     ]
    }
   ],
   "source": [
    "## TAKES LONG TIME TO RUN.\n",
    "# It will print the name of each body sensor location to follow the process of this code\n",
    "\n",
    "for body_part in list(meta.body_location.unique())[1:]:\n",
    "    print(body_part)\n",
    "    for measure in list(meta.measure.unique())[1:]:\n",
    "        col_name = str(body_part + ' resultant ' + measure)\n",
    "        col_to_calculate = list(meta[(meta.body_location == body_part) & (meta.measure == measure)].index)\n",
    "        df_new[col_name] = df_new.apply(lambda x: np.sqrt(x[col_to_calculate[0]]**2 + x[col_to_calculate[1]]**2 + x[col_to_calculate[2]]**2), axis=1)"
   ]
  },
  {
   "cell_type": "code",
   "execution_count": 17,
   "metadata": {},
   "outputs": [
    {
     "data": {
      "text/html": [
       "<div>\n",
       "<style>\n",
       "    .dataframe thead tr:only-child th {\n",
       "        text-align: right;\n",
       "    }\n",
       "\n",
       "    .dataframe thead th {\n",
       "        text-align: left;\n",
       "    }\n",
       "\n",
       "    .dataframe tbody tr th {\n",
       "        vertical-align: top;\n",
       "    }\n",
       "</style>\n",
       "<table border=\"1\" class=\"dataframe\">\n",
       "  <thead>\n",
       "    <tr style=\"text-align: right;\">\n",
       "      <th></th>\n",
       "      <th>Time</th>\n",
       "      <th>r.ankle Acceleration X (m/s^2)</th>\n",
       "      <th>r.ankle Acceleration Y (m/s^2)</th>\n",
       "      <th>r.ankle Acceleration Z (m/s^2)</th>\n",
       "      <th>r.ankle Angular Velocity X (rad/s)</th>\n",
       "      <th>r.ankle Angular Velocity Y (rad/s)</th>\n",
       "      <th>r.ankle Angular Velocity Z (rad/s)</th>\n",
       "      <th>r.ankle Magnetic Field X (uT)</th>\n",
       "      <th>r.ankle Magnetic Field Y (uT)</th>\n",
       "      <th>r.ankle Magnetic Field Z (uT)</th>\n",
       "      <th>...</th>\n",
       "      <th>l.thigh resultant magnetic field</th>\n",
       "      <th>head resultant acceleration</th>\n",
       "      <th>head resultant angular velocity</th>\n",
       "      <th>head resultant magnetic field</th>\n",
       "      <th>sternum resultant acceleration</th>\n",
       "      <th>sternum resultant angular velocity</th>\n",
       "      <th>sternum resultant magnetic field</th>\n",
       "      <th>waist resultant acceleration</th>\n",
       "      <th>waist resultant angular velocity</th>\n",
       "      <th>waist resultant magnetic field</th>\n",
       "    </tr>\n",
       "  </thead>\n",
       "  <tbody>\n",
       "    <tr>\n",
       "      <th>0</th>\n",
       "      <td>1304799112429680</td>\n",
       "      <td>-9.691464</td>\n",
       "      <td>-0.240769</td>\n",
       "      <td>-1.514349</td>\n",
       "      <td>0.218779</td>\n",
       "      <td>0.055136</td>\n",
       "      <td>-0.011516</td>\n",
       "      <td>33.449158</td>\n",
       "      <td>19.266598</td>\n",
       "      <td>15.818048</td>\n",
       "      <td>...</td>\n",
       "      <td>76.938693</td>\n",
       "      <td>9.737775</td>\n",
       "      <td>0.205785</td>\n",
       "      <td>83.535679</td>\n",
       "      <td>9.735780</td>\n",
       "      <td>0.265283</td>\n",
       "      <td>50.703732</td>\n",
       "      <td>9.864789</td>\n",
       "      <td>1.122888</td>\n",
       "      <td>57.649936</td>\n",
       "    </tr>\n",
       "    <tr>\n",
       "      <th>1</th>\n",
       "      <td>1304799112437500</td>\n",
       "      <td>-9.698196</td>\n",
       "      <td>-0.245077</td>\n",
       "      <td>-1.509888</td>\n",
       "      <td>0.213975</td>\n",
       "      <td>0.059683</td>\n",
       "      <td>-0.016308</td>\n",
       "      <td>33.449158</td>\n",
       "      <td>19.266598</td>\n",
       "      <td>15.818048</td>\n",
       "      <td>...</td>\n",
       "      <td>75.272852</td>\n",
       "      <td>9.730029</td>\n",
       "      <td>0.215989</td>\n",
       "      <td>83.284594</td>\n",
       "      <td>9.736724</td>\n",
       "      <td>0.272279</td>\n",
       "      <td>46.261673</td>\n",
       "      <td>9.845113</td>\n",
       "      <td>1.129150</td>\n",
       "      <td>53.942026</td>\n",
       "    </tr>\n",
       "    <tr>\n",
       "      <th>2</th>\n",
       "      <td>1304799112445310</td>\n",
       "      <td>-9.707324</td>\n",
       "      <td>-0.240524</td>\n",
       "      <td>-1.503184</td>\n",
       "      <td>0.215362</td>\n",
       "      <td>0.048608</td>\n",
       "      <td>-0.008371</td>\n",
       "      <td>33.925814</td>\n",
       "      <td>18.780263</td>\n",
       "      <td>16.358234</td>\n",
       "      <td>...</td>\n",
       "      <td>76.399088</td>\n",
       "      <td>9.734939</td>\n",
       "      <td>0.215544</td>\n",
       "      <td>84.138524</td>\n",
       "      <td>9.748169</td>\n",
       "      <td>0.269626</td>\n",
       "      <td>51.684996</td>\n",
       "      <td>9.843324</td>\n",
       "      <td>1.121401</td>\n",
       "      <td>49.053275</td>\n",
       "    </tr>\n",
       "    <tr>\n",
       "      <th>3</th>\n",
       "      <td>1304799112453120</td>\n",
       "      <td>-9.700565</td>\n",
       "      <td>-0.238417</td>\n",
       "      <td>-1.503189</td>\n",
       "      <td>0.212007</td>\n",
       "      <td>0.051853</td>\n",
       "      <td>-0.006869</td>\n",
       "      <td>33.925814</td>\n",
       "      <td>18.780263</td>\n",
       "      <td>16.358234</td>\n",
       "      <td>...</td>\n",
       "      <td>76.113303</td>\n",
       "      <td>9.737261</td>\n",
       "      <td>0.208668</td>\n",
       "      <td>82.744759</td>\n",
       "      <td>9.746346</td>\n",
       "      <td>0.266867</td>\n",
       "      <td>52.142097</td>\n",
       "      <td>9.833984</td>\n",
       "      <td>1.125120</td>\n",
       "      <td>56.348231</td>\n",
       "    </tr>\n",
       "    <tr>\n",
       "      <th>4</th>\n",
       "      <td>1304799112460930</td>\n",
       "      <td>-9.698231</td>\n",
       "      <td>-0.242868</td>\n",
       "      <td>-1.507656</td>\n",
       "      <td>0.217024</td>\n",
       "      <td>0.055225</td>\n",
       "      <td>-0.008403</td>\n",
       "      <td>33.436905</td>\n",
       "      <td>18.789406</td>\n",
       "      <td>16.859036</td>\n",
       "      <td>...</td>\n",
       "      <td>76.399088</td>\n",
       "      <td>9.727343</td>\n",
       "      <td>0.225453</td>\n",
       "      <td>82.618975</td>\n",
       "      <td>9.738551</td>\n",
       "      <td>0.269698</td>\n",
       "      <td>55.118507</td>\n",
       "      <td>9.841990</td>\n",
       "      <td>1.133976</td>\n",
       "      <td>55.478944</td>\n",
       "    </tr>\n",
       "  </tbody>\n",
       "</table>\n",
       "<p>5 rows × 94 columns</p>\n",
       "</div>"
      ],
      "text/plain": [
       "               Time  r.ankle Acceleration X (m/s^2)  \\\n",
       "0  1304799112429680                       -9.691464   \n",
       "1  1304799112437500                       -9.698196   \n",
       "2  1304799112445310                       -9.707324   \n",
       "3  1304799112453120                       -9.700565   \n",
       "4  1304799112460930                       -9.698231   \n",
       "\n",
       "   r.ankle Acceleration Y (m/s^2)  r.ankle Acceleration Z (m/s^2)  \\\n",
       "0                       -0.240769                       -1.514349   \n",
       "1                       -0.245077                       -1.509888   \n",
       "2                       -0.240524                       -1.503184   \n",
       "3                       -0.238417                       -1.503189   \n",
       "4                       -0.242868                       -1.507656   \n",
       "\n",
       "   r.ankle Angular Velocity X (rad/s)  r.ankle Angular Velocity Y (rad/s)  \\\n",
       "0                            0.218779                            0.055136   \n",
       "1                            0.213975                            0.059683   \n",
       "2                            0.215362                            0.048608   \n",
       "3                            0.212007                            0.051853   \n",
       "4                            0.217024                            0.055225   \n",
       "\n",
       "   r.ankle Angular Velocity Z (rad/s)  r.ankle Magnetic Field X (uT)  \\\n",
       "0                           -0.011516                      33.449158   \n",
       "1                           -0.016308                      33.449158   \n",
       "2                           -0.008371                      33.925814   \n",
       "3                           -0.006869                      33.925814   \n",
       "4                           -0.008403                      33.436905   \n",
       "\n",
       "   r.ankle Magnetic Field Y (uT)  r.ankle Magnetic Field Z (uT)  \\\n",
       "0                      19.266598                      15.818048   \n",
       "1                      19.266598                      15.818048   \n",
       "2                      18.780263                      16.358234   \n",
       "3                      18.780263                      16.358234   \n",
       "4                      18.789406                      16.859036   \n",
       "\n",
       "                ...                l.thigh resultant magnetic field  \\\n",
       "0               ...                                       76.938693   \n",
       "1               ...                                       75.272852   \n",
       "2               ...                                       76.399088   \n",
       "3               ...                                       76.113303   \n",
       "4               ...                                       76.399088   \n",
       "\n",
       "   head resultant acceleration  head resultant angular velocity  \\\n",
       "0                     9.737775                         0.205785   \n",
       "1                     9.730029                         0.215989   \n",
       "2                     9.734939                         0.215544   \n",
       "3                     9.737261                         0.208668   \n",
       "4                     9.727343                         0.225453   \n",
       "\n",
       "   head resultant magnetic field  sternum resultant acceleration  \\\n",
       "0                      83.535679                        9.735780   \n",
       "1                      83.284594                        9.736724   \n",
       "2                      84.138524                        9.748169   \n",
       "3                      82.744759                        9.746346   \n",
       "4                      82.618975                        9.738551   \n",
       "\n",
       "   sternum resultant angular velocity  sternum resultant magnetic field  \\\n",
       "0                            0.265283                         50.703732   \n",
       "1                            0.272279                         46.261673   \n",
       "2                            0.269626                         51.684996   \n",
       "3                            0.266867                         52.142097   \n",
       "4                            0.269698                         55.118507   \n",
       "\n",
       "   waist resultant acceleration  waist resultant angular velocity  \\\n",
       "0                      9.864789                          1.122888   \n",
       "1                      9.845113                          1.129150   \n",
       "2                      9.843324                          1.121401   \n",
       "3                      9.833984                          1.125120   \n",
       "4                      9.841990                          1.133976   \n",
       "\n",
       "   waist resultant magnetic field  \n",
       "0                       57.649936  \n",
       "1                       53.942026  \n",
       "2                       49.053275  \n",
       "3                       56.348231  \n",
       "4                       55.478944  \n",
       "\n",
       "[5 rows x 94 columns]"
      ]
     },
     "execution_count": 17,
     "metadata": {},
     "output_type": "execute_result"
    }
   ],
   "source": [
    "df_new.head()"
   ]
  },
  {
   "cell_type": "markdown",
   "metadata": {},
   "source": [
    "### Updating the metadata with the new columns"
   ]
  },
  {
   "cell_type": "code",
   "execution_count": 18,
   "metadata": {
    "collapsed": true
   },
   "outputs": [],
   "source": [
    "new_columns = list(filter(lambda k: 'resultant' in k, df_new.columns))"
   ]
  },
  {
   "cell_type": "code",
   "execution_count": 19,
   "metadata": {
    "collapsed": true
   },
   "outputs": [],
   "source": [
    "data = []\n",
    "for f in new_columns:\n",
    "\n",
    "    measure = ''\n",
    "    # Defining the measure\n",
    "    if 'acceleration' in f:\n",
    "        measure = 'acceleration'\n",
    "    elif 'angular velocity' in f:\n",
    "        measure = 'angular velocity'\n",
    "    elif 'magnetic field' in f:\n",
    "        measure = 'magnetic field'\n",
    "         \n",
    "    # Defining the body location\n",
    "    body_location = ''\n",
    "    if 'r.ankle' in f:\n",
    "        body_location = 'r.ankle'\n",
    "    elif 'l.ankle' in f:\n",
    "        body_location = 'l.ankle'\n",
    "    elif 'r.thigh' in f:\n",
    "        body_location = 'r.thigh'\n",
    "    elif 'l.thigh' in f:\n",
    "        body_location = 'l.thigh'\n",
    "    elif 'head' in f:\n",
    "        body_location = 'head'\n",
    "    elif 'sternum' in f:\n",
    "        body_location = 'sternum'\n",
    "    elif 'waist' in f:\n",
    "        body_location = 'waist'\n",
    "\n",
    "    # Defining the Axes\n",
    "    axis = 'XYZ'         \n",
    "    \n",
    "    # Defining the data type \n",
    "    dtype = df_new[f].dtype\n",
    "    \n",
    "    # Creating a Dict that contains all the metadata for the variable\n",
    "    f_dict = {\n",
    "        'varname': f,\n",
    "        'body_location': body_location,\n",
    "        'axis': axis,\n",
    "        'measure': measure,\n",
    "        'dtype': dtype\n",
    "    }\n",
    "    data.append(f_dict)\n",
    "    \n",
    "meta_update = pd.DataFrame(data, columns=['varname', 'body_location', 'axis', 'measure', 'dtype'])\n",
    "meta_update.set_index('varname', inplace=True)    "
   ]
  },
  {
   "cell_type": "code",
   "execution_count": 20,
   "metadata": {
    "collapsed": true
   },
   "outputs": [],
   "source": [
    "meta = pd.concat([meta,meta_update],axis=0)"
   ]
  },
  {
   "cell_type": "code",
   "execution_count": 21,
   "metadata": {
    "collapsed": true
   },
   "outputs": [],
   "source": [
    "# remove rows to keep only those related with sensor measures\n",
    "meta = meta[meta.body_location.str.len()>1]"
   ]
  },
  {
   "cell_type": "markdown",
   "metadata": {},
   "source": [
    "## Reorganizing column names"
   ]
  },
  {
   "cell_type": "code",
   "execution_count": 22,
   "metadata": {
    "collapsed": true
   },
   "outputs": [],
   "source": [
    "# Reorganizing column names\n",
    "df_new = df_new[['Time', 'time_datetime', 'time_seconds', 'subject', 'trial_type',\n",
    "       'trial_num', 'trial_num_original', 'trial_subtype', 'r.ankle Acceleration X (m/s^2)',\n",
    "       'r.ankle Acceleration Y (m/s^2)', 'r.ankle Acceleration Z (m/s^2)',\n",
    "       'r.ankle Angular Velocity X (rad/s)',\n",
    "       'r.ankle Angular Velocity Y (rad/s)',\n",
    "       'r.ankle Angular Velocity Z (rad/s)', 'r.ankle Magnetic Field X (uT)',\n",
    "       'r.ankle Magnetic Field Y (uT)', 'r.ankle Magnetic Field Z (uT)',\n",
    "       'l.ankle Acceleration X (m/s^2)', 'l.ankle Acceleration Y (m/s^2)',\n",
    "       'l.ankle Acceleration Z (m/s^2)', 'l.ankle Angular Velocity X (rad/s)',\n",
    "       'l.ankle Angular Velocity Y (rad/s)',\n",
    "       'l.ankle Angular Velocity Z (rad/s)', 'l.ankle Magnetic Field X (uT)',\n",
    "       'l.ankle Magnetic Field Y (uT)', 'l.ankle Magnetic Field Z (uT)',\n",
    "       'r.thigh Acceleration X (m/s^2)', 'r.thigh Acceleration Y (m/s^2)',\n",
    "       'r.thigh Acceleration Z (m/s^2)', 'r.thigh Angular Velocity X (rad/s)',\n",
    "       'r.thigh Angular Velocity Y (rad/s)',\n",
    "       'r.thigh Angular Velocity Z (rad/s)', 'r.thigh Magnetic Field X (uT)',\n",
    "       'r.thigh Magnetic Field Y (uT)', 'r.thigh Magnetic Field Z (uT)',\n",
    "       'l.thigh Acceleration X (m/s^2)', 'l.thigh Acceleration Y (m/s^2)',\n",
    "       'l.thigh Acceleration Z (m/s^2)', 'l.thigh Angular Velocity X (rad/s)',\n",
    "       'l.thigh Angular Velocity Y (rad/s)',\n",
    "       'l.thigh Angular Velocity Z (rad/s)', 'l.thigh Magnetic Field X (uT)',\n",
    "       'l.thigh Magnetic Field Y (uT)', 'l.thigh Magnetic Field Z (uT)',\n",
    "       'head Acceleration X (m/s^2)', 'head Acceleration Y (m/s^2)',\n",
    "       'head Acceleration Z (m/s^2)', 'head Angular Velocity X (rad/s)',\n",
    "       'head Angular Velocity Y (rad/s)', 'head Angular Velocity Z (rad/s)',\n",
    "       'head Magnetic Field X (uT)', 'head Magnetic Field Y (uT)',\n",
    "       'head Magnetic Field Z (uT)', 'sternum Acceleration X (m/s^2)',\n",
    "       'sternum Acceleration Y (m/s^2)', 'sternum Acceleration Z (m/s^2)',\n",
    "       'sternum Angular Velocity X (rad/s)',\n",
    "       'sternum Angular Velocity Y (rad/s)',\n",
    "       'sternum Angular Velocity Z (rad/s)', 'sternum Magnetic Field X (uT)',\n",
    "       'sternum Magnetic Field Y (uT)', 'sternum Magnetic Field Z (uT)',\n",
    "       'waist Acceleration X (m/s^2)', 'waist Acceleration Y (m/s^2)',\n",
    "       'waist Acceleration Z (m/s^2)', 'waist Angular Velocity X (rad/s)',\n",
    "       'waist Angular Velocity Y (rad/s)', 'waist Angular Velocity Z (rad/s)',\n",
    "       'waist Magnetic Field X (uT)', 'waist Magnetic Field Y (uT)',\n",
    "       'waist Magnetic Field Z (uT)','r.ankle resultant acceleration', 'r.ankle resultant angular velocity',\n",
    "       'r.ankle resultant magnetic field', 'l.ankle resultant acceleration',\n",
    "       'l.ankle resultant angular velocity',\n",
    "       'l.ankle resultant magnetic field', 'r.thigh resultant acceleration',\n",
    "       'r.thigh resultant angular velocity',\n",
    "       'r.thigh resultant magnetic field', 'l.thigh resultant acceleration',\n",
    "       'l.thigh resultant angular velocity',\n",
    "       'l.thigh resultant magnetic field', 'head resultant acceleration',\n",
    "       'head resultant angular velocity', 'head resultant magnetic field',\n",
    "       'sternum resultant acceleration', 'sternum resultant angular velocity',\n",
    "       'sternum resultant magnetic field', 'waist resultant acceleration',\n",
    "       'waist resultant angular velocity', 'waist resultant magnetic field', 'FileName', 'target']]"
   ]
  },
  {
   "cell_type": "code",
   "execution_count": 23,
   "metadata": {
    "collapsed": true
   },
   "outputs": [],
   "source": [
    "# save the dataframe in a Pickle file\n",
    "pickle.dump(df_new, open(\"../data/dataset_consolidated.p\", \"wb\"))"
   ]
  },
  {
   "cell_type": "code",
   "execution_count": 24,
   "metadata": {
    "collapsed": true
   },
   "outputs": [],
   "source": [
    "# save the dataframe\n",
    "pickle.dump(meta, open(\"../data/metadata.p\", \"wb\"))"
   ]
  },
  {
   "cell_type": "code",
   "execution_count": null,
   "metadata": {
    "collapsed": true
   },
   "outputs": [],
   "source": []
  }
 ],
 "metadata": {
  "kernelspec": {
   "display_name": "Python 3",
   "language": "python",
   "name": "python3"
  },
  "language_info": {
   "codemirror_mode": {
    "name": "ipython",
    "version": 3
   },
   "file_extension": ".py",
   "mimetype": "text/x-python",
   "name": "python",
   "nbconvert_exporter": "python",
   "pygments_lexer": "ipython3",
   "version": "3.6.3"
  }
 },
 "nbformat": 4,
 "nbformat_minor": 2
}
