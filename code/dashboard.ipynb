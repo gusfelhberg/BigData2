{
 "cells": [
  {
   "cell_type": "code",
   "execution_count": 1,
   "metadata": {
    "collapsed": true,
    "extensions": {
     "jupyter_dashboards": {
      "version": 1,
      "views": {
       "grid_default": {
        "hidden": true
       },
       "report_default": {}
      }
     }
    }
   },
   "outputs": [],
   "source": [
    "import pandas as pd\n",
    "import numpy as np\n",
    "import matplotlib.pyplot as plt\n",
    "import seaborn as sns\n",
    "import pickle\n",
    "from ipywidgets import *\n",
    "%matplotlib inline"
   ]
  },
  {
   "cell_type": "code",
   "execution_count": 2,
   "metadata": {},
   "outputs": [],
   "source": [
    "# necessary commands to install and config jupyter dashboards\n",
    "# pip install jupyter_dashboards\n",
    "# jupyter dashboards quick-setup --sys-prefix"
   ]
  },
  {
   "cell_type": "code",
   "execution_count": 3,
   "metadata": {
    "collapsed": true,
    "extensions": {
     "jupyter_dashboards": {
      "version": 1,
      "views": {
       "grid_default": {
        "hidden": true
       },
       "report_default": {}
      }
     }
    }
   },
   "outputs": [],
   "source": [
    "import warnings\n",
    "warnings.filterwarnings(\"ignore\")"
   ]
  },
  {
   "cell_type": "code",
   "execution_count": 4,
   "metadata": {
    "collapsed": true,
    "extensions": {
     "jupyter_dashboards": {
      "version": 1,
      "views": {
       "grid_default": {
        "hidden": true
       },
       "report_default": {}
      }
     }
    }
   },
   "outputs": [],
   "source": [
    "# Load full database\n",
    "df = pickle.load(open(\"../data/dataset_consolidated.p\", \"rb\"))\n",
    "\n",
    "# Load metadata\n",
    "meta = pickle.load(open(\"../data/metadata.p\", \"rb\"))"
   ]
  },
  {
   "cell_type": "code",
   "execution_count": 5,
   "metadata": {
    "collapsed": true,
    "extensions": {
     "jupyter_dashboards": {
      "version": 1,
      "views": {
       "grid_default": {
        "hidden": true
       },
       "report_default": {}
      }
     }
    }
   },
   "outputs": [],
   "source": [
    "def dateplot(x, y, **kwargs):\n",
    "    ax = plt.gca()\n",
    "    data = kwargs.pop(\"data\")\n",
    "    data.plot(x=x, y=y, ax=ax, grid=False, **kwargs)\n",
    "    \n",
    "def plot_facedgrid_by_trial_type(trial_type, subject=1, location='waist', measure='acceleration'):\n",
    "\n",
    "    body_location_columns = list(meta[(meta.body_location==location) & (meta.measure == measure)].index)\n",
    "\n",
    "    df_graph = df[(df.trial_type == trial_type) &\n",
    "       (df.subject == subject)]\n",
    "    \n",
    "    df_body = df_graph[['time_seconds','trial_subtype', 'trial_num']+body_location_columns]\n",
    "\n",
    "    df_body_X = df_graph[['time_seconds','trial_subtype', 'trial_num']+[body_location_columns[0]]]\n",
    "    df_body_X.rename(columns={body_location_columns[0] : str(location + ' ' + measure)},inplace=True)\n",
    "    df_body_X['axis'] = 'x'\n",
    "\n",
    "    df_body_Y = df_graph[['time_seconds','trial_subtype', 'trial_num']+[body_location_columns[1]]]\n",
    "    df_body_Y.rename(columns={body_location_columns[1] : str(location + ' ' + measure)},inplace=True)\n",
    "    df_body_Y['axis'] = 'y'\n",
    "\n",
    "    df_body_Z = df_graph[['time_seconds','trial_subtype', 'trial_num']+[body_location_columns[2]]]\n",
    "    df_body_Z.rename(columns={body_location_columns[2] : str(location + ' ' + measure)},inplace=True)\n",
    "    df_body_Z['axis'] = 'z'\n",
    "\n",
    "    df_body = pd.concat([df_body_X, df_body_Y, df_body_Z])\n",
    "    \n",
    "    df_body = df_body[['time_seconds']+[str(location + ' ' + measure)]+['trial_subtype', 'trial_num', 'axis']]\n",
    "    df_body.sort_values(['trial_num'],inplace=True)\n",
    "\n",
    "    g = sns.FacetGrid(df_body.sort_values(['time_seconds','trial_num']), col=\"trial_num\", row='trial_subtype', hue='axis',size=3, aspect=1.5) \n",
    "    g = g.map_dataframe(dateplot, \"time_seconds\", str(location + ' ' + measure))"
   ]
  },
  {
   "cell_type": "code",
   "execution_count": 7,
   "metadata": {
    "extensions": {
     "jupyter_dashboards": {
      "version": 1,
      "views": {
       "grid_default": {
        "col": 0,
        "height": 35,
        "hidden": false,
        "row": 0,
        "width": 12
       },
       "report_default": {}
      }
     }
    },
    "scrolled": false
   },
   "outputs": [
    {
     "data": {
      "application/vnd.jupyter.widget-view+json": {
       "model_id": "51952ebdd9f342ab9016cccf7346536c",
       "version_major": 2,
       "version_minor": 0
      },
      "text/plain": [
       "A Jupyter Widget"
      ]
     },
     "metadata": {},
     "output_type": "display_data"
    }
   ],
   "source": [
    "@interact(type=['ADLs','Near_Falls','Falls'],\n",
    "          subject=list(range(1,11)), \n",
    "          location=['waist','head','sternum','l.thigh','r.thigh','l.ankle','r.ankle'],\n",
    "          measure=['acceleration', 'angular velocity', 'magnetic field'])\n",
    "def plot(type,location,subject,measure):\n",
    "    _ = plot_facedgrid_by_trial_type(trial_type=type, subject=subject, location=location, measure=measure)"
   ]
  },
  {
   "cell_type": "code",
   "execution_count": null,
   "metadata": {
    "collapsed": true,
    "extensions": {
     "jupyter_dashboards": {
      "version": 1,
      "views": {
       "grid_default": {
        "hidden": true
       },
       "report_default": {}
      }
     }
    }
   },
   "outputs": [],
   "source": []
  }
 ],
 "metadata": {
  "extensions": {
   "jupyter_dashboards": {
    "activeView": "grid_default",
    "version": 1,
    "views": {
     "grid_default": {
      "cellMargin": 10,
      "defaultCellHeight": 20,
      "maxColumns": 12,
      "name": "grid",
      "type": "grid"
     },
     "report_default": {
      "name": "report",
      "type": "report"
     }
    }
   }
  },
  "kernelspec": {
   "display_name": "Python 3",
   "language": "python",
   "name": "python3"
  },
  "language_info": {
   "codemirror_mode": {
    "name": "ipython",
    "version": 3
   },
   "file_extension": ".py",
   "mimetype": "text/x-python",
   "name": "python",
   "nbconvert_exporter": "python",
   "pygments_lexer": "ipython3",
   "version": "3.6.2"
  }
 },
 "nbformat": 4,
 "nbformat_minor": 2
}
