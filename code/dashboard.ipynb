{
 "cells": [
  {
   "cell_type": "markdown",
   "metadata": {
    "extensions": {
     "jupyter_dashboards": {
      "version": 1,
      "views": {
       "grid_default": {
        "hidden": true
       },
       "report_default": {}
      }
     }
    }
   },
   "source": [
    "## Necessary commands to install and config jupyter dashboards\n",
    "pip install jupyter_dashboards\n",
    "\n",
    "jupyter dashboards quick-setup --sys-prefix"
   ]
  },
  {
   "cell_type": "markdown",
   "metadata": {},
   "source": [
    "## After executing the commands above and running all the notebook cells, select menu View -> Dashboard Preview"
   ]
  },
  {
   "cell_type": "code",
   "execution_count": 1,
   "metadata": {
    "collapsed": true,
    "extensions": {
     "jupyter_dashboards": {
      "version": 1,
      "views": {
       "grid_default": {
        "hidden": true
       },
       "report_default": {}
      }
     }
    }
   },
   "outputs": [],
   "source": [
    "import pandas as pd\n",
    "import numpy as np\n",
    "import matplotlib.pyplot as plt\n",
    "import seaborn as sns\n",
    "import pickle\n",
    "from ipywidgets import *\n",
    "%matplotlib inline"
   ]
  },
  {
   "cell_type": "code",
   "execution_count": 3,
   "metadata": {
    "collapsed": true,
    "extensions": {
     "jupyter_dashboards": {
      "version": 1,
      "views": {
       "grid_default": {
        "hidden": true
       },
       "report_default": {}
      }
     }
    }
   },
   "outputs": [],
   "source": [
    "import warnings\n",
    "warnings.filterwarnings(\"ignore\")"
   ]
  },
  {
   "cell_type": "code",
   "execution_count": null,
   "metadata": {
    "collapsed": true,
    "extensions": {
     "jupyter_dashboards": {
      "version": 1,
      "views": {
       "grid_default": {
        "hidden": true
       },
       "report_default": {}
      }
     }
    }
   },
   "outputs": [],
   "source": [
    "# The following pickle files are created by the notebook data_consolidation.ipynb\n",
    "\n",
    "# Load full database\n",
    "df = pickle.load(open(\"../data/dataset_consolidated.p\", \"rb\"))\n",
    "\n",
    "# Load metadata\n",
    "meta = pickle.load(open(\"../data/metadata.p\", \"rb\"))"
   ]
  },
  {
   "cell_type": "code",
   "execution_count": 5,
   "metadata": {
    "collapsed": true,
    "extensions": {
     "jupyter_dashboards": {
      "version": 1,
      "views": {
       "grid_default": {
        "hidden": true
       },
       "report_default": {}
      }
     }
    }
   },
   "outputs": [],
   "source": [
    "def plot_lines(location='waist',trial_type='ADLs',trial_subtype='POG',measure='acceleration',trial_num=1,subject=1):\n",
    "    body_location_columns = list(meta[(meta.body_location==location) & (meta.measure == measure)].index)\n",
    "\n",
    "    df_graph = df[(df.trial_type == trial_type) &\n",
    "                  (df.subject == subject) &\n",
    "                  (df.trial_num == trial_num) &\n",
    "                  (df.trial_subtype == trial_subtype)\n",
    "                 ]\n",
    "\n",
    "    df_body = df_graph[['time_seconds','trial_subtype', 'trial_num']+body_location_columns]\n",
    "\n",
    "    df_body_X = df_graph[['time_seconds','trial_subtype', 'trial_num']+[body_location_columns[0]]]\n",
    "    df_body_X.rename(columns={body_location_columns[0] : str(location + ' ' + measure)},inplace=True)\n",
    "    df_body_X['axis'] = 'x'\n",
    "\n",
    "    df_body_Y = df_graph[['time_seconds','trial_subtype', 'trial_num']+[body_location_columns[1]]]\n",
    "    df_body_Y.rename(columns={body_location_columns[1] : str(location + ' ' + measure)},inplace=True)\n",
    "    df_body_Y['axis'] = 'y'\n",
    "\n",
    "    df_body_Z = df_graph[['time_seconds','trial_subtype', 'trial_num']+[body_location_columns[2]]]\n",
    "    df_body_Z.rename(columns={body_location_columns[2] : str(location + ' ' + measure)},inplace=True)\n",
    "    df_body_Z['axis'] = 'z'\n",
    "\n",
    "    df_body = pd.concat([df_body_X, df_body_Y, df_body_Z])\n",
    "\n",
    "    fig, ax = plt.subplots(figsize=(8,8))\n",
    "    df_body[df_body.axis == 'x'].plot(x='time_seconds',y=str(location + ' ' + measure),ax=ax,label='x')\n",
    "    df_body[df_body.axis == 'y'].plot(x='time_seconds',y=str(location + ' ' + measure),ax=ax,label='y')\n",
    "    df_body[df_body.axis == 'z'].plot(x='time_seconds',y=str(location + ' ' + measure),ax=ax,label='z')\n",
    "    plt.axhline(y=0, xmin=0, xmax=1,c='k')\n"
   ]
  },
  {
   "cell_type": "markdown",
   "metadata": {
    "extensions": {
     "jupyter_dashboards": {
      "version": 1,
      "views": {
       "grid_default": {
        "col": 0,
        "height": 2,
        "hidden": false,
        "row": 0,
        "width": 12
       },
       "report_default": {}
      }
     }
    }
   },
   "source": [
    "# Comparing Trials"
   ]
  },
  {
   "cell_type": "code",
   "execution_count": 6,
   "metadata": {
    "extensions": {
     "jupyter_dashboards": {
      "version": 1,
      "views": {
       "grid_default": {
        "col": 0,
        "height": 17,
        "hidden": false,
        "row": 2,
        "width": 4
       },
       "report_default": {}
      }
     }
    }
   },
   "outputs": [
    {
     "data": {
      "application/vnd.jupyter.widget-view+json": {
       "model_id": "d62b1271d10b4183a4b32252e74e84cc",
       "version_major": 2,
       "version_minor": 0
      },
      "text/plain": [
       "interactive(children=(Dropdown(description='type_subtype', options=('ADLs - SQ', 'ADLs - DS', 'ADLs - AS', 'AD…"
      ]
     },
     "metadata": {},
     "output_type": "display_data"
    }
   ],
   "source": [
    "@interact(type=['ADLs','Near_Falls','Falls'],\n",
    "          subject=list(range(1,11)), \n",
    "          location=['waist','head','sternum','l.thigh','r.thigh','l.ankle','r.ankle'],\n",
    "          measure=['acceleration', 'angular velocity', 'magnetic field'],\n",
    "          type_subtype = ['ADLs - SQ','ADLs - DS','ADLs - AS','ADLs - POG','ADLs - NW','ADLs - RSS','ADLs - DSL',\n",
    "'ADLs - DSS','Falls - HB','Falls - LCC','Falls - ITCS','Falls - trip','Falls - ITRS',\n",
    "'Falls - ITDS','Falls - slip','Falls - CS','Near_Falls - slip','Near_Falls - ITRS',\n",
    "'Near_Falls - trip','Near_Falls - HB','Near_Falls - ITCS'],\n",
    "          num=[1,2,3]\n",
    "         )\n",
    "def plot(type_subtype,location,subject,measure,num):\n",
    "    type,subtype = type_subtype.split(' - ')\n",
    "    _ = plot_lines(location=location,trial_type=type,trial_subtype=subtype,measure=measure,trial_num=num,subject=subject)"
   ]
  },
  {
   "cell_type": "code",
   "execution_count": 7,
   "metadata": {
    "extensions": {
     "jupyter_dashboards": {
      "version": 1,
      "views": {
       "grid_default": {
        "col": 8,
        "height": 17,
        "hidden": false,
        "row": 2,
        "width": 4
       },
       "report_default": {}
      }
     }
    }
   },
   "outputs": [
    {
     "data": {
      "application/vnd.jupyter.widget-view+json": {
       "model_id": "be50a8cc6e4a46f092a3d9b55ed028ab",
       "version_major": 2,
       "version_minor": 0
      },
      "text/plain": [
       "interactive(children=(Dropdown(description='type_subtype', options=('ADLs - SQ', 'ADLs - DS', 'ADLs - AS', 'AD…"
      ]
     },
     "metadata": {},
     "output_type": "display_data"
    }
   ],
   "source": [
    "@interact(type=['ADLs','Near_Falls','Falls'],\n",
    "          subject=list(range(1,11)), \n",
    "          location=['waist','head','sternum','l.thigh','r.thigh','l.ankle','r.ankle'],\n",
    "          measure=['acceleration', 'angular velocity', 'magnetic field'],\n",
    "          type_subtype = ['ADLs - SQ','ADLs - DS','ADLs - AS','ADLs - POG','ADLs - NW','ADLs - RSS','ADLs - DSL',\n",
    "'ADLs - DSS','Falls - HB','Falls - LCC','Falls - ITCS','Falls - trip','Falls - ITRS',\n",
    "'Falls - ITDS','Falls - slip','Falls - CS','Near_Falls - slip','Near_Falls - ITRS',\n",
    "'Near_Falls - trip','Near_Falls - HB','Near_Falls - ITCS'],\n",
    "          num=[1,2,3]\n",
    "         )    \n",
    "def plot(type_subtype,location,subject,measure,num):\n",
    "    type,subtype = type_subtype.split(' - ')\n",
    "    _ = plot_lines(location=location,trial_type=type,trial_subtype=subtype,measure=measure,trial_num=num,subject=subject)    "
   ]
  },
  {
   "cell_type": "code",
   "execution_count": 8,
   "metadata": {
    "extensions": {
     "jupyter_dashboards": {
      "version": 1,
      "views": {
       "grid_default": {
        "col": 4,
        "height": 17,
        "hidden": false,
        "row": 2,
        "width": 4
       },
       "report_default": {}
      }
     }
    }
   },
   "outputs": [
    {
     "data": {
      "application/vnd.jupyter.widget-view+json": {
       "model_id": "1c91182724a6468b9ed316fcf47623a3",
       "version_major": 2,
       "version_minor": 0
      },
      "text/plain": [
       "interactive(children=(Dropdown(description='type_subtype', options=('ADLs - SQ', 'ADLs - DS', 'ADLs - AS', 'AD…"
      ]
     },
     "metadata": {},
     "output_type": "display_data"
    }
   ],
   "source": [
    "@interact(type=['ADLs','Near_Falls','Falls'],\n",
    "          subject=list(range(1,11)), \n",
    "          location=['waist','head','sternum','l.thigh','r.thigh','l.ankle','r.ankle'],\n",
    "          measure=['acceleration', 'angular velocity', 'magnetic field'],\n",
    "          type_subtype = ['ADLs - SQ','ADLs - DS','ADLs - AS','ADLs - POG','ADLs - NW','ADLs - RSS','ADLs - DSL',\n",
    "'ADLs - DSS','Falls - HB','Falls - LCC','Falls - ITCS','Falls - trip','Falls - ITRS',\n",
    "'Falls - ITDS','Falls - slip','Falls - CS','Near_Falls - slip','Near_Falls - ITRS',\n",
    "'Near_Falls - trip','Near_Falls - HB','Near_Falls - ITCS'],\n",
    "          num=[1,2,3]\n",
    "         )    \n",
    "def plot(type_subtype,location,subject,measure,num):\n",
    "    type,subtype = type_subtype.split(' - ')\n",
    "    _ = plot_lines(location=location,trial_type=type,trial_subtype=subtype,measure=measure,trial_num=num,subject=subject)    "
   ]
  },
  {
   "cell_type": "code",
   "execution_count": 9,
   "metadata": {
    "collapsed": true,
    "extensions": {
     "jupyter_dashboards": {
      "version": 1,
      "views": {
       "grid_default": {
        "hidden": true
       },
       "report_default": {}
      }
     }
    }
   },
   "outputs": [],
   "source": [
    "def dateplot(x, y, **kwargs):\n",
    "    ax = plt.gca()\n",
    "    data = kwargs.pop(\"data\")\n",
    "    data.plot(x=x, y=y, ax=ax, grid=False, **kwargs)\n",
    "    \n",
    "def plot_facedgrid_by_trial_type(trial_type, subject=1, location='waist', measure='acceleration'):\n",
    "\n",
    "    body_location_columns = list(meta[(meta.body_location==location) & (meta.measure == measure)].index)\n",
    "\n",
    "    df_graph = df[(df.trial_type == trial_type) &\n",
    "       (df.subject == subject)]\n",
    "    \n",
    "    df_body = df_graph[['time_seconds','trial_subtype', 'trial_num']+body_location_columns]\n",
    "\n",
    "    df_body_X = df_graph[['time_seconds','trial_subtype', 'trial_num']+[body_location_columns[0]]]\n",
    "    df_body_X.rename(columns={body_location_columns[0] : str(location + ' ' + measure)},inplace=True)\n",
    "    df_body_X['axis'] = 'x'\n",
    "\n",
    "    df_body_Y = df_graph[['time_seconds','trial_subtype', 'trial_num']+[body_location_columns[1]]]\n",
    "    df_body_Y.rename(columns={body_location_columns[1] : str(location + ' ' + measure)},inplace=True)\n",
    "    df_body_Y['axis'] = 'y'\n",
    "\n",
    "    df_body_Z = df_graph[['time_seconds','trial_subtype', 'trial_num']+[body_location_columns[2]]]\n",
    "    df_body_Z.rename(columns={body_location_columns[2] : str(location + ' ' + measure)},inplace=True)\n",
    "    df_body_Z['axis'] = 'z'\n",
    "\n",
    "    df_body = pd.concat([df_body_X, df_body_Y, df_body_Z])\n",
    "    \n",
    "    df_body = df_body[['time_seconds']+[str(location + ' ' + measure)]+['trial_subtype', 'trial_num', 'axis']]\n",
    "    df_body.sort_values(['trial_num'],inplace=True)\n",
    "\n",
    "    g = sns.FacetGrid(df_body.sort_values(['time_seconds','trial_num']), col=\"trial_num\", row='trial_subtype', hue='axis',size=3, aspect=1.5) \n",
    "    g = g.map_dataframe(dateplot, \"time_seconds\", str(location + ' ' + measure))"
   ]
  },
  {
   "cell_type": "markdown",
   "metadata": {
    "extensions": {
     "jupyter_dashboards": {
      "version": 1,
      "views": {
       "grid_default": {
        "col": 0,
        "height": 2,
        "hidden": false,
        "row": 19,
        "width": 12
       },
       "report_default": {}
      }
     }
    }
   },
   "source": [
    "# Complete list of trials per Type, Sensor and Measurement"
   ]
  },
  {
   "cell_type": "code",
   "execution_count": 10,
   "metadata": {
    "extensions": {
     "jupyter_dashboards": {
      "version": 1,
      "views": {
       "grid_default": {
        "col": 0,
        "height": 63,
        "hidden": false,
        "row": 21,
        "width": 12
       },
       "report_default": {}
      }
     }
    },
    "scrolled": false
   },
   "outputs": [
    {
     "data": {
      "application/vnd.jupyter.widget-view+json": {
       "model_id": "fd4b1f3676ed4ab5a5996a9ccb25540a",
       "version_major": 2,
       "version_minor": 0
      },
      "text/plain": [
       "interactive(children=(Dropdown(description='type', options=('ADLs', 'Near_Falls', 'Falls'), value='ADLs'), Dro…"
      ]
     },
     "metadata": {},
     "output_type": "display_data"
    }
   ],
   "source": [
    "@interact(type=['ADLs','Near_Falls','Falls'],\n",
    "          subject=list(range(1,11)), \n",
    "          location=['waist','head','sternum','l.thigh','r.thigh','l.ankle','r.ankle'],\n",
    "          measure=['acceleration', 'angular velocity', 'magnetic field'],\n",
    "         )    \n",
    "def plot(type,location,subject,measure):\n",
    "    _ = plot_facedgrid_by_trial_type(trial_type=type, subject=subject, location=location, measure=measure)"
   ]
  },
  {
   "cell_type": "code",
   "execution_count": null,
   "metadata": {
    "collapsed": true,
    "extensions": {
     "jupyter_dashboards": {
      "version": 1,
      "views": {
       "grid_default": {
        "hidden": true
       },
       "report_default": {}
      }
     }
    }
   },
   "outputs": [],
   "source": []
  }
 ],
 "metadata": {
  "extensions": {
   "jupyter_dashboards": {
    "activeView": "grid_default",
    "version": 1,
    "views": {
     "grid_default": {
      "cellMargin": 10,
      "defaultCellHeight": 20,
      "maxColumns": 12,
      "name": "grid",
      "type": "grid"
     },
     "report_default": {
      "name": "report",
      "type": "report"
     }
    }
   }
  },
  "kernelspec": {
   "display_name": "Python 3",
   "language": "python",
   "name": "python3"
  },
  "language_info": {
   "codemirror_mode": {
    "name": "ipython",
    "version": 3
   },
   "file_extension": ".py",
   "mimetype": "text/x-python",
   "name": "python",
   "nbconvert_exporter": "python",
   "pygments_lexer": "ipython3",
   "version": "3.6.3"
  }
 },
 "nbformat": 4,
 "nbformat_minor": 2
}
