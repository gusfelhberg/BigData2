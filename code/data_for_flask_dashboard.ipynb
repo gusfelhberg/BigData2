{
 "cells": [
  {
   "cell_type": "code",
   "execution_count": 1,
   "metadata": {},
   "outputs": [],
   "source": [
    "import warnings\n",
    "warnings.filterwarnings(\"ignore\")"
   ]
  },
  {
   "cell_type": "code",
   "execution_count": 2,
   "metadata": {},
   "outputs": [],
   "source": [
    "import pandas as pd\n",
    "import numpy as np\n",
    "import matplotlib.pyplot as plt\n",
    "import seaborn as sns\n",
    "import pickle\n",
    "from ipywidgets import interact\n",
    "%matplotlib inline"
   ]
  },
  {
   "cell_type": "code",
   "execution_count": 3,
   "metadata": {},
   "outputs": [],
   "source": [
    "df = pickle.load(open(\"../data/dataset_consolidated.p\", \"rb\"))\n",
    "meta = pickle.load(open(\"../data/metadata.p\", \"rb\"))"
   ]
  },
  {
   "cell_type": "code",
   "execution_count": 4,
   "metadata": {},
   "outputs": [],
   "source": [
    "df2 = df.copy()"
   ]
  },
  {
   "cell_type": "code",
   "execution_count": 6,
   "metadata": {},
   "outputs": [],
   "source": [
    "df2 = df2[['target', 'time_seconds',  'trial_type','trial_subtype',\n",
    "       'trial_num','subject',\n",
    "       'r.ankle Acceleration X (m/s^2)', 'r.ankle Acceleration Y (m/s^2)',\n",
    "       'r.ankle Acceleration Z (m/s^2)', 'r.ankle Angular Velocity X (rad/s)',\n",
    "       'r.ankle Angular Velocity Y (rad/s)',\n",
    "       'r.ankle Angular Velocity Z (rad/s)', 'r.ankle Magnetic Field X (uT)',\n",
    "       'r.ankle Magnetic Field Y (uT)', 'r.ankle Magnetic Field Z (uT)',\n",
    "       'l.ankle Acceleration X (m/s^2)', 'l.ankle Acceleration Y (m/s^2)',\n",
    "       'l.ankle Acceleration Z (m/s^2)', 'l.ankle Angular Velocity X (rad/s)',\n",
    "       'l.ankle Angular Velocity Y (rad/s)',\n",
    "       'l.ankle Angular Velocity Z (rad/s)', 'l.ankle Magnetic Field X (uT)',\n",
    "       'l.ankle Magnetic Field Y (uT)', 'l.ankle Magnetic Field Z (uT)',\n",
    "       'r.thigh Acceleration X (m/s^2)', 'r.thigh Acceleration Y (m/s^2)',\n",
    "       'r.thigh Acceleration Z (m/s^2)', 'r.thigh Angular Velocity X (rad/s)',\n",
    "       'r.thigh Angular Velocity Y (rad/s)',\n",
    "       'r.thigh Angular Velocity Z (rad/s)', 'r.thigh Magnetic Field X (uT)',\n",
    "       'r.thigh Magnetic Field Y (uT)', 'r.thigh Magnetic Field Z (uT)',\n",
    "       'l.thigh Acceleration X (m/s^2)', 'l.thigh Acceleration Y (m/s^2)',\n",
    "       'l.thigh Acceleration Z (m/s^2)', 'l.thigh Angular Velocity X (rad/s)',\n",
    "       'l.thigh Angular Velocity Y (rad/s)',\n",
    "       'l.thigh Angular Velocity Z (rad/s)', 'l.thigh Magnetic Field X (uT)',\n",
    "       'l.thigh Magnetic Field Y (uT)', 'l.thigh Magnetic Field Z (uT)',\n",
    "       'head Acceleration X (m/s^2)', 'head Acceleration Y (m/s^2)',\n",
    "       'head Acceleration Z (m/s^2)', 'head Angular Velocity X (rad/s)',\n",
    "       'head Angular Velocity Y (rad/s)', 'head Angular Velocity Z (rad/s)',\n",
    "       'head Magnetic Field X (uT)', 'head Magnetic Field Y (uT)',\n",
    "       'head Magnetic Field Z (uT)', 'sternum Acceleration X (m/s^2)',\n",
    "       'sternum Acceleration Y (m/s^2)', 'sternum Acceleration Z (m/s^2)',\n",
    "       'sternum Angular Velocity X (rad/s)',\n",
    "       'sternum Angular Velocity Y (rad/s)',\n",
    "       'sternum Angular Velocity Z (rad/s)', 'sternum Magnetic Field X (uT)',\n",
    "       'sternum Magnetic Field Y (uT)', 'sternum Magnetic Field Z (uT)',\n",
    "       'waist Acceleration X (m/s^2)', 'waist Acceleration Y (m/s^2)',\n",
    "       'waist Acceleration Z (m/s^2)', 'waist Angular Velocity X (rad/s)',\n",
    "       'waist Angular Velocity Y (rad/s)', 'waist Angular Velocity Z (rad/s)',\n",
    "       'waist Magnetic Field X (uT)', 'waist Magnetic Field Y (uT)',\n",
    "       'waist Magnetic Field Z (uT)', 'r.ankle resultant acceleration',\n",
    "       'r.ankle resultant angular velocity',\n",
    "       'r.ankle resultant magnetic field', 'l.ankle resultant acceleration',\n",
    "       'l.ankle resultant angular velocity',\n",
    "       'l.ankle resultant magnetic field', 'r.thigh resultant acceleration',\n",
    "       'r.thigh resultant angular velocity',\n",
    "       'r.thigh resultant magnetic field', 'l.thigh resultant acceleration',\n",
    "       'l.thigh resultant angular velocity',\n",
    "       'l.thigh resultant magnetic field', 'head resultant acceleration',\n",
    "       'head resultant angular velocity', 'head resultant magnetic field',\n",
    "       'sternum resultant acceleration', 'sternum resultant angular velocity',\n",
    "       'sternum resultant magnetic field', 'waist resultant acceleration',\n",
    "       'waist resultant angular velocity', 'waist resultant magnetic field']]"
   ]
  },
  {
   "cell_type": "code",
   "execution_count": 7,
   "metadata": {},
   "outputs": [],
   "source": [
    "# For this dashboard we are using data from subject 1 and trial number equal to 1\n",
    "# The reason is that using the whole dataset would result in aproximately 99 milion rows, and to running in \n",
    "# javascript was not possible\n",
    "df2 = df2[(df2.subject == 1) & (df2.trial_num == 1)]"
   ]
  },
  {
   "cell_type": "code",
   "execution_count": 8,
   "metadata": {},
   "outputs": [
    {
     "data": {
      "text/plain": [
       "(39060, 90)"
      ]
     },
     "execution_count": 8,
     "metadata": {},
     "output_type": "execute_result"
    }
   ],
   "source": [
    "df2.shape"
   ]
  },
  {
   "cell_type": "markdown",
   "metadata": {},
   "source": [
    "## Reorganization of the data\n",
    "\n",
    "These next steps reorganize the data, including all the reading valures in one column and creating additional columns to categorize the readings in the different sensors, axis and measures."
   ]
  },
  {
   "cell_type": "code",
   "execution_count": 10,
   "metadata": {},
   "outputs": [],
   "source": [
    "columns = list(df2.columns[7:])\n",
    "list_dfs = []\n",
    "for col in columns:\n",
    "    df_temp = df2[['time_seconds','trial_type','trial_subtype','trial_num'] + [col]]\n",
    "    df_temp['sensor'] = meta.loc[col,'body_location']\n",
    "    df_temp['axis'] = meta.loc[col,'axis']\n",
    "    df_temp['measure'] = meta.loc[col,'measure']\n",
    "    df_temp['reading'] = df2[col]\n",
    "    df_temp.drop(col,axis=1,inplace=True)\n",
    "    list_dfs.append(df_temp)"
   ]
  },
  {
   "cell_type": "code",
   "execution_count": 11,
   "metadata": {},
   "outputs": [],
   "source": [
    "# Concat all the intermediary dataframes in one\n",
    "df_dash = pd.concat(list_dfs,axis=0)"
   ]
  },
  {
   "cell_type": "code",
   "execution_count": 12,
   "metadata": {},
   "outputs": [
    {
     "data": {
      "text/html": [
       "<div>\n",
       "<style scoped>\n",
       "    .dataframe tbody tr th:only-of-type {\n",
       "        vertical-align: middle;\n",
       "    }\n",
       "\n",
       "    .dataframe tbody tr th {\n",
       "        vertical-align: top;\n",
       "    }\n",
       "\n",
       "    .dataframe thead th {\n",
       "        text-align: right;\n",
       "    }\n",
       "</style>\n",
       "<table border=\"1\" class=\"dataframe\">\n",
       "  <thead>\n",
       "    <tr style=\"text-align: right;\">\n",
       "      <th></th>\n",
       "      <th>time_seconds</th>\n",
       "      <th>trial_type</th>\n",
       "      <th>trial_subtype</th>\n",
       "      <th>trial_num</th>\n",
       "      <th>sensor</th>\n",
       "      <th>axis</th>\n",
       "      <th>measure</th>\n",
       "      <th>reading</th>\n",
       "    </tr>\n",
       "  </thead>\n",
       "  <tbody>\n",
       "    <tr>\n",
       "      <th>0</th>\n",
       "      <td>0.00000</td>\n",
       "      <td>ADLs</td>\n",
       "      <td>SQ</td>\n",
       "      <td>1</td>\n",
       "      <td>r.ankle</td>\n",
       "      <td>Y</td>\n",
       "      <td>acceleration</td>\n",
       "      <td>-0.240769</td>\n",
       "    </tr>\n",
       "    <tr>\n",
       "      <th>1</th>\n",
       "      <td>0.00782</td>\n",
       "      <td>ADLs</td>\n",
       "      <td>SQ</td>\n",
       "      <td>1</td>\n",
       "      <td>r.ankle</td>\n",
       "      <td>Y</td>\n",
       "      <td>acceleration</td>\n",
       "      <td>-0.245077</td>\n",
       "    </tr>\n",
       "    <tr>\n",
       "      <th>2</th>\n",
       "      <td>0.01563</td>\n",
       "      <td>ADLs</td>\n",
       "      <td>SQ</td>\n",
       "      <td>1</td>\n",
       "      <td>r.ankle</td>\n",
       "      <td>Y</td>\n",
       "      <td>acceleration</td>\n",
       "      <td>-0.240524</td>\n",
       "    </tr>\n",
       "    <tr>\n",
       "      <th>3</th>\n",
       "      <td>0.02344</td>\n",
       "      <td>ADLs</td>\n",
       "      <td>SQ</td>\n",
       "      <td>1</td>\n",
       "      <td>r.ankle</td>\n",
       "      <td>Y</td>\n",
       "      <td>acceleration</td>\n",
       "      <td>-0.238417</td>\n",
       "    </tr>\n",
       "    <tr>\n",
       "      <th>4</th>\n",
       "      <td>0.03125</td>\n",
       "      <td>ADLs</td>\n",
       "      <td>SQ</td>\n",
       "      <td>1</td>\n",
       "      <td>r.ankle</td>\n",
       "      <td>Y</td>\n",
       "      <td>acceleration</td>\n",
       "      <td>-0.242868</td>\n",
       "    </tr>\n",
       "  </tbody>\n",
       "</table>\n",
       "</div>"
      ],
      "text/plain": [
       "   time_seconds trial_type trial_subtype  trial_num   sensor axis  \\\n",
       "0       0.00000       ADLs            SQ          1  r.ankle    Y   \n",
       "1       0.00782       ADLs            SQ          1  r.ankle    Y   \n",
       "2       0.01563       ADLs            SQ          1  r.ankle    Y   \n",
       "3       0.02344       ADLs            SQ          1  r.ankle    Y   \n",
       "4       0.03125       ADLs            SQ          1  r.ankle    Y   \n",
       "\n",
       "        measure   reading  \n",
       "0  acceleration -0.240769  \n",
       "1  acceleration -0.245077  \n",
       "2  acceleration -0.240524  \n",
       "3  acceleration -0.238417  \n",
       "4  acceleration -0.242868  "
      ]
     },
     "execution_count": 12,
     "metadata": {},
     "output_type": "execute_result"
    }
   ],
   "source": [
    "df_dash.head()"
   ]
  },
  {
   "cell_type": "code",
   "execution_count": 17,
   "metadata": {},
   "outputs": [],
   "source": [
    "# read the sensor locations (X,Y) to plot the graphic with the human body sensors\n",
    "df_sensors = pd.read_csv('./dashboard/data/sensor_location.csv')"
   ]
  },
  {
   "cell_type": "code",
   "execution_count": 18,
   "metadata": {},
   "outputs": [
    {
     "data": {
      "text/html": [
       "<div>\n",
       "<style scoped>\n",
       "    .dataframe tbody tr th:only-of-type {\n",
       "        vertical-align: middle;\n",
       "    }\n",
       "\n",
       "    .dataframe tbody tr th {\n",
       "        vertical-align: top;\n",
       "    }\n",
       "\n",
       "    .dataframe thead th {\n",
       "        text-align: right;\n",
       "    }\n",
       "</style>\n",
       "<table border=\"1\" class=\"dataframe\">\n",
       "  <thead>\n",
       "    <tr style=\"text-align: right;\">\n",
       "      <th></th>\n",
       "      <th>sensor</th>\n",
       "      <th>x</th>\n",
       "      <th>y</th>\n",
       "      <th>size</th>\n",
       "    </tr>\n",
       "  </thead>\n",
       "  <tbody>\n",
       "    <tr>\n",
       "      <th>0</th>\n",
       "      <td>head</td>\n",
       "      <td>1.0</td>\n",
       "      <td>15.5</td>\n",
       "      <td>5</td>\n",
       "    </tr>\n",
       "    <tr>\n",
       "      <th>1</th>\n",
       "      <td>l.ankle</td>\n",
       "      <td>1.2</td>\n",
       "      <td>1.5</td>\n",
       "      <td>5</td>\n",
       "    </tr>\n",
       "    <tr>\n",
       "      <th>2</th>\n",
       "      <td>r.ankle</td>\n",
       "      <td>0.8</td>\n",
       "      <td>1.5</td>\n",
       "      <td>5</td>\n",
       "    </tr>\n",
       "    <tr>\n",
       "      <th>3</th>\n",
       "      <td>l.thigh</td>\n",
       "      <td>1.2</td>\n",
       "      <td>5.7</td>\n",
       "      <td>5</td>\n",
       "    </tr>\n",
       "    <tr>\n",
       "      <th>4</th>\n",
       "      <td>r.thigh</td>\n",
       "      <td>0.8</td>\n",
       "      <td>5.7</td>\n",
       "      <td>5</td>\n",
       "    </tr>\n",
       "    <tr>\n",
       "      <th>5</th>\n",
       "      <td>sternum</td>\n",
       "      <td>1.0</td>\n",
       "      <td>12.0</td>\n",
       "      <td>5</td>\n",
       "    </tr>\n",
       "    <tr>\n",
       "      <th>6</th>\n",
       "      <td>waist</td>\n",
       "      <td>1.0</td>\n",
       "      <td>8.0</td>\n",
       "      <td>5</td>\n",
       "    </tr>\n",
       "  </tbody>\n",
       "</table>\n",
       "</div>"
      ],
      "text/plain": [
       "    sensor    x     y  size\n",
       "0     head  1.0  15.5     5\n",
       "1  l.ankle  1.2   1.5     5\n",
       "2  r.ankle  0.8   1.5     5\n",
       "3  l.thigh  1.2   5.7     5\n",
       "4  r.thigh  0.8   5.7     5\n",
       "5  sternum  1.0  12.0     5\n",
       "6    waist  1.0   8.0     5"
      ]
     },
     "execution_count": 18,
     "metadata": {},
     "output_type": "execute_result"
    }
   ],
   "source": [
    "df_sensors"
   ]
  },
  {
   "cell_type": "code",
   "execution_count": 19,
   "metadata": {},
   "outputs": [],
   "source": [
    "df_dash = df_dash.merge(df_sensors, on='sensor', how='left')"
   ]
  },
  {
   "cell_type": "code",
   "execution_count": 20,
   "metadata": {},
   "outputs": [
    {
     "data": {
      "text/plain": [
       "(3241980, 11)"
      ]
     },
     "execution_count": 20,
     "metadata": {},
     "output_type": "execute_result"
    }
   ],
   "source": [
    "df_dash.shape"
   ]
  },
  {
   "cell_type": "code",
   "execution_count": 21,
   "metadata": {},
   "outputs": [
    {
     "data": {
      "text/plain": [
       "Index(['time_seconds', 'trial_type', 'trial_subtype', 'trial_num', 'sensor',\n",
       "       'axis', 'measure', 'reading', 'x', 'y', 'size'],\n",
       "      dtype='object')"
      ]
     },
     "execution_count": 21,
     "metadata": {},
     "output_type": "execute_result"
    }
   ],
   "source": [
    "df_dash.columns"
   ]
  },
  {
   "cell_type": "code",
   "execution_count": 22,
   "metadata": {},
   "outputs": [],
   "source": [
    "df_dash[['time_seconds', 'trial_type', 'trial_subtype',\n",
    "       'sensor', 'axis', 'measure', 'reading', 'x', 'y']].to_csv('./dashboard/data/dataset_dashboard_d3.csv',index=False)"
   ]
  },
  {
   "cell_type": "code",
   "execution_count": null,
   "metadata": {},
   "outputs": [],
   "source": []
  }
 ],
 "metadata": {
  "kernelspec": {
   "display_name": "Python 3",
   "language": "python",
   "name": "python3"
  },
  "language_info": {
   "codemirror_mode": {
    "name": "ipython",
    "version": 3
   },
   "file_extension": ".py",
   "mimetype": "text/x-python",
   "name": "python",
   "nbconvert_exporter": "python",
   "pygments_lexer": "ipython3",
   "version": "3.6.5"
  }
 },
 "nbformat": 4,
 "nbformat_minor": 2
}
