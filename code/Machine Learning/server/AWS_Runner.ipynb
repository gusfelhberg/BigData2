{
 "cells": [
  {
   "cell_type": "code",
   "execution_count": 3,
   "metadata": {
    "collapsed": true
   },
   "outputs": [],
   "source": [
    "import pandas as pd\n",
    "import requests as r\n",
    "import time\n",
    "import json\n",
    "from mailjet_rest import Client\n",
    "import os\n"
   ]
  },
  {
   "cell_type": "code",
   "execution_count": 7,
   "metadata": {},
   "outputs": [],
   "source": [
    "inputs = pd.read_csv('server_input.csv')\n",
    "patient = 'Susan Foster'\n",
    "email = 'rumman1988@gmail.com'\n",
    "\n",
    "api_key = os.environ['MAILJET_PUBLIC_KEY']\n",
    "api_secret = os.environ['MAILJET_SECRET_KEY']\n",
    "mailjet = Client(auth=(api_key, api_secret), version='v3')"
   ]
  },
  {
   "cell_type": "code",
   "execution_count": 8,
   "metadata": {
    "collapsed": true
   },
   "outputs": [],
   "source": [
    "def send_email():\n",
    "    email = {\n",
    "        'FromName': 'Fall Detection App',\n",
    "        'FromEmail': 'sfu73318@gmail.com',\n",
    "        'Subject': patient+' is in danger',\n",
    "        'Text-Part': 'Hey! We suspect,'+patient+' just encountered a fall, please check.',\n",
    "        'Recipients': [{'Email': 'rumman1988@gmail.com'}]\n",
    "    }\n",
    "    mailjet.send.create(email)"
   ]
  },
  {
   "cell_type": "code",
   "execution_count": 9,
   "metadata": {},
   "outputs": [
    {
     "name": "stdout",
     "output_type": "stream",
     "text": [
      "Fall detected\n"
     ]
    }
   ],
   "source": [
    "i = 0\n",
    "while (i < 2):\n",
    "    i += 1\n",
    "    time.sleep(1)\n",
    "    request_data = json.dumps({\n",
    "        \"features\":list(inputs.sample(n = 1).values.tolist())\n",
    "    })\n",
    "    headers = {'Content-Type': 'application/json'}\n",
    "    response = r.post('https://mdrmuhaimin.me/fall-detection/api/v1/predict', headers=headers, data=request_data)\n",
    "    if(1 in response.json()['prediction']):\n",
    "        print('Fall detected')\n",
    "        send_email()\n",
    "        break"
   ]
  }
 ],
 "metadata": {
  "kernelspec": {
   "display_name": "Python 3",
   "language": "python",
   "name": "python3"
  },
  "language_info": {
   "codemirror_mode": {
    "name": "ipython",
    "version": 3
   },
   "file_extension": ".py",
   "mimetype": "text/x-python",
   "name": "python",
   "nbconvert_exporter": "python",
   "pygments_lexer": "ipython3",
   "version": "3.6.3"
  }
 },
 "nbformat": 4,
 "nbformat_minor": 2
}
