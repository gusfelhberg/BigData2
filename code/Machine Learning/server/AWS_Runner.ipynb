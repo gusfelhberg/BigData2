{
 "cells": [
  {
   "cell_type": "code",
   "execution_count": 1,
   "metadata": {
    "collapsed": true
   },
   "outputs": [],
   "source": [
    "import pandas as pd\n",
    "import requests as r\n",
    "import time\n",
    "import json\n",
    "from mailjet_rest import Client\n",
    "import os\n"
   ]
  },
  {
   "cell_type": "code",
   "execution_count": 2,
   "metadata": {
    "collapsed": true
   },
   "outputs": [],
   "source": [
    "inputs = pd.read_csv('server_input.csv')\n",
    "patient = 'Susan Foster'\n",
    "email_addr = 'rumman1988@gmail.com'\n",
    "\n",
    "api_key = os.environ['MAILJET_PUBLIC_KEY']\n",
    "api_secret = os.environ['MAILJET_SECRET_KEY']\n",
    "mailjet = Client(auth=(api_key, api_secret), version='v3')"
   ]
  },
  {
   "cell_type": "code",
   "execution_count": 3,
   "metadata": {
    "collapsed": true
   },
   "outputs": [],
   "source": [
    "def send_email():\n",
    "    email = {\n",
    "        'FromName': 'Fall Detection App',\n",
    "        'FromEmail': 'sfu73318@gmail.com',\n",
    "        'Subject': patient+' is in danger',\n",
    "        'Text-Part': 'Hey! We suspect,'+patient+' just encountered a fall, please check.',\n",
    "        'Recipients': [{'Email': email_addr}]\n",
    "    }\n",
    "    mailjet.send.create(email)"
   ]
  },
  {
   "cell_type": "code",
   "execution_count": 17,
   "metadata": {},
   "outputs": [
    {
     "name": "stdout",
     "output_type": "stream",
     "text": [
      "{\"features\": [[0.6394587500000001, 0.5498025419363809, 10.080702857142212, 3.2798914882638748, -9.44727665625, 2.1212749437742593, 2.7756831480716606, 3.1349026406250013]]} [1]\n",
      "Fall detected for patient  Susan Foster Sending email to  rumman1988@gmail.com\n"
     ]
    },
    {
     "ename": "UnboundLocalError",
     "evalue": "local variable 'email' referenced before assignment",
     "output_type": "error",
     "traceback": [
      "\u001b[0;31m---------------------------------------------------------------------------\u001b[0m",
      "\u001b[0;31mUnboundLocalError\u001b[0m                         Traceback (most recent call last)",
      "\u001b[0;32m<ipython-input-17-5415f259df28>\u001b[0m in \u001b[0;36m<module>\u001b[0;34m()\u001b[0m\n\u001b[1;32m     12\u001b[0m     \u001b[0;32mif\u001b[0m \u001b[0;36m1\u001b[0m \u001b[0;32min\u001b[0m \u001b[0mprediction\u001b[0m\u001b[0;34m:\u001b[0m\u001b[0;34m\u001b[0m\u001b[0m\n\u001b[1;32m     13\u001b[0m         \u001b[0mprint\u001b[0m\u001b[0;34m(\u001b[0m\u001b[0;34m'Fall detected for patient '\u001b[0m\u001b[0;34m,\u001b[0m \u001b[0mpatient\u001b[0m\u001b[0;34m,\u001b[0m \u001b[0;34m'Sending email to '\u001b[0m\u001b[0;34m,\u001b[0m \u001b[0memail\u001b[0m\u001b[0;34m)\u001b[0m\u001b[0;34m\u001b[0m\u001b[0m\n\u001b[0;32m---> 14\u001b[0;31m         \u001b[0msend_email\u001b[0m\u001b[0;34m(\u001b[0m\u001b[0;34m)\u001b[0m\u001b[0;34m\u001b[0m\u001b[0m\n\u001b[0m\u001b[1;32m     15\u001b[0m         \u001b[0;32mbreak\u001b[0m\u001b[0;34m\u001b[0m\u001b[0m\n",
      "\u001b[0;32m<ipython-input-3-bb285a123325>\u001b[0m in \u001b[0;36msend_email\u001b[0;34m()\u001b[0m\n\u001b[1;32m      5\u001b[0m         \u001b[0;34m'Subject'\u001b[0m\u001b[0;34m:\u001b[0m \u001b[0mpatient\u001b[0m\u001b[0;34m+\u001b[0m\u001b[0;34m' is in danger'\u001b[0m\u001b[0;34m,\u001b[0m\u001b[0;34m\u001b[0m\u001b[0m\n\u001b[1;32m      6\u001b[0m         \u001b[0;34m'Text-Part'\u001b[0m\u001b[0;34m:\u001b[0m \u001b[0;34m'Hey! We suspect,'\u001b[0m\u001b[0;34m+\u001b[0m\u001b[0mpatient\u001b[0m\u001b[0;34m+\u001b[0m\u001b[0;34m' just encountered a fall, please check.'\u001b[0m\u001b[0;34m,\u001b[0m\u001b[0;34m\u001b[0m\u001b[0m\n\u001b[0;32m----> 7\u001b[0;31m         \u001b[0;34m'Recipients'\u001b[0m\u001b[0;34m:\u001b[0m \u001b[0;34m[\u001b[0m\u001b[0;34m{\u001b[0m\u001b[0;34m'Email'\u001b[0m\u001b[0;34m:\u001b[0m \u001b[0memail\u001b[0m\u001b[0;34m}\u001b[0m\u001b[0;34m]\u001b[0m\u001b[0;34m\u001b[0m\u001b[0m\n\u001b[0m\u001b[1;32m      8\u001b[0m     }\n\u001b[1;32m      9\u001b[0m     \u001b[0mmailjet\u001b[0m\u001b[0;34m.\u001b[0m\u001b[0msend\u001b[0m\u001b[0;34m.\u001b[0m\u001b[0mcreate\u001b[0m\u001b[0;34m(\u001b[0m\u001b[0memail\u001b[0m\u001b[0;34m)\u001b[0m\u001b[0;34m\u001b[0m\u001b[0m\n",
      "\u001b[0;31mUnboundLocalError\u001b[0m: local variable 'email' referenced before assignment"
     ]
    }
   ],
   "source": [
    "i = 0\n",
    "while (i < 100):\n",
    "    i += 1\n",
    "    time.sleep(1)\n",
    "    request_data = json.dumps({\n",
    "        \"features\":list(inputs.sample(n = 1).values.tolist())\n",
    "    })\n",
    "    headers = {'Content-Type': 'application/json'}\n",
    "    response = r.post('https://mdrmuhaimin.me/fall-detection/api/v1/predict', headers=headers, data=request_data).json()\n",
    "    prediction = response['prediction']\n",
    "    print(request_data, prediction)\n",
    "    if 1 in prediction:\n",
    "        print('Fall detected for patient ', patient, 'Sending email to ', email)\n",
    "        send_email()\n",
    "        break"
   ]
  },
  {
   "cell_type": "code",
   "execution_count": null,
   "metadata": {
    "collapsed": true
   },
   "outputs": [],
   "source": []
  }
 ],
 "metadata": {
  "kernelspec": {
   "display_name": "Python 3",
   "language": "python",
   "name": "python3"
  },
  "language_info": {
   "codemirror_mode": {
    "name": "ipython",
    "version": 3
   },
   "file_extension": ".py",
   "mimetype": "text/x-python",
   "name": "python",
   "nbconvert_exporter": "python",
   "pygments_lexer": "ipython3",
   "version": "3.6.3"
  }
 },
 "nbformat": 4,
 "nbformat_minor": 2
}
