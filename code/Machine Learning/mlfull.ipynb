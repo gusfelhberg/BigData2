{
 "cells": [
  {
   "cell_type": "code",
   "execution_count": 1,
   "metadata": {},
   "outputs": [],
   "source": [
    "import pandas as pd\n",
    "import numpy as np\n",
    "import matplotlib.pyplot as plt\n",
    "import pickle\n",
    "import glob, os\n",
    "import datetime\n",
    "%matplotlib inline\n",
    "\n",
    "from sklearn.feature_extraction import DictVectorizer\n",
    "from sklearn.preprocessing import LabelEncoder\n",
    "import numpy as np\n",
    "from sklearn.model_selection import train_test_split\n",
    "from sklearn import svm\n",
    "from sklearn.metrics import recall_score\n",
    "from sklearn.metrics import precision_score\n",
    "from sklearn.metrics import f1_score\n",
    "from sklearn.metrics import accuracy_score\n",
    "from sklearn.metrics import confusion_matrix"
   ]
  },
  {
   "cell_type": "code",
   "execution_count": 2,
   "metadata": {},
   "outputs": [],
   "source": [
    "import warnings\n",
    "warnings.filterwarnings(\"ignore\")"
   ]
  },
  {
   "cell_type": "code",
   "execution_count": 3,
   "metadata": {},
   "outputs": [],
   "source": [
    "# Functions\n",
    "# Adding a target column\n",
    "def generateTarget(row) :\n",
    "    if row['trial_type'] == 'ADLs' :\n",
    "        return 0\n",
    "    if row['trial_type'] == 'Near_Falls' :\n",
    "        return 0\n",
    "    if row['trial_type'] == 'Falls' :\n",
    "        return 1\n",
    "    \n",
    "# Adding a target column\n",
    "def generateTarget2(row) :\n",
    "    return 0\n",
    "\n",
    "# We'll use this function to test our models from now on\n",
    "def modelProcessing(X_train,y_train,X_test,y_test,model) :\n",
    "    model.fit(X_train,y_train)\n",
    "    y_pred = model.predict(X_test)\n",
    "    \n",
    "    tn, fp, fn, tp = confusion_matrix(y_test,y_pred).ravel()\n",
    "    specificity = (tn / (fp + tn))*100\n",
    "    sensitivity = (tp / (tp + fn))*100\n",
    "    accuracy = ((tn+tp) / (tp + tn + fp + fn))\n",
    "    print(\"Confusion matrix : \")\n",
    "    print(\"TN : \"+str(tn) + \" FP : \" +str(fp))\n",
    "    print(\"FN : \"+str(fn) + \" TP : \" +str(tp))\n",
    "    print(\"\")\n",
    "    print(\"Accuracy : \"+str(accuracy_score(y_test,y_pred)))\n",
    "    print(\"Recall : \" +str(recall_score(y_test,y_pred)))\n",
    "    print(\"Precision : \"+str(precision_score(y_test,y_pred)))\n",
    "    print(\"F-measure :\"+str(f1_score(y_test,y_pred)))\n",
    "    print(\"Sensitivity : \"+str(sensitivity))\n",
    "    print(\"Specificity : \"+str(specificity))\n",
    "    \n",
    "\n",
    "# Obtain a DF with the metrics and bodyparts you want\n",
    "def filterCols(df,metrics,bodyparts,resultants=True) :\n",
    "    # Metrics are Acceleration,Magnetic and Velocity (List of strings)\n",
    "    # Bodyparts are waist,l.ankle,r.ankle,l.thigh,r.thigh,sternum,head (list of strings)\n",
    "    # Resultants = true will get the resultants of the respective metrics\n",
    "    groupcols = ['subject', 'trial_type', 'trial_subtype', 'trial_num','trial_num_original','time_datetime']\n",
    "    metriccols = []\n",
    "    bodycols = []\n",
    "    \n",
    "    for col in df.columns.values :\n",
    "        for metric in metrics :\n",
    "            if (metric in col) :\n",
    "                metriccols.append(col)\n",
    "            if (resultants) :\n",
    "                if (metric.lower() in col) :\n",
    "                    metriccols.append(col)\n",
    "        for part in bodyparts :\n",
    "            if (part in col) :\n",
    "                bodycols.append(col)\n",
    "    dfOut = df[groupcols + list(set(metriccols) & set(bodycols))]\n",
    "    return dfOut"
   ]
  },
  {
   "cell_type": "code",
   "execution_count": 4,
   "metadata": {},
   "outputs": [],
   "source": [
    "# Load full database\n",
    "dfMain = pickle.load(open(\"../../../dataResultants/dataset_consolidated.p\", \"rb\"))"
   ]
  },
  {
   "cell_type": "code",
   "execution_count": 5,
   "metadata": {},
   "outputs": [],
   "source": [
    "# Only run one of the following cells at a time unless your computer has enough RAM\n",
    "# Used for the overlapping window preprocessing\n",
    "df = dfMain.copy()\n",
    "df = dfMain.drop(['target','Time','time_seconds'],axis=1)"
   ]
  },
  {
   "cell_type": "code",
   "execution_count": 5,
   "metadata": {},
   "outputs": [],
   "source": [
    "# Used for the resultant peak window preprocessing\n",
    "df2 = dfMain.copy()\n",
    "df2 = df2.drop(['target','Time','time_seconds'],axis=1)"
   ]
  },
  {
   "cell_type": "code",
   "execution_count": 5,
   "metadata": {},
   "outputs": [],
   "source": [
    "# Used for the resultant difference window preprocessing\n",
    "df3 = dfMain.copy()\n",
    "df3 = df3.drop(['target','Time','time_seconds'],axis=1)"
   ]
  },
  {
   "cell_type": "code",
   "execution_count": 92,
   "metadata": {},
   "outputs": [],
   "source": [
    "# Used for the convolutional neural network approach\n",
    "dfConv = dfMain.copy()\n",
    "dfConv = dfConv.drop(['target','Time','time_seconds'],axis=1)"
   ]
  },
  {
   "cell_type": "code",
   "execution_count": 6,
   "metadata": {},
   "outputs": [],
   "source": [
    "# Get the data columns and separate them based on the sensor and the feature (accel, vel and magfield)\n",
    "\n",
    "allcols = dfMain.columns.values\n",
    "\n",
    "groupcols = ['subject', 'trial_type', 'trial_subtype', 'trial_num','trial_num_original','time_datetime']\n",
    "waistcols = []\n",
    "ranklecols = []\n",
    "lanklecols = []\n",
    "rthighcols = []\n",
    "lthighcols = []\n",
    "headcols = []\n",
    "sternumcols = []\n",
    "accelcols = []\n",
    "velcols = []\n",
    "magcols = []\n",
    "meancols = []\n",
    "resultantcols = []\n",
    "varcols = []\n",
    "\n",
    "for col in allcols : \n",
    "    if 'r.ankle' in col :\n",
    "        ranklecols.append(col)\n",
    "    if 'l.ankle' in col :\n",
    "        lanklecols.append(col)\n",
    "    if 'waist' in col :\n",
    "        waistcols.append(col)\n",
    "    if 'r.thigh' in col :\n",
    "        rthighcols.append(col)\n",
    "    if 'l.thigh' in col :\n",
    "        lthighcols.append(col)\n",
    "    if 'head' in col :\n",
    "        headcols.append(col)\n",
    "    if 'Velocity' in col :\n",
    "        velcols.append(col)\n",
    "    if 'Magnetic' in col :\n",
    "        magcols.append(col)\n",
    "    if 'Acceleration' in col :\n",
    "        accelcols.append(col)\n",
    "    if 'mean' in col :\n",
    "        meancols.append(col)\n",
    "    if 'var' in col :\n",
    "        varcols.append(col)\n",
    "    if 'resultant' in col :\n",
    "        resultantcols.append(col)"
   ]
  },
  {
   "cell_type": "code",
   "execution_count": 7,
   "metadata": {},
   "outputs": [],
   "source": [
    "df = df.drop(resultantcols,axis=1) # Drop the resultant columns from here"
   ]
  },
  {
   "cell_type": "code",
   "execution_count": 8,
   "metadata": {},
   "outputs": [],
   "source": [
    "# group in intervals of 0.5 seconds, calculating the mean\n",
    "df_window_mean = df.groupby(['subject','trial_type','trial_subtype','trial_num','trial_num_original',pd.Grouper(key='time_datetime', freq='500000us')]).mean()\n",
    "df_window_mean = df_window_mean.reset_index()\n",
    "\n",
    "# renaming the acceleration measurement columns, including a '_mean' in the end\n",
    "for col in accelcols:\n",
    "    df_window_mean.rename(columns={col: str(col+'_mean')}, inplace=True)\n",
    "\n",
    "for col in velcols:\n",
    "    df_window_mean.rename(columns={col: str(col+'_mean')}, inplace=True)\n",
    "    \n",
    "for col in magcols:\n",
    "    df_window_mean.rename(columns={col: str(col+'_mean')}, inplace=True)"
   ]
  },
  {
   "cell_type": "code",
   "execution_count": 9,
   "metadata": {},
   "outputs": [],
   "source": [
    "# group in intervals of 0.5 seconds, calculating the variance\n",
    "\n",
    "df_window_variance = df.groupby(['subject','trial_type','trial_subtype','trial_num','trial_num_original',pd.Grouper(key='time_datetime', freq='500000us')]).var()\n",
    "df_window_variance = df_window_variance.reset_index()\n",
    "\n",
    "# renaming the acceleration measurement columns, including a '_variance' in the end\n",
    "\n",
    "for col in accelcols : \n",
    "    df_window_variance.rename(columns={col: str(col+'_var')}, inplace=True)\n",
    "    \n",
    "for col in velcols : \n",
    "    df_window_variance.rename(columns={col: str(col+'_var')}, inplace=True)\n",
    "    \n",
    "for col in magcols : \n",
    "    df_window_variance.rename(columns={col: str(col+'_var')}, inplace=True)"
   ]
  },
  {
   "cell_type": "code",
   "execution_count": 10,
   "metadata": {},
   "outputs": [],
   "source": [
    "# final dataframe, with all accelerometer columns (means and variances)\n",
    "all_trials_window = pd.merge(df_window_mean, df_window_variance,on=['subject', 'trial_type', 'trial_subtype', 'trial_num','trial_num_original','time_datetime'])\n",
    "\n",
    "# This dataframe will be used in case we decide to try different preprocessing steps\n",
    "all_trials_window = all_trials_window.dropna(axis=0, how='any')"
   ]
  },
  {
   "cell_type": "code",
   "execution_count": 11,
   "metadata": {},
   "outputs": [],
   "source": [
    "# Get the data columns and separate them based on the sensor and the feature (accel, vel and magfield)\n",
    "\n",
    "allcols = all_trials_window.columns.values\n",
    "\n",
    "groupcols = ['subject', 'trial_type', 'trial_subtype', 'trial_num','trial_num_original']\n",
    "waistcols = []\n",
    "ranklecols = []\n",
    "lanklecols = []\n",
    "rthighcols = []\n",
    "lthighcols = []\n",
    "headcols = []\n",
    "sternumcols = []\n",
    "accelcols = []\n",
    "velcols = []\n",
    "magcols = []\n",
    "meancols = []\n",
    "varcols = []\n",
    "\n",
    "for col in allcols : \n",
    "    if 'r.ankle' in col :\n",
    "        ranklecols.append(col)\n",
    "    if 'l.ankle' in col :\n",
    "        lanklecols.append(col)\n",
    "    if 'waist' in col :\n",
    "        waistcols.append(col)\n",
    "    if 'r.thigh' in col :\n",
    "        rthighcols.append(col)\n",
    "    if 'l.thigh' in col :\n",
    "        lthighcols.append(col)\n",
    "    if 'head' in col :\n",
    "        headcols.append(col)\n",
    "    if 'Velocity' in col :\n",
    "        velcols.append(col)\n",
    "    if 'Magnetic' in col :\n",
    "        magcols.append(col)\n",
    "    if 'Acceleration' in col :\n",
    "        accelcols.append(col)\n",
    "    if 'mean' in col :\n",
    "        meancols.append(col)\n",
    "    if 'var' in col :\n",
    "        varcols.append(col)"
   ]
  },
  {
   "cell_type": "markdown",
   "metadata": {},
   "source": [
    "# 1. Overlapping windows around axis acceleration peaks\n",
    "#### First we find the biggest peak in each acceleration axis (be it a maximum or minimum peak) and we create a window that spans from the smallest peak-1 second to the biggest peak + 1 second. This creates a window that takes into account all 3 peaks. \n",
    "#### We'll be using only the waist for these tests"
   ]
  },
  {
   "cell_type": "code",
   "execution_count": null,
   "metadata": {},
   "outputs": [],
   "source": [
    "metrics = ['Acceleration','Velocity','Magnetic'] # 'Acceleration','Velocity and/or 'Magnetic' can be added to this list\n",
    "bodyparts = ['waist'] # 'waist','sternum','head','r.ankle','l.ankle','r.thigh' and/or 'l.thigh' can be added to this list"
   ]
  },
  {
   "cell_type": "code",
   "execution_count": 49,
   "metadata": {},
   "outputs": [],
   "source": [
    "# Get just waist acceleration columns, time and groupcols\n",
    "dfWaistAccels = filterCols(all_trials_window,[metrics],[bodyparts],True)"
   ]
  },
  {
   "cell_type": "code",
   "execution_count": 50,
   "metadata": {},
   "outputs": [],
   "source": [
    "\n",
    "auxdf = dfWaistAccels\n",
    "\n",
    "# Add absolute value of the acceleration means as new columns to auxdf\n",
    "auxdf['AbsX'] = auxdf['waist Acceleration X (m/s^2)_mean'].abs()\n",
    "auxdf['AbsY'] = auxdf['waist Acceleration Y (m/s^2)_mean'].abs()\n",
    "auxdf['AbsZ'] = auxdf['waist Acceleration Z (m/s^2)_mean'].abs()\n",
    "\n",
    "# Find the id of the rows with max absolute value for each axis\n",
    "dfWaistAccels['YMax'] = auxdf.groupby(groupcols)['AbsY'].transform('idxmax')\n",
    "dfWaistAccels['XMax'] = auxdf.groupby(groupcols)['AbsX'].transform('idxmax')\n",
    "dfWaistAccels['ZMax'] = auxdf.groupby(groupcols)['AbsZ'].transform('idxmax')\n",
    "\n",
    "# Find the max and min ids from the last section\n",
    "dfWaistAccels['AxisMax'] = dfWaistAccels[[\"YMax\", \"XMax\",\"ZMax\"]].max(axis=1)\n",
    "dfWaistAccels['AxisMin'] = dfWaistAccels[[\"YMax\", \"XMax\",\"ZMax\"]].min(axis=1)\n",
    "\n"
   ]
  },
  {
   "cell_type": "code",
   "execution_count": 51,
   "metadata": {},
   "outputs": [],
   "source": [
    "# Creating the window for each subject,trialtype, subtype and number and combine them all into one single dataframe\n",
    "dfList = []\n",
    "for sub in dfWaistAccels['subject'].unique() :\n",
    "    for trialtype in dfWaistAccels['trial_type'].unique() :\n",
    "        for subtype in dfWaistAccels['trial_subtype'].unique() :\n",
    "            for num in dfWaistAccels['trial_num'].unique() :\n",
    "                aux1 = dfWaistAccels[(dfWaistAccels['subject'] == sub) & (dfWaistAccels['trial_type'] == trialtype) \n",
    "                    & (dfWaistAccels['trial_subtype'] == subtype) & (dfWaistAccels['trial_num'] == num)]\n",
    "                aux2 = aux1[(aux1.index < aux1.AxisMax+4) & (aux1.index > aux1.AxisMin-4)]\n",
    "                dfList.append(aux2)\n",
    "\n",
    "fulldf = pd.concat(dfList)"
   ]
  },
  {
   "cell_type": "code",
   "execution_count": 52,
   "metadata": {},
   "outputs": [],
   "source": [
    "# Dropping the columns we don't need anymore\n",
    "fulldf = fulldf.drop(['XMax','ZMax','YMax','AxisMax','AxisMin','AbsX','AbsY','AbsZ'],axis=1)\n",
    "    \n",
    "fulldf['target'] = fulldf.apply (lambda row: generateTarget(row),axis=1)"
   ]
  },
  {
   "cell_type": "code",
   "execution_count": 53,
   "metadata": {},
   "outputs": [
    {
     "name": "stdout",
     "output_type": "stream",
     "text": [
      "Confusion matrix : \n",
      "TN : 3201 FP : 202\n",
      "FN : 1212 TP : 522\n",
      "\n",
      "Accuracy : 0.724742067354\n",
      "Recall : 0.301038062284\n",
      "Precision : 0.720994475138\n",
      "F-measure :0.424735557364\n",
      "Sensitivity : 30.1038062284\n",
      "Specificity : 94.0640611225\n"
     ]
    }
   ],
   "source": [
    "y_train = fulldf[(fulldf['subject'] >= 6)]['target']\n",
    "X_train = fulldf[(fulldf['subject'] >= 6)].drop(['trial_num_original',\n",
    "                'trial_type', 'subject', 'trial_subtype', 'trial_num', 'time_datetime','target'],axis=1)\n",
    "y_test = fulldf[(fulldf['subject'] < 6)]['target']\n",
    "X_test = fulldf[(fulldf['subject'] < 6)].drop(['trial_num_original',\n",
    "                'trial_type', 'subject', 'trial_subtype', 'trial_num', 'time_datetime','target'],axis=1)\n",
    "\n",
    "clf = svm.SVC(decision_function_shape='ovo', cache_size=500000, coef0=0, C=1, gamma=0.01,  class_weight=None)\n",
    "modelProcessing(X_train,y_train,X_test,y_test,clf)"
   ]
  },
  {
   "cell_type": "markdown",
   "metadata": {},
   "source": [
    "###  Using only mean columns "
   ]
  },
  {
   "cell_type": "code",
   "execution_count": 17,
   "metadata": {},
   "outputs": [
    {
     "name": "stdout",
     "output_type": "stream",
     "text": [
      "Confusion matrix : \n",
      "TN : 3343 FP : 60\n",
      "FN : 1081 TP : 653\n",
      "\n",
      "Accuracy : 0.777885925638\n",
      "Recall : 0.376585928489\n",
      "Precision : 0.915848527349\n",
      "F-measure :0.533714752758\n",
      "Sensitivity : 37.6585928489\n",
      "Specificity : 98.2368498384\n"
     ]
    }
   ],
   "source": [
    "y_train = fulldf[(fulldf['subject'] >= 6)]['target']\n",
    "X_train = fulldf[(fulldf['subject'] >= 6)].drop(['trial_num_original',\n",
    "                'trial_type', 'subject', 'trial_subtype', 'trial_num', 'time_datetime','target'],axis=1)\n",
    "X_train = X_train.drop(['waist Acceleration X (m/s^2)_var','waist Acceleration Y (m/s^2)_var',\n",
    "                        'waist Acceleration Z (m/s^2)_var'],axis=1)\n",
    "y_test = fulldf[(fulldf['subject'] < 6)]['target']\n",
    "X_test = fulldf[(fulldf['subject'] < 6)].drop(['trial_num_original',\n",
    "                'trial_type', 'subject', 'trial_subtype', 'trial_num', 'time_datetime','target'],axis=1)\n",
    "X_test = X_test.drop(['waist Acceleration X (m/s^2)_var','waist Acceleration Y (m/s^2)_var',\n",
    "                        'waist Acceleration Z (m/s^2)_var'],axis=1)\n",
    "\n",
    "clf = svm.SVC(decision_function_shape='ovo', cache_size=500000, coef0=0, C=1, gamma=0.01,  class_weight=None)\n",
    "modelProcessing(X_train,y_train,X_test,y_test,clf)"
   ]
  },
  {
   "cell_type": "markdown",
   "metadata": {},
   "source": [
    "# 2. Resultant peak windows :"
   ]
  },
  {
   "cell_type": "code",
   "execution_count": 6,
   "metadata": {},
   "outputs": [],
   "source": [
    "# group in intervals of 0.5 seconds, calculating the mean\n",
    "df2_window_mean = df2.groupby(['subject','trial_type','trial_subtype','trial_num','trial_num_original',pd.Grouper(key='time_datetime', freq='500000us')]).mean()\n",
    "df2_window_mean = df2_window_mean.reset_index()\n",
    "\n",
    "# renaming the acceleration measurement columns, including a '_mean' in the end\n",
    "for col in df2.columns.values :\n",
    "    if ('Acceleration' in col) or ('Velocity' in col) or ('Magnetic' in col) or ('resultant' in col) :\n",
    "        df2_window_mean.rename(columns={col: str(col+'_mean')}, inplace=True)"
   ]
  },
  {
   "cell_type": "code",
   "execution_count": 7,
   "metadata": {},
   "outputs": [],
   "source": [
    "# group in intervals of 0.5 seconds, calculating the variance\n",
    "\n",
    "df2_window_variance = df2.groupby(['subject','trial_type','trial_subtype','trial_num','trial_num_original',pd.Grouper(key='time_datetime', freq='500000us')]).var()\n",
    "df2_window_variance = df2_window_variance.reset_index()\n",
    "\n",
    "# renaming the acceleration measurement columns, including a '_variance' in the end\n",
    "for col in df2.columns.values :\n",
    "    if ('Acceleration' in col) or ('Velocity' in col) or ('Magnetic' in col) or ('resultant' in col) :\n",
    "        df2_window_variance.rename(columns={col: str(col+'_var')}, inplace=True)\n",
    "    "
   ]
  },
  {
   "cell_type": "code",
   "execution_count": 8,
   "metadata": {},
   "outputs": [],
   "source": [
    "# final dataframe, with all accelerometer columns (means and variances)\n",
    "df2_all_windows = pd.merge(df2_window_mean, df2_window_variance,on=['subject', 'trial_type', 'trial_subtype', 'trial_num','trial_num_original','time_datetime'])\n",
    "\n",
    "# This dataframe will be used in case we decide to try different preprocessing steps\n",
    "df2_all_windows = df2_all_windows.dropna(axis=0, how='any')"
   ]
  },
  {
   "cell_type": "code",
   "execution_count": 35,
   "metadata": {},
   "outputs": [],
   "source": [
    "metrics = ['Acceleration','Velocity','Magnetic'] # 'Acceleration','Velocity and/or 'Magnetic' can be added to this list\n",
    "bodyparts = ['waist'] # 'waist','sternum','head','r.ankle','l.ankle','r.thigh' and/or 'l.thigh' can be added to this list"
   ]
  },
  {
   "cell_type": "code",
   "execution_count": 36,
   "metadata": {},
   "outputs": [
    {
     "name": "stdout",
     "output_type": "stream",
     "text": [
      "['subject' 'trial_type' 'trial_subtype' 'trial_num' 'trial_num_original'\n",
      " 'time_datetime' 'waist resultant magnetic field_mean'\n",
      " 'waist Magnetic Field Z (uT)_mean' 'waist resultant angular velocity_var'\n",
      " 'waist Magnetic Field Y (uT)_mean' 'waist Angular Velocity Y (rad/s)_mean'\n",
      " 'waist Acceleration X (m/s^2)_mean' 'waist Acceleration X (m/s^2)_var'\n",
      " 'waist Magnetic Field Y (uT)_var' 'waist Angular Velocity Z (rad/s)_mean'\n",
      " 'waist resultant magnetic field_var' 'waist Acceleration Y (m/s^2)_mean'\n",
      " 'waist Magnetic Field X (uT)_mean' 'waist Magnetic Field Z (uT)_var'\n",
      " 'waist Acceleration Z (m/s^2)_var' 'waist Magnetic Field X (uT)_var'\n",
      " 'waist resultant acceleration_mean' 'waist resultant acceleration_var'\n",
      " 'waist Acceleration Z (m/s^2)_mean' 'waist Angular Velocity X (rad/s)_var'\n",
      " 'waist Angular Velocity Y (rad/s)_var'\n",
      " 'waist resultant angular velocity_mean'\n",
      " 'waist Angular Velocity Z (rad/s)_var'\n",
      " 'waist Angular Velocity X (rad/s)_mean' 'waist Acceleration Y (m/s^2)_var'\n",
      " 'target']\n"
     ]
    }
   ],
   "source": [
    "dfResWindows = filterCols(df2_all_windows,metrics,bodyparts,True)\n",
    "dfResWindows['target'] = dfResWindows.apply(lambda row: generateTarget2(row),axis=1)\n",
    "print(dfResWindows.columns.values)"
   ]
  },
  {
   "cell_type": "code",
   "execution_count": 37,
   "metadata": {},
   "outputs": [],
   "source": [
    "# # Creating the window for each subject,trialtype, subtype and number and combine them all into one single dataframe\n",
    "df2List = []\n",
    "dropRows = False # True if you want to make the dataset more balanced by only getting the window around the peak \n",
    "# of each trial as the dataset (dropping any rows outside of each trial's respective peak)\n",
    "for sub in dfResWindows['subject'].unique() :\n",
    "    for trialtype in dfResWindows['trial_type'].unique() :\n",
    "        for subtype in dfResWindows['trial_subtype'].unique() :\n",
    "            for num in dfResWindows['trial_num'].unique() :\n",
    "                aux1 = dfResWindows[(dfResWindows['subject'] == sub) & \n",
    "                                         (dfResWindows['trial_type'] == trialtype) & \n",
    "                                         (dfResWindows['trial_subtype'] == subtype) & \n",
    "                                         (dfResWindows['trial_num'] == num)]\n",
    "                if (aux1.shape[0] > 0) :\n",
    "                    peak_index = aux1['waist resultant acceleration_mean'].idxmax()\n",
    "                    if (trialtype == 'Falls') :\n",
    "                        for i in range(peak_index-4,peak_index+4) : # Add the target 1 to the window\n",
    "                            aux1.set_value(i, 'target', 1)\n",
    "                    if (dropRows) :\n",
    "                        aux2 = aux1[(aux1.index < peak_index+4) & (aux1.index >= peak_index-4)]\n",
    "                        df2List.append(aux2)\n",
    "                    else : \n",
    "                        df2List.append(aux1)\n",
    "\n",
    "fulldf2 = pd.concat(df2List)"
   ]
  },
  {
   "cell_type": "code",
   "execution_count": 38,
   "metadata": {},
   "outputs": [
    {
     "name": "stdout",
     "output_type": "stream",
     "text": [
      "Confusion matrix : \n",
      "TN : 1488 FP : 53\n",
      "FN : 723 TP : 117\n",
      "\n",
      "Accuracy : 0.67408651827\n",
      "Recall : 0.139285714286\n",
      "Precision : 0.688235294118\n",
      "F-measure :0.231683168317\n",
      "Sensitivity : 13.9285714286\n",
      "Specificity : 96.5606748864\n"
     ]
    }
   ],
   "source": [
    "y_train = fulldf2[(fulldf2['subject'] >= 6)]['target']\n",
    "X_train = fulldf2[(fulldf2['subject'] >= 6)].drop(['trial_num_original',\n",
    "                'trial_type', 'subject', 'trial_subtype', \n",
    "                    'trial_num','target','time_datetime'],axis=1)\n",
    "\n",
    "y_test = fulldf2[(fulldf2['subject'] < 6)]['target']\n",
    "X_test = fulldf2[(fulldf2['subject'] < 6)].drop(['trial_num_original',\n",
    "                'trial_type', 'subject', 'trial_subtype', \n",
    "                    'trial_num','target','time_datetime'],axis=1)\n",
    "\n",
    "clf = svm.SVC(decision_function_shape='ovo', cache_size=500000, coef0=0, C=1, gamma=0.01,  class_weight=None)\n",
    "modelProcessing(X_train,y_train,X_test,y_test,clf)"
   ]
  },
  {
   "cell_type": "markdown",
   "metadata": {},
   "source": [
    "# 3. Resultant Difference Window"
   ]
  },
  {
   "cell_type": "code",
   "execution_count": 7,
   "metadata": {},
   "outputs": [],
   "source": [
    "# group in intervals of 1.0 seconds, calculating the mean\n",
    "df3_window_mean = df3.groupby(['subject','trial_type','trial_subtype','trial_num','trial_num_original',pd.Grouper(key='time_datetime', freq='1000000us')]).mean()\n",
    "df3_window_mean = df3_window_mean.reset_index()\n",
    "\n",
    "# renaming the acceleration measurement columns, including a '_mean' in the end\n",
    "for col in df3.columns.values :\n",
    "    if ('Acceleration' in col) or ('Velocity' in col) or ('Magnetic' in col) or ('resultant' in col) :\n",
    "        df3_window_mean.rename(columns={col: str(col+'_mean')}, inplace=True)"
   ]
  },
  {
   "cell_type": "code",
   "execution_count": 8,
   "metadata": {},
   "outputs": [],
   "source": [
    "# group in intervals of 1.0 seconds, calculating the variance\n",
    "\n",
    "df3_window_variance = df3.groupby(['subject','trial_type','trial_subtype','trial_num','trial_num_original',pd.Grouper(key='time_datetime', freq='1000000us')]).var()\n",
    "df3_window_variance = df3_window_variance.reset_index()\n",
    "\n",
    "# renaming the acceleration measurement columns, including a '_variance' in the end\n",
    "for col in df3.columns.values :\n",
    "    if ('Acceleration' in col) or ('Velocity' in col) or ('Magnetic' in col) or ('resultant' in col) :\n",
    "        df3_window_variance.rename(columns={col: str(col+'_var')}, inplace=True)\n",
    "    "
   ]
  },
  {
   "cell_type": "code",
   "execution_count": 9,
   "metadata": {},
   "outputs": [],
   "source": [
    "# final dataframe, with all accelerometer columns (means and variances)\n",
    "df3_all_windows = pd.merge(df3_window_mean, df3_window_variance,on=['subject', 'trial_type', 'trial_subtype', 'trial_num','trial_num_original','time_datetime'])\n",
    "\n",
    "# This dataframe will be used in case we decide to try different preprocessing steps\n",
    "df3_all_windows = df3_all_windows.dropna(axis=0, how='any')"
   ]
  },
  {
   "cell_type": "code",
   "execution_count": 10,
   "metadata": {},
   "outputs": [],
   "source": [
    "metrics = ['Acceleration'] # 'Acceleration','Velocity and/or 'Magnetic' can be added to this list\n",
    "bodyparts = ['head'] # 'waist','sternum','head','r.ankle','l.ankle','r.thigh' and/or 'l.thigh' can be added to this list"
   ]
  },
  {
   "cell_type": "code",
   "execution_count": 11,
   "metadata": {},
   "outputs": [
    {
     "name": "stdout",
     "output_type": "stream",
     "text": [
      "['subject' 'trial_type' 'trial_subtype' 'trial_num' 'trial_num_original'\n",
      " 'time_datetime' 'head Acceleration X (m/s^2)_mean'\n",
      " 'head Acceleration Y (m/s^2)_var' 'head Acceleration Y (m/s^2)_mean'\n",
      " 'head resultant acceleration_var' 'head Acceleration X (m/s^2)_var'\n",
      " 'head Acceleration Z (m/s^2)_mean' 'head resultant acceleration_mean'\n",
      " 'head Acceleration Z (m/s^2)_var' 'target']\n"
     ]
    }
   ],
   "source": [
    "df3ResWindows = filterCols(df3_all_windows,metrics,bodyparts,True)\n",
    "df3ResWindows['target'] = df3ResWindows.apply(lambda row: generateTarget2(row),axis=1)\n",
    "print(df3ResWindows.columns.values)"
   ]
  },
  {
   "cell_type": "code",
   "execution_count": 12,
   "metadata": {},
   "outputs": [],
   "source": [
    "# # Creating the window for each subject,trialtype, subtype and number and combine them all into one single dataframe\n",
    "df3List = []\n",
    "for sub in df3ResWindows['subject'].unique() :\n",
    "    for trialtype in df3ResWindows['trial_type'].unique() :\n",
    "        for subtype in df3ResWindows['trial_subtype'].unique() :\n",
    "            for num in df3ResWindows['trial_num'].unique() :\n",
    "                aux1 = df3ResWindows[(df3ResWindows['subject'] == sub) & \n",
    "                                         (df3ResWindows['trial_type'] == trialtype) & \n",
    "                                         (df3ResWindows['trial_subtype'] == subtype) & \n",
    "                                         (df3ResWindows['trial_num'] == num)]\n",
    "                aux1['resultant_diff'] = df3ResWindows['head resultant acceleration_mean'].diff().fillna(0)\n",
    "                df3List.append(aux1)\n",
    "\n",
    "df3resdiff3 = pd.concat(df3List)"
   ]
  },
  {
   "cell_type": "code",
   "execution_count": 13,
   "metadata": {},
   "outputs": [
    {
     "name": "stdout",
     "output_type": "stream",
     "text": [
      "['subject' 'trial_type' 'trial_subtype' 'trial_num' 'trial_num_original'\n",
      " 'time_datetime' 'head Acceleration X (m/s^2)_mean'\n",
      " 'head Acceleration Y (m/s^2)_var' 'head Acceleration Y (m/s^2)_mean'\n",
      " 'head resultant acceleration_var' 'head Acceleration X (m/s^2)_var'\n",
      " 'head Acceleration Z (m/s^2)_mean' 'head resultant acceleration_mean'\n",
      " 'head Acceleration Z (m/s^2)_var' 'target' 'resultant_diff']\n"
     ]
    }
   ],
   "source": [
    "print(df3resdiff3.columns.values)"
   ]
  },
  {
   "cell_type": "code",
   "execution_count": 14,
   "metadata": {},
   "outputs": [],
   "source": [
    "# # Creating the window for each subject,trialtype, subtype and number and combine them all into one single dataframe\n",
    "# This takes a while to run (about at least 10-15mins)\n",
    "df3List = []\n",
    "dropRows = True\n",
    "for sub in df3resdiff3['subject'].unique() :\n",
    "    for trialtype in df3resdiff3['trial_type'].unique() :\n",
    "        for subtype in df3resdiff3['trial_subtype'].unique() :\n",
    "            for num in df3resdiff3['trial_num'].unique() :\n",
    "                aux1 = df3resdiff3[(df3resdiff3['subject'] == sub) & \n",
    "                                         (df3resdiff3['trial_type'] == trialtype) & \n",
    "                                         (df3resdiff3['trial_subtype'] == subtype) & \n",
    "                                         (df3resdiff3['trial_num'] == num)]\n",
    "                if (aux1.shape[0] > 0) :\n",
    "                    peak_index = aux1['resultant_diff'].idxmax()\n",
    "                    if (trialtype == 'Falls') :\n",
    "                        for i in range(peak_index-2,peak_index+2) : # Add the target 1 to the window\n",
    "                            aux1.set_value(i, 'target', 1)\n",
    "                    if (dropRows) :\n",
    "                        aux2 = aux1[(aux1.index < peak_index+2) & (aux1.index >= peak_index-2)]\n",
    "                        df3List.append(aux2) \n",
    "                    else :\n",
    "                        df3List.append(aux1)\n",
    "\n",
    "                    \n",
    "fulldf3 = pd.concat(df3List)"
   ]
  },
  {
   "cell_type": "code",
   "execution_count": 15,
   "metadata": {},
   "outputs": [
    {
     "name": "stdout",
     "output_type": "stream",
     "text": [
      "Confusion matrix : \n",
      "TN : 709 FP : 59\n",
      "FN : 210 TP : 209\n",
      "\n",
      "Accuracy : 0.773378264532\n",
      "Recall : 0.498806682578\n",
      "Precision : 0.779850746269\n",
      "F-measure :0.608442503639\n",
      "Sensitivity : 49.8806682578\n",
      "Specificity : 92.3177083333\n"
     ]
    }
   ],
   "source": [
    "y_train = fulldf3[(fulldf3['subject'] >= 6)]['target']\n",
    "X_train = fulldf3[(fulldf3['subject'] >= 6)].drop(['trial_num_original',\n",
    "                'trial_type', 'subject', 'trial_subtype', \n",
    "                    'trial_num','target','time_datetime'],axis=1)\n",
    "\n",
    "y_test = fulldf3[(fulldf3['subject'] < 6)]['target']\n",
    "X_test = fulldf3[(fulldf3['subject'] < 6)].drop(['trial_num_original',\n",
    "                'trial_type', 'subject', 'trial_subtype', \n",
    "                    'trial_num','target','time_datetime'],axis=1)\n",
    "\n",
    "clf = svm.SVC(decision_function_shape='ovo', cache_size=500000, coef0=0, C=1, gamma=0.01,  class_weight=None)\n",
    "modelProcessing(X_train,y_train,X_test,y_test,clf)"
   ]
  },
  {
   "cell_type": "markdown",
   "metadata": {},
   "source": [
    "# 4. Convolutional Neural Networks"
   ]
  },
  {
   "cell_type": "code",
   "execution_count": 181,
   "metadata": {},
   "outputs": [
    {
     "name": "stdout",
     "output_type": "stream",
     "text": [
      "['subject' 'trial_type' 'trial_subtype' 'trial_num' 'trial_num_original'\n",
      " 'time_datetime' 'waist resultant acceleration'\n",
      " 'waist resultant angular velocity' 'waist Angular Velocity Y (rad/s)'\n",
      " 'waist Acceleration Y (m/s^2)' 'waist Magnetic Field X (uT)'\n",
      " 'waist Acceleration Z (m/s^2)' 'waist Magnetic Field Z (uT)'\n",
      " 'waist Angular Velocity Z (rad/s)' 'waist Magnetic Field Y (uT)'\n",
      " 'waist Angular Velocity X (rad/s)' 'waist Acceleration X (m/s^2)'\n",
      " 'waist resultant magnetic field' 'target']\n"
     ]
    }
   ],
   "source": [
    "df4 = filterCols(dfConv,['Acceleration','Velocity','Magnetic'],['waist'],True)\n",
    "df4['target'] = df4.apply(lambda row: generateTarget2(row),axis=1)\n",
    "print(df4.columns.values)"
   ]
  },
  {
   "cell_type": "code",
   "execution_count": 182,
   "metadata": {},
   "outputs": [],
   "source": [
    "# # Creating the window for each subject,trialtype, subtype and number and combine them all into one single dataframe\n",
    "df4List = []\n",
    "for sub in df4['subject'].unique() :\n",
    "    for trialtype in ['Falls'] :\n",
    "        for subtype in df4['trial_subtype'].unique() :\n",
    "            for num in df4['trial_num'].unique() :\n",
    "                aux1 = df4[(df4['subject'] == sub) & \n",
    "                                         (df4['trial_type'] == trialtype) & \n",
    "                                         (df4['trial_subtype'] == subtype) & \n",
    "                                         (df4['trial_num'] == num)]\n",
    "                if (aux1.shape[0] > 0) :\n",
    "                    if (trialtype == 'Falls') :\n",
    "                        peak_index = aux1['waist resultant acceleration'].idxmax()\n",
    "                        for i in range(peak_index-250,peak_index+250) : # Add the target 1 to the window\n",
    "                            aux1.set_value(i, 'target', 1)\n",
    "                    df4List.append(aux1)\n",
    "\n",
    "fulldf4 = pd.concat(df4List)"
   ]
  },
  {
   "cell_type": "code",
   "execution_count": 183,
   "metadata": {},
   "outputs": [],
   "source": [
    "y_train = fulldf4[(fulldf4['subject'] >= 6)]['target']\n",
    "X_train = fulldf4[(fulldf4['subject'] >= 6)].drop(['trial_num_original',\n",
    "                'trial_type', 'subject', 'trial_subtype', \n",
    "                    'trial_num','target','time_datetime'],axis=1)\n",
    "\n",
    "y_test = fulldf4[(fulldf4['subject'] < 6)]['target']\n",
    "X_test = fulldf4[(fulldf4['subject'] < 6)].drop(['trial_num_original',\n",
    "                'trial_type', 'subject', 'trial_subtype', \n",
    "                    'trial_num','target','time_datetime'],axis=1)"
   ]
  },
  {
   "cell_type": "code",
   "execution_count": 184,
   "metadata": {},
   "outputs": [],
   "source": [
    "from keras.models import Sequential\n",
    "from keras.layers import Dense, Activation, Conv1D,MaxPooling1D, Flatten,Conv2D,MaxPooling2D\n",
    "from keras.optimizers import SGD\n",
    "from keras import backend as K"
   ]
  },
  {
   "cell_type": "code",
   "execution_count": 185,
   "metadata": {},
   "outputs": [],
   "source": [
    "X_train = X_train.as_matrix()\n",
    "X_test = X_test.as_matrix()\n",
    "y_train = y_train.as_matrix()\n",
    "y_test = y_test.as_matrix()"
   ]
  },
  {
   "cell_type": "code",
   "execution_count": 186,
   "metadata": {},
   "outputs": [],
   "source": [
    "X_train_new = X_train.reshape(X_train.shape[0],X_train.shape[1],1)\n",
    "X_test_new = X_test.reshape(X_test.shape[0],X_test.shape[1],1)"
   ]
  },
  {
   "cell_type": "code",
   "execution_count": 187,
   "metadata": {},
   "outputs": [],
   "source": [
    "def reshapeData(X,y) :\n",
    "    i = 0\n",
    "    X_train_final = []\n",
    "    y_train_final = []\n",
    "    while i < len(X) :\n",
    "        if (i+250 < len(X)) :\n",
    "            elem1 = X[i:i+250]\n",
    "            elem2 = y[i:i+250]\n",
    "            count0 = 0\n",
    "            count1 = 0\n",
    "            for elem in elem2 : \n",
    "                if (elem == 0) :\n",
    "                    count0 += 1\n",
    "                else :\n",
    "                    count1 += 1\n",
    "            if ((count1 / (count0+count1)) >= 0.5) :\n",
    "                y_train_final.append(1)\n",
    "            else :\n",
    "                y_train_final.append(0)\n",
    "            X_train_final.append(elem1)\n",
    "        i += 250\n",
    "    return np.asarray(X_train_final),np.asarray(y_train_final)"
   ]
  },
  {
   "cell_type": "code",
   "execution_count": 188,
   "metadata": {},
   "outputs": [
    {
     "name": "stdout",
     "output_type": "stream",
     "text": [
      "(806, 250, 12, 1)\n"
     ]
    }
   ],
   "source": [
    "X_train_final,y_train_final = reshapeData(X_train_new,y_train)\n",
    "X_test_final,y_test_final = reshapeData(X_test_new,y_test)   \n",
    "\n",
    "print(X_train_final.shape)"
   ]
  },
  {
   "cell_type": "code",
   "execution_count": 201,
   "metadata": {},
   "outputs": [
    {
     "data": {
      "text/plain": [
       "<keras.callbacks.History at 0x7f7acfa516a0>"
      ]
     },
     "execution_count": 201,
     "metadata": {},
     "output_type": "execute_result"
    }
   ],
   "source": [
    "conv = Sequential()\n",
    "conv.add(Conv2D(filters=40, kernel_size=(25,1), input_shape = (250,12,1), activation = 'relu'))\n",
    "conv.add(MaxPooling2D(5,5))\n",
    "conv.add(Flatten())\n",
    "conv.add(Dense(1, activation = 'sigmoid'))\n",
    "sgd = SGD(lr = 0.001, momentum = 0.9, decay = 0, nesterov = False)\n",
    "conv.compile(loss = 'binary_crossentropy', optimizer = sgd, metrics = ['accuracy'])\n",
    "conv.fit(X_train_final, y_train_final, batch_size = 500, epochs = 2000, verbose = 0)"
   ]
  },
  {
   "cell_type": "code",
   "execution_count": 202,
   "metadata": {},
   "outputs": [
    {
     "name": "stdout",
     "output_type": "stream",
     "text": [
      "Model info : \n",
      "Input shape:  (806, 250, 12, 1)\n",
      "Conv1D Layer : \n",
      "Input : Tensor(\"conv2d_29_input:0\", shape=(?, 250, 12, 1), dtype=float32)\n",
      "Output : Tensor(\"conv2d_29/Relu:0\", shape=(?, 226, 12, 40), dtype=float32)\n",
      "MaxPooling1D Layer : \n",
      "Output : Tensor(\"max_pooling2d_27/MaxPool:0\", shape=(?, 45, 2, 40), dtype=float32)\n",
      "Flatten Layer : \n",
      "Output : Tensor(\"flatten_22/Reshape:0\", shape=(?, ?), dtype=float32)\n",
      "Dense Output Layer :\n",
      "Output : Tensor(\"dense_22/Sigmoid:0\", shape=(?, 1), dtype=float32)\n"
     ]
    }
   ],
   "source": [
    "print(\"Model info : \")\n",
    "print(\"Input shape:  \"+str(X_train_final.shape))\n",
    "print(\"Conv1D Layer : \")\n",
    "print(\"Input : \" + str(conv.layers[0].input))\n",
    "print(\"Output : \"+str(conv.layers[0].output))\n",
    "print(\"MaxPooling1D Layer : \")\n",
    "print(\"Output : \"+str(conv.layers[1].output))\n",
    "print(\"Flatten Layer : \")\n",
    "print(\"Output : \"+str(conv.layers[2].output))\n",
    "print(\"Dense Output Layer :\")\n",
    "print(\"Output : \"+str(conv.layers[3].output))"
   ]
  },
  {
   "cell_type": "code",
   "execution_count": 203,
   "metadata": {},
   "outputs": [
    {
     "name": "stdout",
     "output_type": "stream",
     "text": [
      "Conv1D Layer : (X filters for each of the observations)\n",
      "[[[  0.00000000e+00   1.55483663e-01   3.43012810e+00 ...,   0.00000000e+00\n",
      "     0.00000000e+00   1.15803461e+01]\n",
      "  [  0.00000000e+00   2.32809149e-02   3.89818072e-01 ...,   0.00000000e+00\n",
      "     0.00000000e+00   1.38937688e+00]\n",
      "  [  0.00000000e+00   2.29320899e-02   3.75918329e-01 ...,   0.00000000e+00\n",
      "     0.00000000e+00   1.35405648e+00]\n",
      "  ..., \n",
      "  [  0.00000000e+00   2.58568116e-03   1.00844458e-01 ...,   0.00000000e+00\n",
      "     0.00000000e+00   2.95735836e-01]\n",
      "  [  4.69981146e+00   0.00000000e+00   0.00000000e+00 ...,   1.52977252e+00\n",
      "     1.28457382e-01   0.00000000e+00]\n",
      "  [  0.00000000e+00   9.22642589e-01   2.09365520e+01 ...,   0.00000000e+00\n",
      "     0.00000000e+00   6.89588318e+01]]\n",
      "\n",
      " [[  0.00000000e+00   1.68819368e-01   3.43486500e+00 ...,   0.00000000e+00\n",
      "     0.00000000e+00   1.16097088e+01]\n",
      "  [  0.00000000e+00   2.62423716e-02   3.88915598e-01 ...,   0.00000000e+00\n",
      "     0.00000000e+00   1.38368762e+00]\n",
      "  [  0.00000000e+00   2.55894996e-02   3.73758703e-01 ...,   0.00000000e+00\n",
      "     0.00000000e+00   1.34678078e+00]\n",
      "  ..., \n",
      "  [  0.00000000e+00   4.51894850e-03   1.07024424e-01 ...,   0.00000000e+00\n",
      "     0.00000000e+00   3.01706880e-01]\n",
      "  [  4.70187950e+00   0.00000000e+00   0.00000000e+00 ...,   1.53495169e+00\n",
      "     1.16039291e-01   0.00000000e+00]\n",
      "  [  0.00000000e+00   0.00000000e+00   2.05106411e+01 ...,   0.00000000e+00\n",
      "     0.00000000e+00   6.82431793e+01]]\n",
      "\n",
      " [[  0.00000000e+00   1.88117236e-01   3.43648529e+00 ...,   0.00000000e+00\n",
      "     0.00000000e+00   1.16435223e+01]\n",
      "  [  0.00000000e+00   2.52802372e-02   3.86027277e-01 ...,   0.00000000e+00\n",
      "     0.00000000e+00   1.37628675e+00]\n",
      "  [  0.00000000e+00   2.46741548e-02   3.70335132e-01 ...,   0.00000000e+00\n",
      "     0.00000000e+00   1.33685791e+00]\n",
      "  ..., \n",
      "  [  0.00000000e+00   5.08441124e-03   1.08517542e-01 ...,   0.00000000e+00\n",
      "     0.00000000e+00   3.10495257e-01]\n",
      "  [  4.70722961e+00   0.00000000e+00   0.00000000e+00 ...,   1.53062963e+00\n",
      "     1.12523422e-01   0.00000000e+00]\n",
      "  [  0.00000000e+00   0.00000000e+00   1.96026344e+01 ...,   0.00000000e+00\n",
      "     0.00000000e+00   6.80634232e+01]]\n",
      "\n",
      " ..., \n",
      " [[  0.00000000e+00   1.78952008e-01   3.31244016e+00 ...,   0.00000000e+00\n",
      "     0.00000000e+00   1.14048862e+01]\n",
      "  [  0.00000000e+00   2.25445181e-02   3.85874659e-01 ...,   0.00000000e+00\n",
      "     0.00000000e+00   1.31638074e+00]\n",
      "  [  0.00000000e+00   2.17534676e-02   3.80266517e-01 ...,   0.00000000e+00\n",
      "     0.00000000e+00   1.30056810e+00]\n",
      "  ..., \n",
      "  [  0.00000000e+00   5.55213913e-03   6.52756914e-02 ...,   0.00000000e+00\n",
      "     0.00000000e+00   1.98012874e-01]\n",
      "  [  4.61014652e+00   0.00000000e+00   0.00000000e+00 ...,   1.49564099e+00\n",
      "     1.16479650e-01   0.00000000e+00]\n",
      "  [  0.00000000e+00   2.59677052e-01   2.12800846e+01 ...,   0.00000000e+00\n",
      "     0.00000000e+00   7.15739975e+01]]\n",
      "\n",
      " [[  0.00000000e+00   1.77047342e-01   3.31116390e+00 ...,   0.00000000e+00\n",
      "     0.00000000e+00   1.14036722e+01]\n",
      "  [  0.00000000e+00   1.97256096e-02   3.85288686e-01 ...,   0.00000000e+00\n",
      "     0.00000000e+00   1.31865549e+00]\n",
      "  [  0.00000000e+00   1.90134346e-02   3.79803866e-01 ...,   0.00000000e+00\n",
      "     0.00000000e+00   1.30311358e+00]\n",
      "  ..., \n",
      "  [  0.00000000e+00   5.02764713e-03   6.47414625e-02 ...,   0.00000000e+00\n",
      "     0.00000000e+00   1.97356656e-01]\n",
      "  [  4.61747265e+00   0.00000000e+00   0.00000000e+00 ...,   1.50288558e+00\n",
      "     1.21439829e-01   0.00000000e+00]\n",
      "  [  0.00000000e+00   0.00000000e+00   2.03745880e+01 ...,   0.00000000e+00\n",
      "     0.00000000e+00   7.03597107e+01]]\n",
      "\n",
      " [[  0.00000000e+00   1.80432051e-01   3.31228113e+00 ...,   0.00000000e+00\n",
      "     0.00000000e+00   1.14028616e+01]\n",
      "  [  0.00000000e+00   2.12690867e-02   3.85212004e-01 ...,   0.00000000e+00\n",
      "     0.00000000e+00   1.31890512e+00]\n",
      "  [  0.00000000e+00   2.09937058e-02   3.79549325e-01 ...,   0.00000000e+00\n",
      "     0.00000000e+00   1.30307114e+00]\n",
      "  ..., \n",
      "  [  0.00000000e+00   2.91555841e-03   6.53777122e-02 ...,   0.00000000e+00\n",
      "     0.00000000e+00   1.98983818e-01]\n",
      "  [  4.62378693e+00   0.00000000e+00   0.00000000e+00 ...,   1.50155544e+00\n",
      "     1.18236408e-01   0.00000000e+00]\n",
      "  [  0.00000000e+00   1.42219961e+00   2.08818645e+01 ...,   0.00000000e+00\n",
      "     0.00000000e+00   6.97322922e+01]]]\n",
      "MaxPooling1D Layer :\n",
      "[[[  4.52189922e-01   5.42212486e-01   1.24849072e+01 ...,   1.98041826e-01\n",
      "     3.00629973e-01   4.00818443e+01]\n",
      "  [  1.98244476e+01   8.50042164e-01   1.12983763e-01 ...,   6.95033646e+00\n",
      "     5.56584477e-01   3.34228903e-01]]\n",
      "\n",
      " [[  4.87997234e-01   1.74579024e+00   1.18852797e+01 ...,   2.65439659e-01\n",
      "     6.85690761e-01   3.96552811e+01]\n",
      "  [  1.95596256e+01   7.18822896e-01   1.46051526e-01 ...,   6.89616251e+00\n",
      "     1.91049838e+00   4.21105921e-01]]\n",
      "\n",
      " [[  6.04180932e-01   1.38210058e+00   1.17983351e+01 ...,   2.97491074e-01\n",
      "     3.63921881e-01   4.00581779e+01]\n",
      "  [  1.98787823e+01   5.23285985e-01   2.02493012e-01 ...,   7.36341572e+00\n",
      "     2.31507444e+00   5.52259743e-01]]\n",
      "\n",
      " ..., \n",
      " [[  3.63225788e-01   2.95747399e-01   1.18838434e+01 ...,   1.29428506e-01\n",
      "     1.63995568e-02   3.97848778e+01]\n",
      "  [  2.04748554e+01   1.11539900e+00   5.34001924e-02 ...,   6.88054276e+00\n",
      "     2.35095310e+00   2.04284504e-01]]\n",
      "\n",
      " [[  3.75736237e-01   1.80125487e+00   1.15792637e+01 ...,   1.17443494e-01\n",
      "     5.86219924e-03   3.93538132e+01]\n",
      "  [  2.05232906e+01   1.24493349e+00   6.00455254e-02 ...,   7.19778347e+00\n",
      "     1.39365792e+00   1.99247539e-01]]\n",
      "\n",
      " [[  3.93947065e-01   1.55182207e+00   1.19779310e+01 ...,   1.26365349e-01\n",
      "     3.24077249e-01   3.84135780e+01]\n",
      "  [  2.01639519e+01   1.11039495e+00   6.52756914e-02 ...,   7.05865717e+00\n",
      "     2.27522326e+00   1.98012874e-01]]]\n",
      "Flatten Layer : \n",
      "[  0.45218992   0.54221249  12.48490715 ...,   7.05865717   2.27522326\n",
      "   0.19801287]\n",
      "Dense Layer : \n",
      "[ 0.]\n"
     ]
    }
   ],
   "source": [
    "# Looking at the output of 1 trial\n",
    "# Conv1D Layer\n",
    "get_layer_output1 = K.function([conv.layers[0].input],\n",
    "                                  [conv.layers[0].output])\n",
    "layer_output1 = get_layer_output1([X_test_final])[0]\n",
    "print(\"Conv1D Layer : (X filters for each of the observations)\")\n",
    "print(layer_output1[0])\n",
    "\n",
    "# MaxPooling1D Layer\n",
    "get_layer_output2 = K.function([conv.layers[1].input],\n",
    "                                  [conv.layers[1].output])\n",
    "layer_output2 = get_layer_output2([layer_output1])[0]\n",
    "print(\"MaxPooling1D Layer :\")\n",
    "print(layer_output2[0])\n",
    "# Flatten layer\n",
    "get_layer_output3 = K.function([conv.layers[2].input],\n",
    "                                  [conv.layers[2].output])\n",
    "layer_output3 = get_layer_output3([layer_output2])[0]\n",
    "print(\"Flatten Layer : \")\n",
    "print(layer_output3[0])\n",
    "# Dense layer\n",
    "get_layer_output4 = K.function([conv.layers[3].input],\n",
    "                                  [conv.layers[3].output])\n",
    "layer_output4 = get_layer_output4([layer_output3])[0]\n",
    "print(\"Dense Layer : \")\n",
    "print(layer_output4[0])"
   ]
  },
  {
   "cell_type": "code",
   "execution_count": 204,
   "metadata": {},
   "outputs": [
    {
     "name": "stdout",
     "output_type": "stream",
     "text": [
      "Loss : 4.17950614451\n",
      "Accuracy : 0.74069478923\n"
     ]
    }
   ],
   "source": [
    "metrics = conv.evaluate(X_test_final,y_test_final,verbose=0)\n",
    "print(\"Loss : \"+str(metrics[0]))\n",
    "print(\"Accuracy : \"+str(metrics[1]))"
   ]
  },
  {
   "cell_type": "code",
   "execution_count": 146,
   "metadata": {},
   "outputs": [],
   "source": [
    "preds = conv.predict(X_test_final)"
   ]
  },
  {
   "cell_type": "code",
   "execution_count": 148,
   "metadata": {},
   "outputs": [],
   "source": [
    "transformedPreds = []\n",
    "for p in preds : \n",
    "    if (p >= 0.5) :\n",
    "        transformedPreds.append(1) \n",
    "    else :\n",
    "        transformedPreds.append(0)"
   ]
  },
  {
   "cell_type": "code",
   "execution_count": 149,
   "metadata": {},
   "outputs": [],
   "source": [
    "tp,tn,fp,fn = 0,0,0,0\n",
    "for i in range(len(transformedPreds)) :\n",
    "    if ((transformedPreds[i] == y_test_final[i])) :\n",
    "        if (transformedPreds[i] == 1) and (y_test_final[i] == 1) :\n",
    "            tp += 1\n",
    "        if (transformedPreds[i] == 0) and (y_test_final[i] == 0) :\n",
    "            tn += 1\n",
    "    else :\n",
    "        if (transformedPreds[i] == 0) and (y_test_final[i] == 1) :\n",
    "            fn += 1\n",
    "        if (transformedPreds[i] == 1) and (y_test_final[i] == 0) :\n",
    "            fp += 1"
   ]
  },
  {
   "cell_type": "code",
   "execution_count": 150,
   "metadata": {},
   "outputs": [
    {
     "ename": "ZeroDivisionError",
     "evalue": "division by zero",
     "output_type": "error",
     "traceback": [
      "\u001b[0;31m---------------------------------------------------------------------------\u001b[0m",
      "\u001b[0;31mZeroDivisionError\u001b[0m                         Traceback (most recent call last)",
      "\u001b[0;32m<ipython-input-150-b67a458995d2>\u001b[0m in \u001b[0;36m<module>\u001b[0;34m()\u001b[0m\n\u001b[1;32m      2\u001b[0m \u001b[0msensitivity\u001b[0m \u001b[0;34m=\u001b[0m \u001b[0;34m(\u001b[0m\u001b[0mtp\u001b[0m \u001b[0;34m/\u001b[0m \u001b[0;34m(\u001b[0m\u001b[0mtp\u001b[0m \u001b[0;34m+\u001b[0m \u001b[0mfn\u001b[0m\u001b[0;34m)\u001b[0m\u001b[0;34m)\u001b[0m\u001b[0;34m*\u001b[0m\u001b[0;36m100\u001b[0m\u001b[0;34m\u001b[0m\u001b[0m\n\u001b[1;32m      3\u001b[0m \u001b[0mrecall\u001b[0m \u001b[0;34m=\u001b[0m \u001b[0;34m(\u001b[0m\u001b[0mtp\u001b[0m \u001b[0;34m/\u001b[0m \u001b[0;34m(\u001b[0m\u001b[0mtp\u001b[0m \u001b[0;34m+\u001b[0m \u001b[0mfn\u001b[0m\u001b[0;34m)\u001b[0m\u001b[0;34m)\u001b[0m\u001b[0;34m\u001b[0m\u001b[0m\n\u001b[0;32m----> 4\u001b[0;31m \u001b[0mprecision\u001b[0m \u001b[0;34m=\u001b[0m \u001b[0;34m(\u001b[0m\u001b[0mtp\u001b[0m \u001b[0;34m/\u001b[0m \u001b[0;34m(\u001b[0m\u001b[0mtp\u001b[0m \u001b[0;34m+\u001b[0m \u001b[0mfp\u001b[0m\u001b[0;34m)\u001b[0m\u001b[0;34m)\u001b[0m\u001b[0;34m\u001b[0m\u001b[0m\n\u001b[0m\u001b[1;32m      5\u001b[0m \u001b[0maccuracy\u001b[0m \u001b[0;34m=\u001b[0m \u001b[0;34m(\u001b[0m\u001b[0;34m(\u001b[0m\u001b[0mtn\u001b[0m\u001b[0;34m+\u001b[0m\u001b[0mtp\u001b[0m\u001b[0;34m)\u001b[0m \u001b[0;34m/\u001b[0m \u001b[0;34m(\u001b[0m\u001b[0mtp\u001b[0m \u001b[0;34m+\u001b[0m \u001b[0mtn\u001b[0m \u001b[0;34m+\u001b[0m \u001b[0mfp\u001b[0m \u001b[0;34m+\u001b[0m \u001b[0mfn\u001b[0m\u001b[0;34m)\u001b[0m\u001b[0;34m)\u001b[0m\u001b[0;34m\u001b[0m\u001b[0m\n\u001b[1;32m      6\u001b[0m \u001b[0mprint\u001b[0m\u001b[0;34m(\u001b[0m\u001b[0;34m\"Confusion matrix : \"\u001b[0m\u001b[0;34m)\u001b[0m\u001b[0;34m\u001b[0m\u001b[0m\n",
      "\u001b[0;31mZeroDivisionError\u001b[0m: division by zero"
     ]
    }
   ],
   "source": [
    "specificity = (tn / (fp + tn))*100\n",
    "sensitivity = (tp / (tp + fn))*100\n",
    "recall = (tp / (tp + fn))\n",
    "precision = (tp / (tp + fp)) \n",
    "accuracy = ((tn+tp) / (tp + tn + fp + fn))\n",
    "print(\"Confusion matrix : \")\n",
    "print(\"TN : \"+str(tn) + \" FP : \" +str(fp))\n",
    "print(\"FN : \"+str(fn) + \" TP : \" +str(tp))\n",
    "print(\"\")\n",
    "print(\"Accuracy : \"+str(accuracy))\n",
    "print(\"Sensitivity : \"+str(sensitivity))\n",
    "print(\"Specificity : \"+str(specificity))\n",
    "print(\"Precision : \"+str(precision))\n",
    "print(\"Recall : \"+str(recall))"
   ]
  },
  {
   "cell_type": "markdown",
   "metadata": {},
   "source": [
    "# 5. Results Visualization"
   ]
  },
  {
   "cell_type": "code",
   "execution_count": 17,
   "metadata": {},
   "outputs": [],
   "source": [
    "# Uses results obtained before due to the time it takes to run the whole program multiple times\n",
    "def plotRes(accL,recL,precL,specL,xticks) :\n",
    "    x = np.array([i for i in range(0,len(specL))])\n",
    "    ax = plt.subplot(111)\n",
    "    plt.xticks(x, xticks)\n",
    "    bar1 = ax.bar(x-0.2, accL,width=0.1,color='b',align='center',label='acc')\n",
    "    bar2 = ax.bar(x-0.1, precL,width=0.1,color='g',align='center',label='prec')\n",
    "    bar3 = ax.bar(x, recL,width=0.1,color='r',align='center',label='rec')\n",
    "    bar4 = ax.bar(x+0.1, specL,width=0.1,color='y',align='center',label='spec')\n",
    "    handles, labels = ax.get_legend_handles_labels()\n",
    "    ax.legend(handles=[bar1,bar2,bar3,bar4],loc='upper center',bbox_to_anchor=(1.1,1.0))\n",
    "    ax.set_ylim([0, 1.0])\n",
    "    plt.show()"
   ]
  },
  {
   "cell_type": "code",
   "execution_count": 78,
   "metadata": {},
   "outputs": [
    {
     "data": {
      "image/png": "[encoded data removed]",
      "text/plain": [
       "<matplotlib.figure.Figure at 0x7fe1aefd5630>"
      ]
     },
     "metadata": {},
     "output_type": "display_data"
    }
   ],
   "source": [
    "# Results for preprocessing 1 :\n",
    "accL = np.array([0.782,0.761,0.711,0.662])\n",
    "recL =  np.array([0.428,0.431,0.237,0.0])\n",
    "precL = np.array([0.854,0.75,0.722,0.0])\n",
    "specL = np.array([0.962,0.930,0.953,1.0])\n",
    "xticks = np.array(['W/A','W,S,H/A','All/A','All/All'])\n",
    "plotRes(accL,recL,precL,specL,xticks)"
   ]
  },
  {
   "cell_type": "code",
   "execution_count": 80,
   "metadata": {},
   "outputs": [
    {
     "data": {
      "image/png": "[encoded data removed]",
      "text/plain": [
       "<matplotlib.figure.Figure at 0x7fe1af319518>"
      ]
     },
     "metadata": {},
     "output_type": "display_data"
    }
   ],
   "source": [
    "# Results for preprocessing 2 (without dropping rows) :\n",
    "accL = np.array([0.934,0.930,0.924,0.914])\n",
    "recL =  np.array([0.394,0.395,0.158,0.05])\n",
    "precL = np.array([0.743,0.680,0.869,0.646])\n",
    "specL = np.array([0.986,0.982,0.997,0.997])\n",
    "xticks = np.array(['W/A','S,H/A','W/V','H,Ts/A'])\n",
    "plotRes(accL,recL,precL,specL,xticks)"
   ]
  },
  {
   "cell_type": "code",
   "execution_count": 82,
   "metadata": {},
   "outputs": [
    {
     "data": {
      "image/png": "[encoded data removed]",
      "text/plain": [
       "<matplotlib.figure.Figure at 0x7fe1aac9f2b0>"
      ]
     },
     "metadata": {},
     "output_type": "display_data"
    }
   ],
   "source": [
    "# Results for preprocessing 2 (dropping rows ) :\n",
    "accL = np.array([0.801,0.776,0.674,0.708])\n",
    "recL =  np.array([0.567,0.566,0.139,0.2])\n",
    "precL = np.array([0.813,0.737,0.688,0.879])\n",
    "specL = np.array([0.929,0.890,0.965,0.985])\n",
    "xticks = np.array(['W/A','S,H/A','W/A,V,M','W,Ts/A'])\n",
    "plotRes(accL,recL,precL,specL,xticks)"
   ]
  },
  {
   "cell_type": "code",
   "execution_count": 81,
   "metadata": {},
   "outputs": [
    {
     "data": {
      "image/png": "[encoded data removed]",
      "text/plain": [
       "<matplotlib.figure.Figure at 0x7fe1aee9b390>"
      ]
     },
     "metadata": {},
     "output_type": "display_data"
    }
   ],
   "source": [
    "# Results for preprocessing 3 : (without dropping rows) \n",
    "accL = np.array([0.944,0.950,0.945])\n",
    "recL =  np.array([0.5,0.502,0.477])\n",
    "precL = np.array([0.763,0.854,0.796])\n",
    "specL = np.array([0.985,0.992,0.988])\n",
    "xticks = np.array(['W/A','H/A','S/V'])\n",
    "plotRes(accL,recL,precL,specL,xticks)"
   ]
  },
  {
   "cell_type": "code",
   "execution_count": 18,
   "metadata": {},
   "outputs": [
    {
     "data": {
      "image/png": "[encoded data removed]",
      "text/plain": [
       "<matplotlib.figure.Figure at 0x7fbae3e1a6d8>"
      ]
     },
     "metadata": {},
     "output_type": "display_data"
    }
   ],
   "source": [
    "# Results for preprocessing 3 : (without dropping rows) \n",
    "accL = np.array([0.791,0.801,0.773])\n",
    "recL =  np.array([0.538,0.523,0.498])\n",
    "precL = np.array([0.807,0.856,0.779])\n",
    "specL = np.array([0.929,0.952,0.923])\n",
    "xticks = np.array(['W/A','H/A','S/V'])\n",
    "plotRes(accL,recL,precL,specL,xticks)"
   ]
  },
  {
   "cell_type": "code",
   "execution_count": null,
   "metadata": {},
   "outputs": [],
   "source": []
  }
 ],
 "metadata": {
  "kernelspec": {
   "display_name": "Python 3",
   "language": "python",
   "name": "python3"
  },
  "language_info": {
   "codemirror_mode": {
    "name": "ipython",
    "version": 3
   },
   "file_extension": ".py",
   "mimetype": "text/x-python",
   "name": "python",
   "nbconvert_exporter": "python",
   "pygments_lexer": "ipython3",
   "version": "3.5.0"
  }
 },
 "nbformat": 4,
 "nbformat_minor": 2
}
