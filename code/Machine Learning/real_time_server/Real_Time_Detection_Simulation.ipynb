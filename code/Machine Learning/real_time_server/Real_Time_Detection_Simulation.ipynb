{
 "cells": [
  {
   "cell_type": "code",
   "execution_count": 2,
   "metadata": {
    "collapsed": true
   },
   "outputs": [],
   "source": [
    "import pandas as pd\n",
    "import requests as r\n",
    "import time\n",
    "import json\n",
    "from mailjet_rest import Client\n",
    "import os\n"
   ]
  },
  {
   "cell_type": "code",
   "execution_count": 3,
   "metadata": {
    "collapsed": true
   },
   "outputs": [],
   "source": [
    "inputs = pd.read_csv('server_input.csv')\n",
    "patient = 'Susan Foster'\n",
    "patient_email_addr = 'susan@foster.com'"
   ]
  },
  {
   "cell_type": "markdown",
   "metadata": {},
   "source": [
    "The following method authenticate a third party tool called mailjet to set alert email to emergency contact of a person who just occured a fall. The initialization of this service needs a mailject account. For security reason, this will be provided using a separate email. "
   ]
  },
  {
   "cell_type": "code",
   "execution_count": 4,
   "metadata": {
    "collapsed": true
   },
   "outputs": [],
   "source": [
    "def authenticate_mailjet():\n",
    "    if os.getenv('MAILJET_PUBLIC_KEY') is not None \\\n",
    "    and os.getenv('MAILJET_SECRET_KEY') is not None:\n",
    "        api_key = os.environ['MAILJET_PUBLIC_KEY']\n",
    "        api_secret = os.environ['MAILJET_SECRET_KEY']\n",
    "        mailjet = Client(auth=(api_key, api_secret), version='v3')\n",
    "        return mailjet\n",
    "    print('Please set MAILJET_PUBLIC_KEY and MAILJET_SECRET_KEY env variable before send email')\n",
    "    return None\n",
    "def send_email():\n",
    "    mailjet = authenticate_mailjet()\n",
    "    email = {\n",
    "        'FromName': 'Fall Detection App',\n",
    "        'FromEmail': 'sfu73318@gmail.com',\n",
    "        'Subject': patient+' is in danger',\n",
    "        'Text-Part': 'Hey! We suspect,'+patient+' just encountered a fall, please check.',\n",
    "        'Recipients': [{'Email': patient_email_addr}]\n",
    "    }\n",
    "    if mailjet is not None:\n",
    "        mailjet.send.create(email)"
   ]
  },
  {
   "cell_type": "markdown",
   "metadata": {},
   "source": [
    "The function below will sequentially call our pretrained model in hosted in AWS. To get real time prediction. It will RESTful api for communiticating. The API is currently live and can be reached using the following URL. 'https://mdrmuhaimin.me/fall-detection/api/v1/predict'\n",
    "Note:\n",
    "* The server deployed in AWS can be run locally using the script [run_local_server.sh](run_local_server.sh) the file needed to run it is called [server.py](server.py)\n",
    "* A sample restful call using CURL to our AWS server can be made by running the file [sample_local_server_rest_call.sh](sample_local_server_rest_call.sh)\n",
    "* A sample restful call using CURL to our AWS server can be made by running the file [sample_aws_rest_call.sh](sample_aws_rest_call.sh)"
   ]
  },
  {
   "cell_type": "code",
   "execution_count": 10,
   "metadata": {},
   "outputs": [
    {
     "name": "stdout",
     "output_type": "stream",
     "text": [
      "{\"features\": [[4.631069749999999, 0.0002342410521587419, 0.001351438238108884, -0.783035578125, 9.799279249514065, 0.001071265134832397, -8.600238953125, 0.0013263610914541206]]} [1]\n",
      "Fall detected for patient  Susan Foster Sending email to  susan@foster.com\n",
      "Please set MAILJET_PUBLIC_KEY and MAILJET_SECRET_KEY env variable before send email\n"
     ]
    }
   ],
   "source": [
    "i = 0\n",
    "while (i < 100):\n",
    "    i += 1\n",
    "    time.sleep(1)\n",
    "    request_data = json.dumps({\n",
    "        \"features\":list(inputs.sample(n = 1).values.tolist())\n",
    "    })\n",
    "    headers = {'Content-Type': 'application/json'}\n",
    "    response = r.post('https://mdrmuhaimin.me/fall-detection/api/v1/predict', headers=headers, data=request_data).json()\n",
    "    prediction = response['prediction']\n",
    "    print(request_data, prediction)\n",
    "    if 1 in prediction:\n",
    "        print('Fall detected for patient ', patient, 'Sending email to ', patient_email_addr)\n",
    "        send_email()\n",
    "        break"
   ]
  }
 ],
 "metadata": {
  "kernelspec": {
   "display_name": "Python 3",
   "language": "python",
   "name": "python3"
  },
  "language_info": {
   "codemirror_mode": {
    "name": "ipython",
    "version": 3
   },
   "file_extension": ".py",
   "mimetype": "text/x-python",
   "name": "python",
   "nbconvert_exporter": "python",
   "pygments_lexer": "ipython3",
   "version": "3.6.3"
  }
 },
 "nbformat": 4,
 "nbformat_minor": 2
}
