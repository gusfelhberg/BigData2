{
 "cells": [
  {
   "cell_type": "code",
   "execution_count": 10,
   "metadata": {
    "collapsed": true
   },
   "outputs": [],
   "source": [
    "import pandas as pd\n",
    "import requests as r\n",
    "import time\n",
    "import json\n",
    "from mailjet_rest import Client\n",
    "import os\n"
   ]
  },
  {
   "cell_type": "code",
   "execution_count": 11,
   "metadata": {},
   "outputs": [],
   "source": [
    "inputs = pd.read_csv('server_input.csv')\n",
    "patient = 'Susan Foster'\n",
    "patient_email_addr = 'susan@foster.com'\n",
    "\n",
    "def authenticate_mailjet():\n",
    "    if os.getenv('MAILJET_PUBLIC_KEY') is not None \\\n",
    "    and os.getenv('MAILJET_SECRET_KEY') is not None:\n",
    "        api_key = os.environ['MAILJET_PUBLIC_KEY']\n",
    "        api_secret = os.environ['MAILJET_SECRET_KEY']\n",
    "        mailjet = Client(auth=(api_key, api_secret), version='v3')\n",
    "        return mailjet\n",
    "    print('Please set MAILJET_PUBLIC_KEY and MAILJET_SECRET_KEY env variable before send email')\n",
    "    return None"
   ]
  },
  {
   "cell_type": "code",
   "execution_count": 12,
   "metadata": {
    "collapsed": true
   },
   "outputs": [],
   "source": [
    "def send_email():\n",
    "    mailjet = authenticate_mailjet()\n",
    "    email = {\n",
    "        'FromName': 'Fall Detection App',\n",
    "        'FromEmail': 'sfu73318@gmail.com',\n",
    "        'Subject': patient+' is in danger',\n",
    "        'Text-Part': 'Hey! We suspect,'+patient+' just encountered a fall, please check.',\n",
    "        'Recipients': [{'Email': patient_email_addr}]\n",
    "    }\n",
    "    if mailjet is not None:\n",
    "        mailjet.send.create(email)"
   ]
  },
  {
   "cell_type": "code",
   "execution_count": 13,
   "metadata": {},
   "outputs": [
    {
     "name": "stdout",
     "output_type": "stream",
     "text": [
      "{\"features\": [[3.318710718749999, 4.092538501198874, 8.075638175272099, 5.302042366960035, -3.3596941875000006, 4.185834528197837, 2.301334319238006, 6.14160765625]]} [1]\n",
      "Fall detected for patient  Susan Foster Sending email to  susan@foster.com\n",
      "Please set MAILJET_PUBLIC_KEY and MAILJET_SECRET_KEY env variable before send email\n"
     ]
    },
    {
     "ename": "NameError",
     "evalue": "name 'mailjet' is not defined",
     "output_type": "error",
     "traceback": [
      "\u001b[0;31m---------------------------------------------------------------------------\u001b[0m",
      "\u001b[0;31mNameError\u001b[0m                                 Traceback (most recent call last)",
      "\u001b[0;32m<ipython-input-13-99a4157db5a3>\u001b[0m in \u001b[0;36m<module>\u001b[0;34m()\u001b[0m\n\u001b[1;32m     12\u001b[0m     \u001b[0;32mif\u001b[0m \u001b[0;36m1\u001b[0m \u001b[0;32min\u001b[0m \u001b[0mprediction\u001b[0m\u001b[0;34m:\u001b[0m\u001b[0;34m\u001b[0m\u001b[0m\n\u001b[1;32m     13\u001b[0m         \u001b[0mprint\u001b[0m\u001b[0;34m(\u001b[0m\u001b[0;34m'Fall detected for patient '\u001b[0m\u001b[0;34m,\u001b[0m \u001b[0mpatient\u001b[0m\u001b[0;34m,\u001b[0m \u001b[0;34m'Sending email to '\u001b[0m\u001b[0;34m,\u001b[0m \u001b[0mpatient_email_addr\u001b[0m\u001b[0;34m)\u001b[0m\u001b[0;34m\u001b[0m\u001b[0m\n\u001b[0;32m---> 14\u001b[0;31m         \u001b[0msend_email\u001b[0m\u001b[0;34m(\u001b[0m\u001b[0;34m)\u001b[0m\u001b[0;34m\u001b[0m\u001b[0m\n\u001b[0m\u001b[1;32m     15\u001b[0m         \u001b[0;32mbreak\u001b[0m\u001b[0;34m\u001b[0m\u001b[0m\n",
      "\u001b[0;32m<ipython-input-12-a064c307a548>\u001b[0m in \u001b[0;36msend_email\u001b[0;34m()\u001b[0m\n\u001b[1;32m      8\u001b[0m         \u001b[0;34m'Recipients'\u001b[0m\u001b[0;34m:\u001b[0m \u001b[0;34m[\u001b[0m\u001b[0;34m{\u001b[0m\u001b[0;34m'Email'\u001b[0m\u001b[0;34m:\u001b[0m \u001b[0mpatient_email_addr\u001b[0m\u001b[0;34m}\u001b[0m\u001b[0;34m]\u001b[0m\u001b[0;34m\u001b[0m\u001b[0m\n\u001b[1;32m      9\u001b[0m     }\n\u001b[0;32m---> 10\u001b[0;31m     \u001b[0mmailjet\u001b[0m\u001b[0;34m.\u001b[0m\u001b[0msend\u001b[0m\u001b[0;34m.\u001b[0m\u001b[0mcreate\u001b[0m\u001b[0;34m(\u001b[0m\u001b[0memail\u001b[0m\u001b[0;34m)\u001b[0m\u001b[0;34m\u001b[0m\u001b[0m\n\u001b[0m",
      "\u001b[0;31mNameError\u001b[0m: name 'mailjet' is not defined"
     ]
    }
   ],
   "source": [
    "i = 0\n",
    "while (i < 100):\n",
    "    i += 1\n",
    "    time.sleep(1)\n",
    "    request_data = json.dumps({\n",
    "        \"features\":list(inputs.sample(n = 1).values.tolist())\n",
    "    })\n",
    "    headers = {'Content-Type': 'application/json'}\n",
    "    response = r.post('https://mdrmuhaimin.me/fall-detection/api/v1/predict', headers=headers, data=request_data).json()\n",
    "    prediction = response['prediction']\n",
    "    print(request_data, prediction)\n",
    "    if 1 in prediction:\n",
    "        print('Fall detected for patient ', patient, 'Sending email to ', patient_email_addr)\n",
    "        send_email()\n",
    "        break"
   ]
  },
  {
   "cell_type": "code",
   "execution_count": null,
   "metadata": {
    "collapsed": true
   },
   "outputs": [],
   "source": []
  }
 ],
 "metadata": {
  "kernelspec": {
   "display_name": "Python 3",
   "language": "python",
   "name": "python3"
  },
  "language_info": {
   "codemirror_mode": {
    "name": "ipython",
    "version": 3
   },
   "file_extension": ".py",
   "mimetype": "text/x-python",
   "name": "python",
   "nbconvert_exporter": "python",
   "pygments_lexer": "ipython3",
   "version": "3.6.3"
  }
 },
 "nbformat": 4,
 "nbformat_minor": 2
}
