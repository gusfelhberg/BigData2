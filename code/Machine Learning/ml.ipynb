{
 "cells": [
  {
   "cell_type": "code",
   "execution_count": 1,
   "metadata": {},
   "outputs": [],
   "source": [
    "import pandas as pd\n",
    "import numpy as np\n",
    "import matplotlib.pyplot as plt\n",
    "import pickle\n",
    "import glob, os\n",
    "import datetime\n",
    "%matplotlib inline"
   ]
  },
  {
   "cell_type": "code",
   "execution_count": 2,
   "metadata": {},
   "outputs": [
    {
     "data": {
      "text/html": [
       "<div>\n",
       "<style>\n",
       "    .dataframe thead tr:only-child th {\n",
       "        text-align: right;\n",
       "    }\n",
       "\n",
       "    .dataframe thead th {\n",
       "        text-align: left;\n",
       "    }\n",
       "\n",
       "    .dataframe tbody tr th {\n",
       "        vertical-align: top;\n",
       "    }\n",
       "</style>\n",
       "<table border=\"1\" class=\"dataframe\">\n",
       "  <thead>\n",
       "    <tr style=\"text-align: right;\">\n",
       "      <th></th>\n",
       "      <th>Time</th>\n",
       "      <th>r.ankle Acceleration X (m/s^2)</th>\n",
       "      <th>r.ankle Acceleration Y (m/s^2)</th>\n",
       "      <th>r.ankle Acceleration Z (m/s^2)</th>\n",
       "      <th>r.ankle Angular Velocity X (rad/s)</th>\n",
       "      <th>r.ankle Angular Velocity Y (rad/s)</th>\n",
       "      <th>r.ankle Angular Velocity Z (rad/s)</th>\n",
       "      <th>r.ankle Magnetic Field X (uT)</th>\n",
       "      <th>r.ankle Magnetic Field Y (uT)</th>\n",
       "      <th>r.ankle Magnetic Field Z (uT)</th>\n",
       "      <th>...</th>\n",
       "      <th>waist Acceleration Z (m/s^2)</th>\n",
       "      <th>waist Angular Velocity X (rad/s)</th>\n",
       "      <th>waist Angular Velocity Y (rad/s)</th>\n",
       "      <th>waist Angular Velocity Z (rad/s)</th>\n",
       "      <th>waist Magnetic Field X (uT)</th>\n",
       "      <th>waist Magnetic Field Y (uT)</th>\n",
       "      <th>waist Magnetic Field Z (uT)</th>\n",
       "      <th>FileName</th>\n",
       "      <th>Subject</th>\n",
       "      <th>Trial Type</th>\n",
       "    </tr>\n",
       "  </thead>\n",
       "  <tbody>\n",
       "    <tr>\n",
       "      <th>0</th>\n",
       "      <td>1304800928031250</td>\n",
       "      <td>-9.648093</td>\n",
       "      <td>0.206606</td>\n",
       "      <td>-1.777426</td>\n",
       "      <td>0.216083</td>\n",
       "      <td>0.063081</td>\n",
       "      <td>-0.005750</td>\n",
       "      <td>47.273368</td>\n",
       "      <td>1.812345</td>\n",
       "      <td>-27.669959</td>\n",
       "      <td>...</td>\n",
       "      <td>-1.053796</td>\n",
       "      <td>0.135293</td>\n",
       "      <td>1.125933</td>\n",
       "      <td>0.018840</td>\n",
       "      <td>49.654900</td>\n",
       "      <td>8.159189</td>\n",
       "      <td>-17.617632</td>\n",
       "      <td>AXR_DS_trial2.xlsx</td>\n",
       "      <td>1</td>\n",
       "      <td>ADLs</td>\n",
       "    </tr>\n",
       "    <tr>\n",
       "      <th>1</th>\n",
       "      <td>1304800928039060</td>\n",
       "      <td>-9.655078</td>\n",
       "      <td>0.219942</td>\n",
       "      <td>-1.777401</td>\n",
       "      <td>0.227556</td>\n",
       "      <td>0.058676</td>\n",
       "      <td>-0.002446</td>\n",
       "      <td>48.237493</td>\n",
       "      <td>1.805990</td>\n",
       "      <td>-27.652304</td>\n",
       "      <td>...</td>\n",
       "      <td>-1.058562</td>\n",
       "      <td>0.132575</td>\n",
       "      <td>1.117229</td>\n",
       "      <td>-0.005143</td>\n",
       "      <td>49.374396</td>\n",
       "      <td>2.664285</td>\n",
       "      <td>-13.216835</td>\n",
       "      <td>AXR_DS_trial2.xlsx</td>\n",
       "      <td>1</td>\n",
       "      <td>ADLs</td>\n",
       "    </tr>\n",
       "    <tr>\n",
       "      <th>2</th>\n",
       "      <td>1304800928046870</td>\n",
       "      <td>-9.666369</td>\n",
       "      <td>0.217904</td>\n",
       "      <td>-1.775162</td>\n",
       "      <td>0.220937</td>\n",
       "      <td>0.056821</td>\n",
       "      <td>-0.002510</td>\n",
       "      <td>48.236490</td>\n",
       "      <td>2.294880</td>\n",
       "      <td>-27.674015</td>\n",
       "      <td>...</td>\n",
       "      <td>-1.056206</td>\n",
       "      <td>0.147104</td>\n",
       "      <td>1.124629</td>\n",
       "      <td>0.006897</td>\n",
       "      <td>42.058388</td>\n",
       "      <td>2.428012</td>\n",
       "      <td>-13.081406</td>\n",
       "      <td>AXR_DS_trial2.xlsx</td>\n",
       "      <td>1</td>\n",
       "      <td>ADLs</td>\n",
       "    </tr>\n",
       "    <tr>\n",
       "      <th>3</th>\n",
       "      <td>1304800928054680</td>\n",
       "      <td>-9.666307</td>\n",
       "      <td>0.213494</td>\n",
       "      <td>-1.772938</td>\n",
       "      <td>0.221138</td>\n",
       "      <td>0.054895</td>\n",
       "      <td>-0.008760</td>\n",
       "      <td>48.236490</td>\n",
       "      <td>2.294880</td>\n",
       "      <td>-27.674015</td>\n",
       "      <td>...</td>\n",
       "      <td>-1.037325</td>\n",
       "      <td>0.140787</td>\n",
       "      <td>1.117659</td>\n",
       "      <td>-0.005121</td>\n",
       "      <td>42.058388</td>\n",
       "      <td>2.428012</td>\n",
       "      <td>-13.081406</td>\n",
       "      <td>AXR_DS_trial2.xlsx</td>\n",
       "      <td>1</td>\n",
       "      <td>ADLs</td>\n",
       "    </tr>\n",
       "    <tr>\n",
       "      <th>4</th>\n",
       "      <td>1304800928062500</td>\n",
       "      <td>-9.664132</td>\n",
       "      <td>0.220071</td>\n",
       "      <td>-1.779620</td>\n",
       "      <td>0.222743</td>\n",
       "      <td>0.056661</td>\n",
       "      <td>-0.007188</td>\n",
       "      <td>47.761448</td>\n",
       "      <td>1.450496</td>\n",
       "      <td>-27.925828</td>\n",
       "      <td>...</td>\n",
       "      <td>-1.025526</td>\n",
       "      <td>0.123733</td>\n",
       "      <td>1.120609</td>\n",
       "      <td>0.018782</td>\n",
       "      <td>52.773543</td>\n",
       "      <td>7.563286</td>\n",
       "      <td>-15.440793</td>\n",
       "      <td>AXR_DS_trial2.xlsx</td>\n",
       "      <td>1</td>\n",
       "      <td>ADLs</td>\n",
       "    </tr>\n",
       "  </tbody>\n",
       "</table>\n",
       "<p>5 rows × 67 columns</p>\n",
       "</div>"
      ],
      "text/plain": [
       "               Time  r.ankle Acceleration X (m/s^2)  \\\n",
       "0  1304800928031250                       -9.648093   \n",
       "1  1304800928039060                       -9.655078   \n",
       "2  1304800928046870                       -9.666369   \n",
       "3  1304800928054680                       -9.666307   \n",
       "4  1304800928062500                       -9.664132   \n",
       "\n",
       "   r.ankle Acceleration Y (m/s^2)  r.ankle Acceleration Z (m/s^2)  \\\n",
       "0                        0.206606                       -1.777426   \n",
       "1                        0.219942                       -1.777401   \n",
       "2                        0.217904                       -1.775162   \n",
       "3                        0.213494                       -1.772938   \n",
       "4                        0.220071                       -1.779620   \n",
       "\n",
       "   r.ankle Angular Velocity X (rad/s)  r.ankle Angular Velocity Y (rad/s)  \\\n",
       "0                            0.216083                            0.063081   \n",
       "1                            0.227556                            0.058676   \n",
       "2                            0.220937                            0.056821   \n",
       "3                            0.221138                            0.054895   \n",
       "4                            0.222743                            0.056661   \n",
       "\n",
       "   r.ankle Angular Velocity Z (rad/s)  r.ankle Magnetic Field X (uT)  \\\n",
       "0                           -0.005750                      47.273368   \n",
       "1                           -0.002446                      48.237493   \n",
       "2                           -0.002510                      48.236490   \n",
       "3                           -0.008760                      48.236490   \n",
       "4                           -0.007188                      47.761448   \n",
       "\n",
       "   r.ankle Magnetic Field Y (uT)  r.ankle Magnetic Field Z (uT)     ...      \\\n",
       "0                       1.812345                     -27.669959     ...       \n",
       "1                       1.805990                     -27.652304     ...       \n",
       "2                       2.294880                     -27.674015     ...       \n",
       "3                       2.294880                     -27.674015     ...       \n",
       "4                       1.450496                     -27.925828     ...       \n",
       "\n",
       "   waist Acceleration Z (m/s^2)  waist Angular Velocity X (rad/s)  \\\n",
       "0                     -1.053796                          0.135293   \n",
       "1                     -1.058562                          0.132575   \n",
       "2                     -1.056206                          0.147104   \n",
       "3                     -1.037325                          0.140787   \n",
       "4                     -1.025526                          0.123733   \n",
       "\n",
       "   waist Angular Velocity Y (rad/s)  waist Angular Velocity Z (rad/s)  \\\n",
       "0                          1.125933                          0.018840   \n",
       "1                          1.117229                         -0.005143   \n",
       "2                          1.124629                          0.006897   \n",
       "3                          1.117659                         -0.005121   \n",
       "4                          1.120609                          0.018782   \n",
       "\n",
       "   waist Magnetic Field X (uT)  waist Magnetic Field Y (uT)  \\\n",
       "0                    49.654900                     8.159189   \n",
       "1                    49.374396                     2.664285   \n",
       "2                    42.058388                     2.428012   \n",
       "3                    42.058388                     2.428012   \n",
       "4                    52.773543                     7.563286   \n",
       "\n",
       "   waist Magnetic Field Z (uT)            FileName  Subject  Trial Type  \n",
       "0                   -17.617632  AXR_DS_trial2.xlsx        1        ADLs  \n",
       "1                   -13.216835  AXR_DS_trial2.xlsx        1        ADLs  \n",
       "2                   -13.081406  AXR_DS_trial2.xlsx        1        ADLs  \n",
       "3                   -13.081406  AXR_DS_trial2.xlsx        1        ADLs  \n",
       "4                   -15.440793  AXR_DS_trial2.xlsx        1        ADLs  \n",
       "\n",
       "[5 rows x 67 columns]"
      ]
     },
     "execution_count": 2,
     "metadata": {},
     "output_type": "execute_result"
    }
   ],
   "source": [
    "# load the dataframe\n",
    "df = pickle.load(open(\"../../../full_dataset.p\", \"rb\"))\n",
    "df.head()"
   ]
  },
  {
   "cell_type": "code",
   "execution_count": 3,
   "metadata": {},
   "outputs": [],
   "source": [
    "# Load metadata (file genenerated in notebook exploratory_data_analysis)\n",
    "meta = pickle.load(open(\"../../../metadata.p\", \"rb\"))\n",
    "meta_acceletarion = list(meta[meta.measure=='acceleration'].index)"
   ]
  },
  {
   "cell_type": "markdown",
   "metadata": {},
   "source": [
    "## Including implicit features"
   ]
  },
  {
   "cell_type": "code",
   "execution_count": 4,
   "metadata": {},
   "outputs": [
    {
     "data": {
      "text/plain": [
       "ADLs          498810\n",
       "Falls         403402\n",
       "Near_Falls    288157\n",
       "Name: trial_type, dtype: int64"
      ]
     },
     "execution_count": 4,
     "metadata": {},
     "output_type": "execute_result"
    }
   ],
   "source": [
    "df = df.rename(columns={\"Trial Type\": \"trial_type\",\"Subject\" : \"subject\"})\n",
    "df['trial_type'].value_counts()"
   ]
  },
  {
   "cell_type": "code",
   "execution_count": 5,
   "metadata": {},
   "outputs": [
    {
     "data": {
      "text/html": [
       "<div>\n",
       "<style>\n",
       "    .dataframe thead tr:only-child th {\n",
       "        text-align: right;\n",
       "    }\n",
       "\n",
       "    .dataframe thead th {\n",
       "        text-align: left;\n",
       "    }\n",
       "\n",
       "    .dataframe tbody tr th {\n",
       "        vertical-align: top;\n",
       "    }\n",
       "</style>\n",
       "<table border=\"1\" class=\"dataframe\">\n",
       "  <thead>\n",
       "    <tr style=\"text-align: right;\">\n",
       "      <th></th>\n",
       "      <th>Time</th>\n",
       "      <th>r.ankle Acceleration X (m/s^2)</th>\n",
       "      <th>r.ankle Acceleration Y (m/s^2)</th>\n",
       "      <th>r.ankle Acceleration Z (m/s^2)</th>\n",
       "      <th>r.ankle Angular Velocity X (rad/s)</th>\n",
       "      <th>r.ankle Angular Velocity Y (rad/s)</th>\n",
       "      <th>r.ankle Angular Velocity Z (rad/s)</th>\n",
       "      <th>r.ankle Magnetic Field X (uT)</th>\n",
       "      <th>r.ankle Magnetic Field Y (uT)</th>\n",
       "      <th>r.ankle Magnetic Field Z (uT)</th>\n",
       "      <th>...</th>\n",
       "      <th>waist Magnetic Field X (uT)</th>\n",
       "      <th>waist Magnetic Field Y (uT)</th>\n",
       "      <th>waist Magnetic Field Z (uT)</th>\n",
       "      <th>FileName</th>\n",
       "      <th>subject</th>\n",
       "      <th>trial_type</th>\n",
       "      <th>trial_num</th>\n",
       "      <th>trial_subtype</th>\n",
       "      <th>time_datetime</th>\n",
       "      <th>target</th>\n",
       "    </tr>\n",
       "  </thead>\n",
       "  <tbody>\n",
       "    <tr>\n",
       "      <th>0</th>\n",
       "      <td>1304800928031250</td>\n",
       "      <td>-9.648093</td>\n",
       "      <td>0.206606</td>\n",
       "      <td>-1.777426</td>\n",
       "      <td>0.216083</td>\n",
       "      <td>0.063081</td>\n",
       "      <td>-0.005750</td>\n",
       "      <td>47.273368</td>\n",
       "      <td>1.812345</td>\n",
       "      <td>-27.669959</td>\n",
       "      <td>...</td>\n",
       "      <td>49.654900</td>\n",
       "      <td>8.159189</td>\n",
       "      <td>-17.617632</td>\n",
       "      <td>AXR_DS_trial2.xlsx</td>\n",
       "      <td>1</td>\n",
       "      <td>ADLs</td>\n",
       "      <td>trial2</td>\n",
       "      <td>DS</td>\n",
       "      <td>2011-05-07 20:42:08.031250</td>\n",
       "      <td>0</td>\n",
       "    </tr>\n",
       "    <tr>\n",
       "      <th>1</th>\n",
       "      <td>1304800928039060</td>\n",
       "      <td>-9.655078</td>\n",
       "      <td>0.219942</td>\n",
       "      <td>-1.777401</td>\n",
       "      <td>0.227556</td>\n",
       "      <td>0.058676</td>\n",
       "      <td>-0.002446</td>\n",
       "      <td>48.237493</td>\n",
       "      <td>1.805990</td>\n",
       "      <td>-27.652304</td>\n",
       "      <td>...</td>\n",
       "      <td>49.374396</td>\n",
       "      <td>2.664285</td>\n",
       "      <td>-13.216835</td>\n",
       "      <td>AXR_DS_trial2.xlsx</td>\n",
       "      <td>1</td>\n",
       "      <td>ADLs</td>\n",
       "      <td>trial2</td>\n",
       "      <td>DS</td>\n",
       "      <td>2011-05-07 20:42:08.039060</td>\n",
       "      <td>0</td>\n",
       "    </tr>\n",
       "    <tr>\n",
       "      <th>2</th>\n",
       "      <td>1304800928046870</td>\n",
       "      <td>-9.666369</td>\n",
       "      <td>0.217904</td>\n",
       "      <td>-1.775162</td>\n",
       "      <td>0.220937</td>\n",
       "      <td>0.056821</td>\n",
       "      <td>-0.002510</td>\n",
       "      <td>48.236490</td>\n",
       "      <td>2.294880</td>\n",
       "      <td>-27.674015</td>\n",
       "      <td>...</td>\n",
       "      <td>42.058388</td>\n",
       "      <td>2.428012</td>\n",
       "      <td>-13.081406</td>\n",
       "      <td>AXR_DS_trial2.xlsx</td>\n",
       "      <td>1</td>\n",
       "      <td>ADLs</td>\n",
       "      <td>trial2</td>\n",
       "      <td>DS</td>\n",
       "      <td>2011-05-07 20:42:08.046870</td>\n",
       "      <td>0</td>\n",
       "    </tr>\n",
       "    <tr>\n",
       "      <th>3</th>\n",
       "      <td>1304800928054680</td>\n",
       "      <td>-9.666307</td>\n",
       "      <td>0.213494</td>\n",
       "      <td>-1.772938</td>\n",
       "      <td>0.221138</td>\n",
       "      <td>0.054895</td>\n",
       "      <td>-0.008760</td>\n",
       "      <td>48.236490</td>\n",
       "      <td>2.294880</td>\n",
       "      <td>-27.674015</td>\n",
       "      <td>...</td>\n",
       "      <td>42.058388</td>\n",
       "      <td>2.428012</td>\n",
       "      <td>-13.081406</td>\n",
       "      <td>AXR_DS_trial2.xlsx</td>\n",
       "      <td>1</td>\n",
       "      <td>ADLs</td>\n",
       "      <td>trial2</td>\n",
       "      <td>DS</td>\n",
       "      <td>2011-05-07 20:42:08.054680</td>\n",
       "      <td>0</td>\n",
       "    </tr>\n",
       "    <tr>\n",
       "      <th>4</th>\n",
       "      <td>1304800928062500</td>\n",
       "      <td>-9.664132</td>\n",
       "      <td>0.220071</td>\n",
       "      <td>-1.779620</td>\n",
       "      <td>0.222743</td>\n",
       "      <td>0.056661</td>\n",
       "      <td>-0.007188</td>\n",
       "      <td>47.761448</td>\n",
       "      <td>1.450496</td>\n",
       "      <td>-27.925828</td>\n",
       "      <td>...</td>\n",
       "      <td>52.773543</td>\n",
       "      <td>7.563286</td>\n",
       "      <td>-15.440793</td>\n",
       "      <td>AXR_DS_trial2.xlsx</td>\n",
       "      <td>1</td>\n",
       "      <td>ADLs</td>\n",
       "      <td>trial2</td>\n",
       "      <td>DS</td>\n",
       "      <td>2011-05-07 20:42:08.062500</td>\n",
       "      <td>0</td>\n",
       "    </tr>\n",
       "  </tbody>\n",
       "</table>\n",
       "<p>5 rows × 71 columns</p>\n",
       "</div>"
      ],
      "text/plain": [
       "               Time  r.ankle Acceleration X (m/s^2)  \\\n",
       "0  1304800928031250                       -9.648093   \n",
       "1  1304800928039060                       -9.655078   \n",
       "2  1304800928046870                       -9.666369   \n",
       "3  1304800928054680                       -9.666307   \n",
       "4  1304800928062500                       -9.664132   \n",
       "\n",
       "   r.ankle Acceleration Y (m/s^2)  r.ankle Acceleration Z (m/s^2)  \\\n",
       "0                        0.206606                       -1.777426   \n",
       "1                        0.219942                       -1.777401   \n",
       "2                        0.217904                       -1.775162   \n",
       "3                        0.213494                       -1.772938   \n",
       "4                        0.220071                       -1.779620   \n",
       "\n",
       "   r.ankle Angular Velocity X (rad/s)  r.ankle Angular Velocity Y (rad/s)  \\\n",
       "0                            0.216083                            0.063081   \n",
       "1                            0.227556                            0.058676   \n",
       "2                            0.220937                            0.056821   \n",
       "3                            0.221138                            0.054895   \n",
       "4                            0.222743                            0.056661   \n",
       "\n",
       "   r.ankle Angular Velocity Z (rad/s)  r.ankle Magnetic Field X (uT)  \\\n",
       "0                           -0.005750                      47.273368   \n",
       "1                           -0.002446                      48.237493   \n",
       "2                           -0.002510                      48.236490   \n",
       "3                           -0.008760                      48.236490   \n",
       "4                           -0.007188                      47.761448   \n",
       "\n",
       "   r.ankle Magnetic Field Y (uT)  r.ankle Magnetic Field Z (uT)   ...    \\\n",
       "0                       1.812345                     -27.669959   ...     \n",
       "1                       1.805990                     -27.652304   ...     \n",
       "2                       2.294880                     -27.674015   ...     \n",
       "3                       2.294880                     -27.674015   ...     \n",
       "4                       1.450496                     -27.925828   ...     \n",
       "\n",
       "   waist Magnetic Field X (uT)  waist Magnetic Field Y (uT)  \\\n",
       "0                    49.654900                     8.159189   \n",
       "1                    49.374396                     2.664285   \n",
       "2                    42.058388                     2.428012   \n",
       "3                    42.058388                     2.428012   \n",
       "4                    52.773543                     7.563286   \n",
       "\n",
       "   waist Magnetic Field Z (uT)            FileName  subject  trial_type  \\\n",
       "0                   -17.617632  AXR_DS_trial2.xlsx        1        ADLs   \n",
       "1                   -13.216835  AXR_DS_trial2.xlsx        1        ADLs   \n",
       "2                   -13.081406  AXR_DS_trial2.xlsx        1        ADLs   \n",
       "3                   -13.081406  AXR_DS_trial2.xlsx        1        ADLs   \n",
       "4                   -15.440793  AXR_DS_trial2.xlsx        1        ADLs   \n",
       "\n",
       "   trial_num  trial_subtype              time_datetime  target  \n",
       "0     trial2             DS 2011-05-07 20:42:08.031250       0  \n",
       "1     trial2             DS 2011-05-07 20:42:08.039060       0  \n",
       "2     trial2             DS 2011-05-07 20:42:08.046870       0  \n",
       "3     trial2             DS 2011-05-07 20:42:08.054680       0  \n",
       "4     trial2             DS 2011-05-07 20:42:08.062500       0  \n",
       "\n",
       "[5 rows x 71 columns]"
      ]
     },
     "execution_count": 5,
     "metadata": {},
     "output_type": "execute_result"
    }
   ],
   "source": [
    "# 'Trial Type' is not ordinal, so we will need dummy variables\n",
    "\n",
    "# extraction of the trial number from the file name\n",
    "# Not Ordinal: necessary dummy variables\n",
    "df['trial_num'] = df['FileName'].apply(lambda x: x.replace('.xlsx','').split('_')[-1])\n",
    "\n",
    "# extraction of the trial subtype (slip, trip, pick object from ground, etc) from the file name\n",
    "# Necessary dummy variables\n",
    "df['trial_subtype'] = df['FileName'].apply(lambda x: x.split('_')[1])\n",
    "\n",
    "# column with the real date and time of the measurement\n",
    "# according to the README.txt, the Time column is the number of microseconds from 01/01/1970\n",
    "initial = datetime.datetime(1970,1,1,0,0,0)\n",
    "df['time_datetime'] = df.Time.apply(lambda x: (initial + datetime.timedelta(microseconds=x)))\n",
    "# creating the column 'Time_datetime' in a pandas datetime format\n",
    "df['time_datetime'] = df.time_datetime.apply(lambda t: pd.datetime(t.year,t.month,t.day,t.hour,t.minute,t.second,t.microsecond))\n",
    "\n",
    "###### The first 3 characters of the file name seems to be a supercategory of the trial_subtype.\n",
    "###### This way, I believe we can discard it and use just trial_subtype\n",
    "df['target'] = np.where(df['trial_type'] == 'Falls', 1, 0)\n",
    "df.head()"
   ]
  },
  {
   "cell_type": "code",
   "execution_count": 6,
   "metadata": {},
   "outputs": [
    {
     "data": {
      "text/plain": [
       "HB      115264\n",
       "slip    115264\n",
       "ITRS    115263\n",
       "trip    115260\n",
       "CS      103718\n",
       "DS       76832\n",
       "AS       76192\n",
       "ITDS     57633\n",
       "POG      57633\n",
       "SQ       57631\n",
       "DSL      57631\n",
       "NW       57631\n",
       "LCC      57631\n",
       "RSS      57630\n",
       "DSS      57630\n",
       "ITCS     11526\n",
       "Name: trial_subtype, dtype: int64"
      ]
     },
     "execution_count": 6,
     "metadata": {},
     "output_type": "execute_result"
    }
   ],
   "source": [
    "# Subtypes of trial\n",
    "df.trial_subtype.value_counts()"
   ]
  },
  {
   "cell_type": "markdown",
   "metadata": {},
   "source": [
    "# Approach 1 - **NOT** grouping data in 2.5-second windows"
   ]
  },
  {
   "cell_type": "markdown",
   "metadata": {},
   "source": [
    "### Example of a graph, similar to the ones in the paper\n",
    "\n",
    "#### OBS: Here there is one trial (trial1), from Subject 1, subtype 'slip' from the Fall dataset"
   ]
  },
  {
   "cell_type": "code",
   "execution_count": 7,
   "metadata": {},
   "outputs": [
    {
     "data": {
      "text/plain": [
       "<matplotlib.legend.Legend at 0x7f2cff0eef60>"
      ]
     },
     "execution_count": 7,
     "metadata": {},
     "output_type": "execute_result"
    },
    {
     "data": {
      "image/png": "[encoded data removed]",
      "text/plain": [
       "<matplotlib.figure.Figure at 0x7f2cfd97e2e8>"
      ]
     },
     "metadata": {},
     "output_type": "display_data"
    }
   ],
   "source": [
    "subtype = 'slip'\n",
    "trial = 'trial1'\n",
    "subject = 1\n",
    "trial_type = 'Falls'\n",
    "df_graph = df[(df.trial_subtype == subtype) & \n",
    "              (df.trial_num == trial) &\n",
    "              (df.subject == subject) &\n",
    "              (df['trial_type'] == trial_type)\n",
    "             ][['Time']+meta_acceletarion]\n",
    "\n",
    "initial_time = df_graph.Time.min()\n",
    "# Setting the time in seconds and restart the time counting from the first measeure of this trial\n",
    "df_graph['time_seconds'] = df_graph.Time.apply(lambda x: (x-initial_time)/1000000)\n",
    "\n",
    "fig, ax = plt.subplots()\n",
    "df_graph.set_index('time_seconds')['waist Acceleration X (m/s^2)'].plot(color='steelblue', ax=ax, label='waist Acc X (m/$s^2$)')\n",
    "df_graph.set_index('time_seconds')['waist Acceleration Y (m/s^2)'].plot(color='red',ax=ax, label='waist Acc Y (m/$s^2$)')\n",
    "df_graph.set_index('time_seconds')['waist Acceleration Z (m/s^2)'].plot(color='green',ax=ax, label='waist Acc Z (m/$s^2$)')\n",
    "plt.ylabel('Acc. (m/$s^2$)')\n",
    "ax.legend()"
   ]
  },
  {
   "cell_type": "code",
   "execution_count": 8,
   "metadata": {},
   "outputs": [
    {
     "data": {
      "text/plain": [
       "(1921, 23)"
      ]
     },
     "execution_count": 8,
     "metadata": {},
     "output_type": "execute_result"
    }
   ],
   "source": [
    "df_graph.shape"
   ]
  },
  {
   "cell_type": "code",
   "execution_count": 9,
   "metadata": {},
   "outputs": [],
   "source": [
    "# Get the data columns and separate them based on the sensor and the feature (accel, vel and magfield)\n",
    "\n",
    "allcols = df.columns.values\n",
    "\n",
    "waistcols = []\n",
    "ranklecols = []\n",
    "lanklecols = []\n",
    "rthighcols = []\n",
    "lthighcols = []\n",
    "headcols = []\n",
    "sternumcols = []\n",
    "accelcols = []\n",
    "velcols = []\n",
    "magcols = []\n",
    "\n",
    "for col in allcols : \n",
    "    if 'r.ankle' in col :\n",
    "        ranklecols.append(col)\n",
    "    if 'l.ankle' in col :\n",
    "        lanklecols.append(col)\n",
    "    if 'waist' in col :\n",
    "        waistcols.append(col)\n",
    "    if 'r.thigh' in col :\n",
    "        rthighcols.append(col)\n",
    "    if 'l.thigh' in col :\n",
    "        lthighcols.append(col)\n",
    "    if 'head' in col :\n",
    "        headcols.append(col)\n",
    "    if 'Velocity' in col :\n",
    "        velcols.append(col)\n",
    "    if 'Magnetic' in col :\n",
    "        magcols.append(col)\n",
    "    if 'Acceleration' in col :\n",
    "        accelcols.append(col)"
   ]
  },
  {
   "cell_type": "markdown",
   "metadata": {},
   "source": [
    "# Approach 2 - Grouping data in 2.5-second windows\n",
    "\n",
    "### The calc of the aggregation will be the means\n",
    "\n",
    "\n",
    "## OBS:\n",
    "\n",
    "1 - I created 2 separated dataframes - one for mean and one for variance\n",
    "\n",
    "2 - I'm just considering the files with data from the accelerometers\n"
   ]
  },
  {
   "cell_type": "code",
   "execution_count": 10,
   "metadata": {},
   "outputs": [],
   "source": [
    "# group in intervals of 2 seconds, calculating the mean\n",
    "df_2s_window_mean = df.groupby(['subject','trial_type','trial_subtype','trial_num',pd.Grouper(key='time_datetime', freq='2500000us')]).mean()\n",
    "df_2s_window_mean = df_2s_window_mean.reset_index()\n",
    "\n",
    "# renaming the acceleration measurement columns, including a '_mean' in the end\n",
    "for col in accelcols:\n",
    "    df_2s_window_mean.rename(columns={col: str(col+'_mean')}, inplace=True)\n",
    "\n",
    "for col in velcols:\n",
    "    df_2s_window_mean.rename(columns={col: str(col+'_mean')}, inplace=True)\n",
    "    \n",
    "for col in magcols:\n",
    "    df_2s_window_mean.rename(columns={col: str(col+'_mean')}, inplace=True)"
   ]
  },
  {
   "cell_type": "code",
   "execution_count": 11,
   "metadata": {},
   "outputs": [],
   "source": [
    "# group in intervals of 2 seconds, calculating the variance\n",
    "\n",
    "df_2s_window_variance = df.groupby(['subject','trial_type','trial_subtype','trial_num',pd.Grouper(key='time_datetime', freq='2500000us')]).var()\n",
    "df_2s_window_variance = df_2s_window_variance.reset_index()\n",
    "\n",
    "# renaming the acceleration measurement columns, including a '_variance' in the end\n",
    "\n",
    "for col in accelcols : \n",
    "    df_2s_window_variance.rename(columns={col: str(col+'_variance')}, inplace=True)\n",
    "    \n",
    "for col in velcols : \n",
    "    df_2s_window_variance.rename(columns={col: str(col+'_variance')}, inplace=True)\n",
    "    \n",
    "for col in magcols : \n",
    "    df_2s_window_variance.rename(columns={col: str(col+'_variance')}, inplace=True)"
   ]
  },
  {
   "cell_type": "code",
   "execution_count": 12,
   "metadata": {},
   "outputs": [],
   "source": [
    "# final dataframe, with all accelerometer columns (means and variances)\n",
    "all_trials = pd.merge(df_2s_window_mean, df_2s_window_variance,on=['subject', 'trial_type', 'trial_subtype', 'trial_num', 'time_datetime'])\n",
    "\n",
    "all_trials = all_trials.dropna(axis=0, how='any')"
   ]
  },
  {
   "cell_type": "code",
   "execution_count": 13,
   "metadata": {},
   "outputs": [],
   "source": [
    "# Get the data columns and separate them based on the sensor and the feature (accel, vel and magfield)\n",
    "\n",
    "allcols = all_trials.columns.values\n",
    "\n",
    "waistcols = []\n",
    "ranklecols = []\n",
    "lanklecols = []\n",
    "rthighcols = []\n",
    "lthighcols = []\n",
    "headcols = []\n",
    "sternumcols = []\n",
    "accelcols = []\n",
    "velcols = []\n",
    "magcols = []\n",
    "varcols = []\n",
    "meancols = []\n",
    "\n",
    "for col in allcols : \n",
    "    if 'r.ankle' in col :\n",
    "        ranklecols.append(col)\n",
    "    if 'l.ankle' in col :\n",
    "        lanklecols.append(col)\n",
    "    if 'waist' in col :\n",
    "        waistcols.append(col)\n",
    "    if 'r.thigh' in col :\n",
    "        rthighcols.append(col)\n",
    "    if 'l.thigh' in col :\n",
    "        lthighcols.append(col)\n",
    "    if 'head' in col :\n",
    "        headcols.append(col)\n",
    "    if 'Velocity' in col :\n",
    "        velcols.append(col)\n",
    "    if 'Magnetic' in col :\n",
    "        magcols.append(col)\n",
    "    if 'Acceleration' in col :\n",
    "        accelcols.append(col)\n",
    "    if 'mean' in col :\n",
    "        meancols.append(col)\n",
    "    if 'variance' in col :\n",
    "        varcols.append(col)"
   ]
  },
  {
   "cell_type": "code",
   "execution_count": 64,
   "metadata": {},
   "outputs": [
    {
     "data": {
      "text/plain": [
       "0.75289575289575295"
      ]
     },
     "execution_count": 64,
     "metadata": {},
     "output_type": "execute_result"
    }
   ],
   "source": [
    "# Using 2 second window with all means/variances for accelerations,velocities and magnetic fields\n",
    "\n",
    "from sklearn.feature_extraction import DictVectorizer\n",
    "from sklearn.preprocessing import LabelEncoder\n",
    "import numpy as np\n",
    "from sklearn.model_selection import train_test_split\n",
    "from sklearn import svm\n",
    "\n",
    "X = all_trials.drop(['trial_type', 'subject', 'trial_subtype', 'trial_num', 'time_datetime'], axis=1)\n",
    "y = all_trials['trial_type'].values\n",
    "le = LabelEncoder()\n",
    "le.fit(['ADLs', 'Falls', 'Near_Falls'])\n",
    "y = le.transform(y)\n",
    "v = DictVectorizer(sparse=False)\n",
    "X = X.values\n",
    "for i in range(len(y)) :\n",
    "    if y[i] == 1 :\n",
    "        y[i] = 0\n",
    "    if y[i] == 2 :\n",
    "        y[i] = 1\n",
    "\n",
    "X_train, X_test, y_train, y_test = train_test_split(X, y, test_size=0.3)\n",
    "clf = svm.SVC(decision_function_shape='ovo', cache_size=500000, coef0=0, C=1, gamma=0.03,  class_weight=None)\n",
    "clf.fit(X_train, y_train) \n",
    "clf.score(X_test, y_test)"
   ]
  },
  {
   "cell_type": "code",
   "execution_count": 63,
   "metadata": {},
   "outputs": [
    {
     "data": {
      "text/plain": [
       "0.76911196911196911"
      ]
     },
     "execution_count": 63,
     "metadata": {},
     "output_type": "execute_result"
    }
   ],
   "source": [
    "# Using 2 second window with all means/variances for accelerations and velocities\n",
    "\n",
    "from sklearn.feature_extraction import DictVectorizer\n",
    "from sklearn.preprocessing import LabelEncoder\n",
    "import numpy as np\n",
    "\n",
    "onlyAccVel = all_trials.drop(magcols,axis=1)\n",
    "X = onlyAccVel.drop(['trial_type', 'subject', 'trial_subtype', 'trial_num', 'time_datetime'], axis=1)\n",
    "y = onlyAccVel['trial_type'].values\n",
    "le = LabelEncoder()\n",
    "le.fit(['ADLs', 'Falls', 'Near_Falls'])\n",
    "y = le.transform(y)\n",
    "v = DictVectorizer(sparse=False)\n",
    "X = X.values\n",
    "for i in range(len(y)) :\n",
    "    if y[i] == 1 :\n",
    "        y[i] = 0\n",
    "    if y[i] == 2 :\n",
    "        y[i] = 1\n",
    "        \n",
    "from sklearn.model_selection import train_test_split\n",
    "from sklearn import svm\n",
    "\n",
    "X_train, X_test, y_train, y_test = train_test_split(X, y, test_size=0.3)\n",
    "clf = svm.SVC(decision_function_shape='ovo', cache_size=500000, coef0=0, C=1, gamma=0.03,  class_weight=None)\n",
    "clf.fit(X_train, y_train) \n",
    "clf.score(X_test, y_test)"
   ]
  },
  {
   "cell_type": "code",
   "execution_count": 62,
   "metadata": {},
   "outputs": [
    {
     "data": {
      "text/plain": [
       "0.75444015444015444"
      ]
     },
     "execution_count": 62,
     "metadata": {},
     "output_type": "execute_result"
    }
   ],
   "source": [
    "# Using 2 second window with all means/variances for just velocities\n",
    "onlyVel = all_trials.drop(magcols+accelcols,axis=1)\n",
    "X = onlyVel.drop(['trial_type', 'subject', 'trial_subtype', 'trial_num', 'time_datetime'], axis=1)\n",
    "y = onlyVel['trial_type'].values\n",
    "le = LabelEncoder()\n",
    "le.fit(['ADLs', 'Falls', 'Near_Falls'])\n",
    "y = le.transform(y)\n",
    "v = DictVectorizer(sparse=False)\n",
    "X = X.values\n",
    "for i in range(len(y)) :\n",
    "    if y[i] == 1 :\n",
    "        y[i] = 0\n",
    "    if y[i] == 2 :\n",
    "        y[i] = 1\n",
    "    \n",
    "\n",
    "X_train, X_test, y_train, y_test = train_test_split(X, y, test_size=0.3)\n",
    "clf = svm.SVC(decision_function_shape='ovo', cache_size=500000, coef0=0, C=1, gamma=0.03,  class_weight=None)\n",
    "clf.fit(X_train, y_train) \n",
    "clf.score(X_test, y_test)"
   ]
  },
  {
   "cell_type": "code",
   "execution_count": 61,
   "metadata": {},
   "outputs": [
    {
     "data": {
      "text/plain": [
       "0.75057915057915059"
      ]
     },
     "execution_count": 61,
     "metadata": {},
     "output_type": "execute_result"
    }
   ],
   "source": [
    "# Using 2 second window with all means/variances for just accelerations\n",
    "\n",
    "onlyAcc = all_trials.drop(magcols+velcols,axis=1)\n",
    "X = onlyAcc.drop(['trial_type', 'subject', 'trial_subtype', 'trial_num', 'time_datetime'], axis=1)\n",
    "y = onlyAcc['trial_type'].values\n",
    "le = LabelEncoder()\n",
    "le.fit(['ADLs', 'Falls', 'Near_Falls'])\n",
    "y = le.transform(y)\n",
    "v = DictVectorizer(sparse=False)\n",
    "X = X.values\n",
    "for i in range(len(y)) :\n",
    "    if y[i] == 1 :\n",
    "        y[i] = 0\n",
    "    if y[i] == 2 :\n",
    "        y[i] = 1\n",
    "\n",
    "X_train, X_test, y_train, y_test = train_test_split(X, y, test_size=0.3)\n",
    "clf = svm.SVC(decision_function_shape='ovo', cache_size=500000, coef0=0, C=1, gamma=0.03,  class_weight=None)\n",
    "clf.fit(X_train, y_train) \n",
    "clf.score(X_test, y_test)"
   ]
  },
  {
   "cell_type": "markdown",
   "metadata": {},
   "source": [
    "### Dataframe with data from **Waist Acceleration**"
   ]
  },
  {
   "cell_type": "code",
   "execution_count": 36,
   "metadata": {},
   "outputs": [
    {
     "data": {
      "text/plain": [
       "['subject',\n",
       " 'trial_type',\n",
       " 'trial_subtype',\n",
       " 'trial_num',\n",
       " 'time_datetime',\n",
       " 'waist Acceleration X (m/s^2)_mean',\n",
       " 'waist Acceleration Y (m/s^2)_mean',\n",
       " 'waist Acceleration Z (m/s^2)_mean',\n",
       " 'waist Acceleration X (m/s^2)_variance',\n",
       " 'waist Acceleration Y (m/s^2)_variance',\n",
       " 'waist Acceleration Z (m/s^2)_variance']"
      ]
     },
     "execution_count": 36,
     "metadata": {},
     "output_type": "execute_result"
    }
   ],
   "source": [
    "# get from the metadata dataframe the columns regarding acceleration at waist\n",
    "acceleration_waist_base = list(meta[(meta.body_location == 'waist') & (meta.measure == 'acceleration')].index)\n",
    "\n",
    "# generate the list of columns including postfix _mean and _variance \n",
    "acceleration_waist = [x+'_mean' for x in acceleration_waist_base]+[x+'_variance' for x in acceleration_waist_base]\n",
    "\n",
    "columns_base = ['subject', 'trial_type', 'trial_subtype', 'trial_num', 'time_datetime']\n",
    "\n",
    "# complete list of columns for final dataset\n",
    "full_columns = columns_base + acceleration_waist\n",
    "full_columns"
   ]
  },
  {
   "cell_type": "code",
   "execution_count": 42,
   "metadata": {},
   "outputs": [],
   "source": [
    "waist_acceleration_trials = all_trials[waistcols+['trial_type', 'subject', 'trial_subtype', 'trial_num', 'time_datetime']]\n",
    "waist_acceleration_trials = waist_acceleration_trials.dropna(axis=0, how='any')"
   ]
  },
  {
   "cell_type": "code",
   "execution_count": 43,
   "metadata": {},
   "outputs": [],
   "source": [
    "# USING JUST THE WAIST TRIALS\n",
    "from sklearn.feature_extraction import DictVectorizer\n",
    "from sklearn.preprocessing import LabelEncoder\n",
    "import numpy as np\n",
    "\n",
    "X = waist_acceleration_trials.drop(['trial_type', 'subject', 'trial_subtype', 'trial_num', 'time_datetime'], axis=1)\n",
    "y = waist_acceleration_trials['trial_type'].values\n",
    "le = LabelEncoder()\n",
    "le.fit(['ADLs', 'Falls', 'Near_Falls'])\n",
    "y = le.transform(y)\n",
    "v = DictVectorizer(sparse=False)\n",
    "X = X.values\n",
    "for i in range(len(y)) :\n",
    "    if y[i] == 1 :\n",
    "        y[i] = 0\n",
    "    if y[i] == 2 :\n",
    "        y[i] = 1"
   ]
  },
  {
   "cell_type": "code",
   "execution_count": 44,
   "metadata": {},
   "outputs": [
    {
     "name": "stdout",
     "output_type": "stream",
     "text": [
      "SVC(C=1, cache_size=500000, class_weight=None, coef0=0,\n",
      "  decision_function_shape='ovo', degree=3, gamma=0.03, kernel='rbf',\n",
      "  max_iter=-1, probability=False, random_state=None, shrinking=True,\n",
      "  tol=0.001, verbose=False)\n"
     ]
    },
    {
     "data": {
      "text/plain": [
       "0.77790652761684043"
      ]
     },
     "execution_count": 44,
     "metadata": {},
     "output_type": "execute_result"
    }
   ],
   "source": [
    "from sklearn.model_selection import train_test_split\n",
    "from sklearn import svm\n",
    "\n",
    "X_train, X_test, y_train, y_test = train_test_split(X, y, test_size=0.6, random_state=42)\n",
    "clf = svm.SVC(decision_function_shape='ovo', cache_size=500000, coef0=0, C=1, gamma=0.03,  class_weight=None)\n",
    "print(clf)\n",
    "clf.fit(X_train, y_train) \n",
    "clf.score(X_test, y_test)"
   ]
  },
  {
   "cell_type": "code",
   "execution_count": 47,
   "metadata": {},
   "outputs": [],
   "source": [
    "# USING ALL ACCELERATION TRIALS \n",
    "from sklearn.feature_extraction import DictVectorizer\n",
    "from sklearn.preprocessing import LabelEncoder\n",
    "import numpy as np\n",
    "\n",
    "acceleration_trials = all_trials[accelcols + ['trial_type', 'subject', 'trial_subtype', 'trial_num', 'time_datetime']]\n",
    "acceleration_trials = acceleration_trials.dropna(axis=0, how='any')\n",
    "X = acceleration_trials.drop(['trial_type', 'subject', 'trial_subtype', 'trial_num', 'time_datetime'], axis=1)\n",
    "y = acceleration_trials['trial_type'].values\n",
    "le = LabelEncoder()\n",
    "le.fit(['ADLs', 'Falls', 'Near_Falls'])\n",
    "y = le.transform(y)\n",
    "v = DictVectorizer(sparse=False)\n",
    "X = X.values\n",
    "for i in range(len(y)) :\n",
    "    if y[i] == 1 :\n",
    "        y[i] = 0\n",
    "    if y[i] == 2 :\n",
    "        y[i] = 1"
   ]
  },
  {
   "cell_type": "code",
   "execution_count": 48,
   "metadata": {},
   "outputs": [
    {
     "name": "stdout",
     "output_type": "stream",
     "text": [
      "SVC(C=1, cache_size=500000, class_weight=None, coef0=0,\n",
      "  decision_function_shape='ovo', degree=3, gamma=0.03, kernel='rbf',\n",
      "  max_iter=-1, probability=False, random_state=None, shrinking=True,\n",
      "  tol=0.001, verbose=False)\n"
     ]
    },
    {
     "data": {
      "text/plain": [
       "0.81189648512939361"
      ]
     },
     "execution_count": 48,
     "metadata": {},
     "output_type": "execute_result"
    }
   ],
   "source": [
    "from sklearn.model_selection import train_test_split\n",
    "from sklearn import svm\n",
    "\n",
    "X_train, X_test, y_train, y_test = train_test_split(X, y, test_size=0.6, random_state=42)\n",
    "clf = svm.SVC(decision_function_shape='ovo', cache_size=500000, coef0=0, C=1, gamma=0.03,  class_weight=None)\n",
    "print(clf)\n",
    "clf.fit(X_train, y_train) \n",
    "clf.score(X_test, y_test)"
   ]
  },
  {
   "cell_type": "code",
   "execution_count": null,
   "metadata": {
    "collapsed": true
   },
   "outputs": [],
   "source": []
  }
 ],
 "metadata": {
  "kernelspec": {
   "display_name": "Python 3",
   "language": "python",
   "name": "python3"
  },
  "language_info": {
   "codemirror_mode": {
    "name": "ipython",
    "version": 3
   },
   "file_extension": ".py",
   "mimetype": "text/x-python",
   "name": "python",
   "nbconvert_exporter": "python",
   "pygments_lexer": "ipython3",
   "version": "3.5.0"
  }
 },
 "nbformat": 4,
 "nbformat_minor": 2
}
