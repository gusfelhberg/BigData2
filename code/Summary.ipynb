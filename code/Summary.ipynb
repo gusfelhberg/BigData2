{
 "cells": [
  {
   "cell_type": "markdown",
   "metadata": {},
   "source": [
    "# Fall Detection using Wearable Sensor Data\n",
    "\n",
    "### Summary\n",
    "\n",
    "1. [Data Consolidation](data_consolidation.ipynb): Consolidates the original excel files, includes some implicit features (feature enginnering) and create a metadata dataframe.\n",
    "2. [Exploratory Data Analysis](exploratory_data_analysis.ipynb): General analysis of the dataset with comparison of the correlation of the features.\n",
    "3. Data Visualization\n",
    "    * [Jupyter Dashboard](dashboard.ipynb): Allows you to select the type, subject, sensor and measurement to plot all the readings from the three axis.\n",
    "    * [Flask Application](http://0.0.0.0:5000): Interative visualization developed with Flask using DC.js, D3.js and crossfilter.js to compare the trial results using the three axis and the resultant readings. To run this application, read the README.md located in the /code/dashboard folder.\n",
    "    * [Data for Flask Dashboard](data_for_flask_dashboard.ipynb): Notebook to prepare the data to be used in the dashboard developed using Flask.\n",
    "4. [Machine Learning Models](Machine Learning/mlfull.ipynb): \n",
    "5. Streaming\n",
    "\n"
   ]
  },
  {
   "cell_type": "code",
   "execution_count": null,
   "metadata": {
    "collapsed": true
   },
   "outputs": [],
   "source": []
  }
 ],
 "metadata": {
  "kernelspec": {
   "display_name": "Python 3",
   "language": "python",
   "name": "python3"
  },
  "language_info": {
   "codemirror_mode": {
    "name": "ipython",
    "version": 3
   },
   "file_extension": ".py",
   "mimetype": "text/x-python",
   "name": "python",
   "nbconvert_exporter": "python",
   "pygments_lexer": "ipython3",
   "version": "3.6.3"
  }
 },
 "nbformat": 4,
 "nbformat_minor": 2
}
