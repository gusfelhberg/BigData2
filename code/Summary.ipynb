{
 "cells": [
  {
   "cell_type": "markdown",
   "metadata": {},
   "source": [
    "# Fall Detection using Wearable Sensor Data\n",
    "\n",
    "### Summary\n",
    "\n",
    "1. [Data Consolidation](data_consolidation.ipynb): Consolidates the original excel files, includes some implicit features (feature enginnering) and create a metadata dataframe. Please note Data consolidation takes a longer time and is necessary for other part of the program. To speed up the process we uploaded the consolidated data in AWS S3 which can be dowloaded and unzipped inside the data folder to speed up the process. Please [click here](https://s3-us-west-2.amazonaws.com/storage-733/Additional_Data_File.zip) to download the additional files.\n",
    "2. [Exploratory Data Analysis](exploratory_data_analysis.ipynb): General analysis of the dataset with comparison of the correlation of the features.\n",
    "3. Data Visualization\n",
    "    * [Jupyter Dashboard](dashboard.ipynb): Allows you to select the type, subject, sensor and measurement to plot all the readings from the three axis.\n",
    "    * [Flask Application](http://0.0.0.0:5000): Interative visualization developed with Flask using DC.js, D3.js and crossfilter.js to compare the trial results using the three axis and the resultant readings. To run this application, read the README.md located in the /code/dashboard folder.\n",
    "    * [Data for Flask Dashboard](data_for_flask_dashboard.ipynb): Notebook to prepare the data to be used in the dashboard developed using Flask.\n",
    "4. [Machine Learning Models](Machine Learning/mlfull.ipynb): Various machine learning approach we took to train the model.\n",
    "5. [Real time Fall Detection](Machine Learning/real_time_server/Real_Time_Detection_Simulation.ipynb): Simulate how a real time fall detection scenario can happen by calling our pretrained model deployed in AWS.\n",
    "\n"
   ]
  },
  {
   "cell_type": "code",
   "execution_count": null,
   "metadata": {
    "collapsed": true
   },
   "outputs": [],
   "source": []
  }
 ],
 "metadata": {
  "kernelspec": {
   "display_name": "Python 3",
   "language": "python",
   "name": "python3"
  },
  "language_info": {
   "codemirror_mode": {
    "name": "ipython",
    "version": 3
   },
   "file_extension": ".py",
   "mimetype": "text/x-python",
   "name": "python",
   "nbconvert_exporter": "python",
   "pygments_lexer": "ipython3",
   "version": "3.6.3"
  }
 },
 "nbformat": 4,
 "nbformat_minor": 2
}
