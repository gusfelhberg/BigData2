{
 "cells": [
  {
   "cell_type": "markdown",
   "metadata": {},
   "source": [
    "# Fall Detection using Wearable Sensor Data\n",
    "\n",
    "\n",
    "#### Introduction\n",
    "\n",
    "\n",
    "\n",
    "#### Files format\n",
    "\n",
    "(small description of the content of the files, descriptions of the acronyms, etc)\n",
    "\n",
    "\n",
    "\n",
    "\n",
    "### Summary\n",
    "\n",
    "1. [Data Consolidation](data_consolidation.ipynb): Consolidates the original excel files, includes some implicit features (feature enginnering) and create a metadata dataframe.\n",
    "2. [Exploratory Data Analysis](exploratory_data_analysis.ipynb): General analysis of the dataset with comparison of the correlation of the features.\n",
    "3. Data Visualization\n",
    "    * [Dashboard 1](dashboard_full_trial.ipynb): Allows you to select the type, subject, sensor and measurement to plot all the readings from the three axis.\n",
    "    * [Dashboard 2](dashboard_comparison.ipynb): Allows you to compare up to three trial results using any combination of type, subtype, sensor, trial number and subject.\n",
    "    * [Application](http://0.0.0.0:5000): Interative visualization generated using DC.js to compare the trial results using the three axis and the resultant readings.\n",
    "4. [Machine Learning Models](Machine Learning/mlfull.ipynb): \n",
    "5. Streaming\n",
    "\n"
   ]
  },
  {
   "cell_type": "code",
   "execution_count": null,
   "metadata": {},
   "outputs": [],
   "source": []
  }
 ],
 "metadata": {
  "kernelspec": {
   "display_name": "Python 3",
   "language": "python",
   "name": "python3"
  },
  "language_info": {
   "codemirror_mode": {
    "name": "ipython",
    "version": 3
   },
   "file_extension": ".py",
   "mimetype": "text/x-python",
   "name": "python",
   "nbconvert_exporter": "python",
   "pygments_lexer": "ipython3",
   "version": "3.6.4"
  }
 },
 "nbformat": 4,
 "nbformat_minor": 2
}
