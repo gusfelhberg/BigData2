{
 "cells": [
  {
   "cell_type": "markdown",
   "metadata": {},
   "source": [
    "# Final Project: Big Data Science"
   ]
  },
  {
   "cell_type": "markdown",
   "metadata": {},
   "source": [
    "## Project Overview"
   ]
  },
  {
   "cell_type": "markdown",
   "metadata": {},
   "source": [
    "In the final project, We hope everyone can think yourself as a real-world data scientist. Your goal is to come up with some interesting questions, find right datasets, and implement a data-science pipeline to answer those questions. In order to achieve this, please follow the following steps:\n",
    "\n",
    "1. Form a data-science team of **2-3** persons. Note that single-person group is not allowed since it is important for data scientisits to know how to collaborate with others.\n",
    "2. Pick up a project idea and write a proposal\n",
    "3. Give a 5-min Milestone Presentation\n",
    "5. Present your project in the poster session\n",
    "6. Submit your code, video, and report \n"
   ]
  },
  {
   "cell_type": "markdown",
   "metadata": {},
   "source": [
    "## Todo List"
   ]
  },
  {
   "cell_type": "markdown",
   "metadata": {},
   "source": [
    "The following table summarizes the TODO list of the final project.  "
   ]
  },
  {
   "cell_type": "markdown",
   "metadata": {},
   "source": [
    "\n",
    "\n",
    "ID |   <center>What</center>  |    <center>When</center>  |  <center>Where</center>\n",
    "-- | ------------------------ | ------------------------- | ------------------\n",
    "1  |  Proposal            |  Monday 02/12 at 11:59 PM  |  Submit the filled [form](https://docs.google.com/document/d/1DV-4Zyd0WJVqdH6IpIz2De0FUq-OsCtSytcz6Zn7Gro/edit?usp=sharing) to the CourSys activity [Initial Plan](https://coursys.sfu.ca/2018sp-cmpt-733-g1/+plan/) \n",
    "2  |  Milestone Presentation |  Monday 03/05 at 08:00 AM <br/> Monday 03/05 at 09:30 AM |  Submit your slides to the CourSys activity [Presentation](https://courses.cs.sfu.ca/2018sp-cmpt-733-g1/+slides/) <br / > Give a talk in TASC 1 9204 West\n",
    "3  |  Poster Session             |  Monday 04/09 at 8:00 AM <br / > Monday 04/09 at 9:30 AM | Submit your poster to the CourSys activity [Poster Session](https://courses.cs.sfu.ca/2018sp-cmpt-733-g1/+poster/) <br />Present your post at the SFU Big Data Hub\n",
    "4  |  Final Report            |  Monday  04/16 at 11:59 PM | Submit your code, video, and report to the CourSys activity [Final Report](https://coursys.sfu.ca/2018sp-cmpt-733-g1/+final/)\n",
    "                                                              \n",
    "\n"
   ]
  },
  {
   "cell_type": "markdown",
   "metadata": {},
   "source": [
    "## Project Ideas"
   ]
  },
  {
   "cell_type": "markdown",
   "metadata": {},
   "source": [
    "### Choose from what we provide\n",
    "We provide a list of project ideas collected from various sources (companies, SFU profs, previous cohorts). These projects are super cool! I highly recommend you to read each of them carefully. Even if you end up not choosing any one, you can still get to know what real data-science problems that industry and academia are working on.\n",
    "\n",
    "1. [A prototype Canadian Natural Hazards Database](./A-prototype-Canadian-Natural-Hazards-Database.pdf)\n",
    "2. [Automated Feature Detection of Aerial Imagery from South Pacific](./Automated-Feature-Detection-of-Aerial-Imagery-from-South-Pacific.pdf)\n",
    "3. [Fall Detection using wearable sensor data](./Fall-Detection-using-wearable-sensor-data.pdf)\n",
    "4. [Machine learning to detect misstated financial statements](./Machine-learning-to-detect-misstated-financial-statements.pdf)\n",
    "5. [Predicting Soccer games and tournaments](./Predicting-Soccer-games-and-tournaments.pdf)\n",
    "6. [Predictive Maintenance on IOT devices](./Predictive-Maintenance-on-IOT-devices.pdf)\n",
    "7. [Property value prediction with market data](./Property-value-prediction-with-market-data.pdf)\n",
    "8. [Topic modeling and visualization of news comments](./Topic-modeling-and-visualization-of-news-comments.pdf)"
   ]
  },
  {
   "cell_type": "markdown",
   "metadata": {},
   "source": [
    "If you decide to choose from the above list, please put your names [here](https://docs.google.com/spreadsheets/d/1684jahxLiF3jNc1cM89kIxQ48xgDaEwl8OIXkMdSooA/edit?usp=sharing) and read the followings carefully. \n",
    "\n",
    "* Without our permission, each project can be chosen by at most 2 teams. \n",
    "* You get a mentor! See the contact person in the proposal. They have all agreed to help with your project. Please contact them if you need any help.\n",
    "* If you think that the project is too big and cannot be completed within two months, please discuss with your mentor to reduce the workload, or collaborate with the other team to split the workload.\n",
    "\n"
   ]
  },
  {
   "cell_type": "markdown",
   "metadata": {},
   "source": [
    "### Come up with your own one"
   ]
  },
  {
   "cell_type": "markdown",
   "metadata": {},
   "source": [
    "If you find that the above project ideas are not interesting to you, please feel free to come up with your own one. To evaluate whether your project is good or not, please ask yourself the following three questions:\n",
    "\n",
    "1. Is it important? (i.e., what impacts can your project make?)\n",
    "2. Is it challenging? (i.e., does a naive solution work very well?)\n",
    "3. What can I learn by doing the project? (i.e., new tools, new techniques, new domain knowledge, new methodologies). \n",
    "\n",
    "A good project should be important, be challenging, and be able to push you to learn something that you don't know before. \n",
    "\n",
    "In addition, the project has to meet at least one of the following rules:\n",
    "\n",
    "1. Find data from at least two sources and integrate them together.\n",
    "2. Use Natural Language Processing techniques to analyze unstructured text data\n",
    "3. Use Computer Vison techniques to analyze image or video data\n",
    "4. Data size is larger than 500 GB\n",
    "5. Use D3 to make some visualizations\n",
    "\n",
    "Note that you need to conduct *deep analysis* on the data. By deep analysis, I mean you have to think deeply about your analysis results, and report some **insightful and reliable findings**. \n",
    "\n"
   ]
  },
  {
   "cell_type": "markdown",
   "metadata": {},
   "source": [
    "## Step-by-step Instruction"
   ]
  },
  {
   "cell_type": "markdown",
   "metadata": {},
   "source": [
    "### 1. Proposal (5 points)"
   ]
  },
  {
   "cell_type": "markdown",
   "metadata": {},
   "source": [
    "* Create your data-science team in [CourSys](https://coursys.sfu.ca/2018sp-cmpt-733-g1/groups/)\n",
    "* Download the Initial Plan [form template](https://docs.google.com/document/d/1DV-4Zyd0WJVqdH6IpIz2De0FUq-OsCtSytcz6Zn7Gro/edit?usp=sharing) \n",
    "* Submit the filled form to the CourSys activity Initial Plan"
   ]
  },
  {
   "cell_type": "markdown",
   "metadata": {},
   "source": [
    "### 2. Milestone Presentation (10 points)"
   ]
  },
  {
   "cell_type": "markdown",
   "metadata": {},
   "source": [
    "Communication skills are super important for data scientists. Please use this opportunity to practice your communication skills.\n",
    "\n",
    "You can think of this presentation as a mid-term report of your project. Your presentation should consist of three parts:\n",
    "\n",
    "1. <u>Motivation (2)</u>. Why is it an important project? Why is it challenging?  \n",
    "2. <u>Progress Report (2)</u>. What have you done so far? Is it on schedule?\n",
    "3. <u>Future work (2)</u>. What do you plan to do next? What is the detailed schedule of the remaining part of the project?\n",
    "\n",
    "\n",
    "Imagine your manager (who knows little about the technical part of data science) is sitting in the audience, you need to explain your complex project to your manager in a simple way, and make her/him feel excited about it. \n",
    "\n",
    "* <u>Did you convey complex information in a simple way? (2)</u>\n",
    "* <u>Did you excite and motivate the audience? (2)</u>\n",
    "\n",
    "\n",
    "\n",
    "\n",
    "**Requirements**\n",
    "\n",
    "* Search \"how to give a good talk\" in Google. You will find a lot of good advice. Use them to improve your presentation. \n",
    "\n",
    "* You have to do a couple of practice talks in front of your team members before the presentation day. \n",
    "\n",
    "* EVERYONE should get prepared for the presentation. In class, we will randomly pick up a student from each team and ask him/her to give a talk. \n",
    "\n",
    "* The length of a talk should be 5 mins! Pay attention to the time. If you ended up spending x mins, your team grade would be deducted by `|x-5|` points (rounding). \n"
   ]
  },
  {
   "cell_type": "markdown",
   "metadata": {},
   "source": [
    "### 3. Poster Session (20 points)"
   ]
  },
  {
   "cell_type": "markdown",
   "metadata": {},
   "source": [
    "This is the show time! Make a poster to present your data product. Please make your poster look as professional as possible. Here are a few things that you can put on the poster (10 points):\n",
    "\n",
    "* Why do you do this project?\n",
    "\n",
    "* What questions do you try to answer?  \n",
    "\n",
    "* What's your methodology to get the answers? \n",
    "\n",
    "* What datasets/tools do you use? \n",
    "\n",
    "* What's your data-science pipeline like?\n",
    "\n",
    "* Why is your solution good? Why does your result make sense?\n",
    "\n",
    "* What's your data product?\n",
    "\n",
    "* What have you learnt through the project? \n",
    "\n",
    "* What do you plan to do if you have more time? \n",
    "\n",
    "\n",
    "\n",
    "\n",
    "There should be tables available if you would like to do a demo. During the poster session (10 points), you will be given 5 mins to present your poster, and we may ask some questions during your presentation. \n",
    "\n",
    "**Submission**\n",
    "\n",
    "The poster session is scheduled at 10:00 AM on Monday 04/09. Please upload your poster to the CourSys activity Poster before 08:00 AM.\n",
    "\n",
    "\n"
   ]
  },
  {
   "cell_type": "markdown",
   "metadata": {},
   "source": [
    "### 4. Video & Code & Report (30 points)"
   ]
  },
  {
   "cell_type": "markdown",
   "metadata": {},
   "source": [
    "** Code (10 points) **\n",
    "\n",
    "Like CMPT 732, you must use a Git repository for your project. The department's [GitLab](https://coursys.sfu.ca/2017fa-cmpt-732-g2/pages/GitLab) server is a good way to get one (instructions at that link). Group members must commit their own contributions to the repo. You are encouraged to publicize and open-source your work on [GitHub](https://github.com/) or similar. \n",
    "\n",
    "In your repository, please include a file README.txt (or README.md if you prefer) indicating how we can actually test your project as well as other notes about things we should look for. If you created some kind of web frontend, please include a URL in the README.md as well."
   ]
  },
  {
   "cell_type": "markdown",
   "metadata": {},
   "source": [
    "** Report (10 points)**\n",
    "\n",
    "You will submit a report of at most 5 pages giving an overview of your project. \n",
    "\n",
    "* <u> Project Title:</u> Come up with an attractive project title (see this [page](https://blog.hubspot.com/marketing/a-simple-formula-for-writing-kick-ass-titles-ht#sm.0000072w4nzrqmfn2vwd6y30afmyo) for some tips);\n",
    "* <u>Motivation and Background:</u> Who cares about this project? Any related work?  \n",
    "* <u>Problem Statement:</u> What questions do you want to answer? Why are they challenging?    \n",
    "* <u>Data Science Pipeline:</u> What's your data-science pipeline like? Describe each component in detail.\n",
    "* <u>Methodology:</u> What tools or analysis methods did you use? Why did you choose them? How did you apply them to tackling each problem? \n",
    "* <u>Evaluation:</u> Why is your solution good? Why does your result make sense? \n",
    "* <u>Data Product:</u> What's your data product? Please demonstrate how it works.\n",
    "* <u>Lessons Learnt</u>: What did you learn from this project? \n",
    "* <u>Summary</u>: A high-level summary of your project. It should be self-contained and cover all the important aspects of your project.\n"
   ]
  },
  {
   "cell_type": "markdown",
   "metadata": {},
   "source": [
    "**Video (10 points)**\n",
    "\n",
    "Please make an attractive video to introduce your project. Here are some requirements:\n",
    "\n",
    "1. The video length should be no more than 3 mins. \n",
    "2. Explain why this is an important project\n",
    "3. List the questions you want to answer as well as the datasets you collected\n",
    "4. Give a high-level idea on how you use data science skills to answer those questions \n",
    "5. Need to show the conclusion of your project\n",
    "6. Put your contact information in the end of the video\n",
    "\n",
    "You can get some inspirations from [KDD 2017 Promotional Videos](https://www.youtube.com/watch?v=wSMaDSQjCG4&list=PLliTSxmRFGVPkvUZb3Q-DzvOgs20LOinA)."
   ]
  },
  {
   "cell_type": "markdown",
   "metadata": {},
   "source": [
    "**Submission**\n",
    "\n",
    "We will create a web page in the course website and put your projects there. On the page, we will put a project title, a project summary, and the three URLs that links to your codebase, video, and final report, respectvely. Please submit your project title, project summary, final report (PDF), code (URL), and video (Youtube URL) to the CourSys activity [Final Report](https://coursys.sfu.ca/2018sp-cmpt-733-g1/+final/).\n"
   ]
  }
 ],
 "metadata": {
  "kernelspec": {
   "display_name": "Python 2",
   "language": "python",
   "name": "python2"
  },
  "language_info": {
   "codemirror_mode": {
    "name": "ipython",
    "version": 2
   },
   "file_extension": ".py",
   "mimetype": "text/x-python",
   "name": "python",
   "nbconvert_exporter": "python",
   "pygments_lexer": "ipython2",
   "version": "2.7.11"
  }
 },
 "nbformat": 4,
 "nbformat_minor": 0
}