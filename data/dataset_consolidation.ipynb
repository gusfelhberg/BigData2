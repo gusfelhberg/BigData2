{
 "cells": [
  {
   "cell_type": "code",
   "execution_count": 2,
   "metadata": {
    "collapsed": true
   },
   "outputs": [],
   "source": [
    "import pandas as pd\n",
    "import numpy as np\n",
    "import matplotlib.pyplot as plt\n",
    "import glob, os\n",
    "import pickle\n",
    "%matplotlib inline"
   ]
  },
  {
   "cell_type": "markdown",
   "metadata": {},
   "source": [
    "### Files consolidation"
   ]
  },
  {
   "cell_type": "code",
   "execution_count": null,
   "metadata": {},
   "outputs": [],
   "source": [
    "# files_path = './data/IMU Dataset'\n",
    "# files = glob.glob(files_path)\n",
    "# folders = ['ADLs', 'Falls', 'Near_Falls']\n",
    "\n",
    "# df = pd.DataFrame()\n",
    "# for i in range(1,11):\n",
    "#     print('Subject: '+str(i))\n",
    "#     for folder in folders:\n",
    "#         print('-- Trial Type: '+str(folder))\n",
    "#         path = files_path+'/sub'+str(i)+'/'+str(folder)+'/*.xlsx'\n",
    "#         files = glob.glob(path)\n",
    "#         # create a list of dataframes, one for each file, and assign a column with the name of the file\n",
    "#         dfs = [pd.read_excel(fp).assign(FileName = os.path.basename(fp)) for fp in files]\n",
    "#         df_temp = pd.DataFrame()\n",
    "#         df_temp = pd.concat(dfs)\n",
    "#         df_temp['Subject'] = i\n",
    "#         df_temp['Trial Type'] = folder\n",
    "#         df = df.append(df_temp)"
   ]
  },
  {
   "cell_type": "code",
   "execution_count": 3,
   "metadata": {},
   "outputs": [],
   "source": [
    "# save the dataframe\n",
    "# pickle.dump(df, open(\"full_dataset.p\", \"wb\"))\n",
    "\n",
    "# load the dataframe\n",
    "df = pickle.load(open(\"full_dataset.p\", \"rb\"))"
   ]
  },
  {
   "cell_type": "code",
   "execution_count": 4,
   "metadata": {},
   "outputs": [
    {
     "data": {
      "text/plain": [
       "(1190369, 67)"
      ]
     },
     "execution_count": 4,
     "metadata": {},
     "output_type": "execute_result"
    }
   ],
   "source": [
    "df.shape"
   ]
  },
  {
   "cell_type": "code",
   "execution_count": 5,
   "metadata": {},
   "outputs": [
    {
     "data": {
      "text/plain": [
       "Index(['Time', 'r.ankle Acceleration X (m/s^2)',\n",
       "       'r.ankle Acceleration Y (m/s^2)', 'r.ankle Acceleration Z (m/s^2)',\n",
       "       'r.ankle Angular Velocity X (rad/s)',\n",
       "       'r.ankle Angular Velocity Y (rad/s)',\n",
       "       'r.ankle Angular Velocity Z (rad/s)', 'r.ankle Magnetic Field X (uT)',\n",
       "       'r.ankle Magnetic Field Y (uT)', 'r.ankle Magnetic Field Z (uT)',\n",
       "       'l.ankle Acceleration X (m/s^2)', 'l.ankle Acceleration Y (m/s^2)',\n",
       "       'l.ankle Acceleration Z (m/s^2)', 'l.ankle Angular Velocity X (rad/s)',\n",
       "       'l.ankle Angular Velocity Y (rad/s)',\n",
       "       'l.ankle Angular Velocity Z (rad/s)', 'l.ankle Magnetic Field X (uT)',\n",
       "       'l.ankle Magnetic Field Y (uT)', 'l.ankle Magnetic Field Z (uT)',\n",
       "       'r.thigh Acceleration X (m/s^2)', 'r.thigh Acceleration Y (m/s^2)',\n",
       "       'r.thigh Acceleration Z (m/s^2)', 'r.thigh Angular Velocity X (rad/s)',\n",
       "       'r.thigh Angular Velocity Y (rad/s)',\n",
       "       'r.thigh Angular Velocity Z (rad/s)', 'r.thigh Magnetic Field X (uT)',\n",
       "       'r.thigh Magnetic Field Y (uT)', 'r.thigh Magnetic Field Z (uT)',\n",
       "       'l.thigh Acceleration X (m/s^2)', 'l.thigh Acceleration Y (m/s^2)',\n",
       "       'l.thigh Acceleration Z (m/s^2)', 'l.thigh Angular Velocity X (rad/s)',\n",
       "       'l.thigh Angular Velocity Y (rad/s)',\n",
       "       'l.thigh Angular Velocity Z (rad/s)', 'l.thigh Magnetic Field X (uT)',\n",
       "       'l.thigh Magnetic Field Y (uT)', 'l.thigh Magnetic Field Z (uT)',\n",
       "       'head Acceleration X (m/s^2)', 'head Acceleration Y (m/s^2)',\n",
       "       'head Acceleration Z (m/s^2)', 'head Angular Velocity X (rad/s)',\n",
       "       'head Angular Velocity Y (rad/s)', 'head Angular Velocity Z (rad/s)',\n",
       "       'head Magnetic Field X (uT)', 'head Magnetic Field Y (uT)',\n",
       "       'head Magnetic Field Z (uT)', 'sternum Acceleration X (m/s^2)',\n",
       "       'sternum Acceleration Y (m/s^2)', 'sternum Acceleration Z (m/s^2)',\n",
       "       'sternum Angular Velocity X (rad/s)',\n",
       "       'sternum Angular Velocity Y (rad/s)',\n",
       "       'sternum Angular Velocity Z (rad/s)', 'sternum Magnetic Field X (uT)',\n",
       "       'sternum Magnetic Field Y (uT)', 'sternum Magnetic Field Z (uT)',\n",
       "       'waist Acceleration X (m/s^2)', 'waist Acceleration Y (m/s^2)',\n",
       "       'waist Acceleration Z (m/s^2)', 'waist Angular Velocity X (rad/s)',\n",
       "       'waist Angular Velocity Y (rad/s)', 'waist Angular Velocity Z (rad/s)',\n",
       "       'waist Magnetic Field X (uT)', 'waist Magnetic Field Y (uT)',\n",
       "       'waist Magnetic Field Z (uT)', 'FileName', 'Subject', 'Trial Type'],\n",
       "      dtype='object')"
      ]
     },
     "execution_count": 5,
     "metadata": {},
     "output_type": "execute_result"
    }
   ],
   "source": [
    "df.columns"
   ]
  },
  {
   "cell_type": "code",
   "execution_count": null,
   "metadata": {
    "collapsed": true
   },
   "outputs": [],
   "source": []
  }
 ],
 "metadata": {
  "kernelspec": {
   "display_name": "Python 3",
   "language": "python",
   "name": "python3"
  },
  "language_info": {
   "codemirror_mode": {
    "name": "ipython",
    "version": 3
   },
   "file_extension": ".py",
   "mimetype": "text/x-python",
   "name": "python",
   "nbconvert_exporter": "python",
   "pygments_lexer": "ipython3",
   "version": "3.6.2"
  }
 },
 "nbformat": 4,
 "nbformat_minor": 2
}
