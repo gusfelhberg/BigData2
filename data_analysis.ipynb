{
 "cells": [
  {
   "cell_type": "code",
   "execution_count": null,
   "metadata": {
    "collapsed": true
   },
   "outputs": [],
   "source": [
    "import pandas as pd\n",
    "import numpy as np\n",
    "import matplotlib.pyplot as plt\n",
    "import glob, os\n",
    "import pickle\n",
    "%matplotlib inline"
   ]
  },
  {
   "cell_type": "markdown",
   "metadata": {},
   "source": [
    "### Files consolidation"
   ]
  },
  {
   "cell_type": "code",
   "execution_count": null,
   "metadata": {},
   "outputs": [],
   "source": [
    "files_path = './data/IMU Dataset'\n",
    "files = glob.glob(files_path)\n",
    "folders = ['ADLs', 'Falls', 'Near_Falls']\n",
    "\n",
    "df = pd.DataFrame()\n",
    "for i in range(1,11):\n",
    "    print('Subject: '+str(i))\n",
    "    for folder in folders:\n",
    "        print('-- Trial Type: '+str(folder))\n",
    "        path = files_path+'/sub'+str(i)+'/'+str(folder)+'/*.xlsx'\n",
    "        files = glob.glob(path)\n",
    "        # create a list of dataframes, one for each file, and assign a column with the name of the file\n",
    "        dfs = [pd.read_excel(fp).assign(FileName = os.path.basename(fp)) for fp in files]\n",
    "        df_temp = pd.DataFrame()\n",
    "        df_temp = pd.concat(dfs)\n",
    "        df_temp['Subject'] = i\n",
    "        df_temp['Trial Type'] = folder\n",
    "        df = df.append(df_temp)"
   ]
  },
  {
   "cell_type": "code",
   "execution_count": null,
   "metadata": {},
   "outputs": [],
   "source": [
    "# save the dataframe\n",
    "pickle.dump(df, open(\"full_dataset.p\", \"wb\"))\n",
    "\n",
    "# load the dataframe\n",
    "#df = pickle.load(open(\"full_dataset.p\", \"rb\"))"
   ]
  },
  {
   "cell_type": "code",
   "execution_count": null,
   "metadata": {
    "collapsed": true
   },
   "outputs": [],
   "source": []
  }
 ],
 "metadata": {
  "kernelspec": {
   "display_name": "Python 3",
   "language": "python",
   "name": "python3"
  },
  "language_info": {
   "codemirror_mode": {
    "name": "ipython",
    "version": 3
   },
   "file_extension": ".py",
   "mimetype": "text/x-python",
   "name": "python",
   "nbconvert_exporter": "python",
   "pygments_lexer": "ipython3",
   "version": "3.6.2"
  }
 },
 "nbformat": 4,
 "nbformat_minor": 2
}
